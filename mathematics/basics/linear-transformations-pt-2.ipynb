{
 "cells": [
  {
   "cell_type": "markdown",
   "metadata": {},
   "source": [
    "# Linear Transformations Pt. 2"
   ]
  },
  {
   "cell_type": "markdown",
   "metadata": {},
   "source": [
    "20 August 2017 | Mathematics"
   ]
  },
  {
   "cell_type": "markdown",
   "metadata": {},
   "source": [
    "### Isometry"
   ]
  },
  {
   "cell_type": "markdown",
   "metadata": {},
   "source": [
    "An isometry, $f$, maps the points $(0, 0)$, $(1, 0)$ and $(0, 1)$ to the points $(2, 3)$, $(2, 2)$ and $(3, 3)$, respectively. "
   ]
  },
  {
   "cell_type": "markdown",
   "metadata": {},
   "source": [
    "To determine $f$ in the form $f(\\textbf{x}) = \\textbf{A}\\textbf{x} + \\textbf{a}$, we'll first note that the first column in $\\textbf{A}$ is equal to $b - a$, the second column in $\\textbf{A}$ is equal to $c - a$, and $\\textbf{a}$ is equal to the vector representation of $a$, whereas $a$, $b$, and $c$, are equal to the respective points $(2,3)$, $(2,2)$, and $(3,3)$"
   ]
  },
  {
   "cell_type": "code",
   "execution_count": 1,
   "metadata": {
    "collapsed": false
   },
   "outputs": [
    {
     "data": {
      "text/latex": [
       "\\begin{aligned} \\begin{array}{lclclcl}\n",
       "\n",
       "\\textbf{A}\n",
       "& = &\n",
       "\\left( \\begin{array}{cc} x_{b} - x_{a} & x_{c} - x_{a} \\\\ y_{b} - y_{a} & y_{c} - y_{a} \\\\ \\end{array}\\right)\n",
       "& = &\n",
       "\\left( \\begin{array}{cc} 2 - 2 & 3 - 2 \\\\ 2 - 3 & 3 - 3 \\\\ \\end{array}\\right)\n",
       "& = &\n",
       "\\left( \\begin{array}{cc} 0 & 1 \\\\ -1 & 0 \\\\ \\end{array}\\right)\n",
       "\n",
       "\\end{array} \\end{aligned}"
      ],
      "text/plain": [
       "<IPython.core.display.Latex object>"
      ]
     },
     "metadata": {},
     "output_type": "display_data"
    }
   ],
   "source": [
    "%%latex\n",
    "\\begin{aligned} \\begin{array}{lclclcl}\n",
    "\n",
    "\\textbf{A}\n",
    "& = &\n",
    "\\left( \\begin{array}{cc} x_{b} - x_{a} & x_{c} - x_{a} \\\\ y_{b} - y_{a} & y_{c} - y_{a} \\\\ \\end{array}\\right)\n",
    "& = &\n",
    "\\left( \\begin{array}{cc} 2 - 2 & 3 - 2 \\\\ 2 - 3 & 3 - 3 \\\\ \\end{array}\\right)\n",
    "& = &\n",
    "\\left( \\begin{array}{cc} 0 & 1 \\\\ -1 & 0 \\\\ \\end{array}\\right)\n",
    "\n",
    "\\end{array} \\end{aligned}"
   ]
  },
  {
   "cell_type": "markdown",
   "metadata": {},
   "source": [
    "As seen above, $\\textbf{A}$ is equal to $\\left(\\begin{smallmatrix} 0 & 1 \\\\ -1 & 0 \\\\ \\end{smallmatrix}\\right)$, and $\\textbf{a}$ is equal to $\\left(\\begin{smallmatrix} 2 \\\\ 3 \\\\ \\end{smallmatrix}\\right)$, hence $f(\\textbf{x}) = \\left(\\begin{smallmatrix} 0 & 1 \\\\ -1 & 0 \\\\ \\end{smallmatrix}\\right)\\textbf{x} + \\left(\\begin{smallmatrix} 2 \\\\ 3 \\\\ \\end{smallmatrix}\\right)$. "
   ]
  },
  {
   "cell_type": "markdown",
   "metadata": {},
   "source": [
    "### Finding fixed points"
   ]
  },
  {
   "cell_type": "markdown",
   "metadata": {},
   "source": [
    "To find the fixed points of $f$, we'll first note that $f\\left(\\frac{x}{y}\\right) = \\left(\\frac{x}{y}\\right)$, and then evaluate the equation $f(\\textbf{x})$, whereas $\\textbf{x}$ is equal to $\\left(\\frac{x}{y}\\right)$."
   ]
  },
  {
   "cell_type": "code",
   "execution_count": 2,
   "metadata": {
    "collapsed": false
   },
   "outputs": [
    {
     "data": {
      "text/latex": [
       "\\begin{aligned} \\begin{array}{lcl}\n",
       "\n",
       "\\left( \\begin{array}{c} x \\\\ y \\\\ \\end{array}\\right)\n",
       "& = &\n",
       "\\left( \\begin{array}{cc} 0 & 1 \\\\ -1 & 0 \\\\ \\end{array}\\right)\\left(\\begin{array}{c} x \\\\ y \\\\ \\end{array}\\right) + \\left(\\begin{array}{c} 2 \\\\ 3 \\\\ \\end{array}\\right)\n",
       "\\\\\n",
       "\\\\\n",
       "& = &\n",
       "\\left( \\begin{array}{c} y \\\\ -x \\\\ \\end{array}\\right) + \\left(\\begin{array}{c} 2 \\\\ 3 \\\\ \\end{array}\\right)\n",
       "\\\\\n",
       "\\\\\n",
       "& = &\n",
       "\\left( \\begin{array}{c} y + 2 \\\\ 3 - x \\\\ \\end{array}\\right)\n",
       "\n",
       "\\end{array} \\end{aligned}"
      ],
      "text/plain": [
       "<IPython.core.display.Latex object>"
      ]
     },
     "metadata": {},
     "output_type": "display_data"
    }
   ],
   "source": [
    "%%latex\n",
    "\\begin{aligned} \\begin{array}{lcl}\n",
    "\n",
    "\\left( \\begin{array}{c} x \\\\ y \\\\ \\end{array}\\right)\n",
    "& = &\n",
    "\\left( \\begin{array}{cc} 0 & 1 \\\\ -1 & 0 \\\\ \\end{array}\\right)\\left(\\begin{array}{c} x \\\\ y \\\\ \\end{array}\\right) + \\left(\\begin{array}{c} 2 \\\\ 3 \\\\ \\end{array}\\right)\n",
    "\\\\\n",
    "\\\\\n",
    "& = &\n",
    "\\left( \\begin{array}{c} y \\\\ -x \\\\ \\end{array}\\right) + \\left(\\begin{array}{c} 2 \\\\ 3 \\\\ \\end{array}\\right)\n",
    "\\\\\n",
    "\\\\\n",
    "& = &\n",
    "\\left( \\begin{array}{c} y + 2 \\\\ 3 - x \\\\ \\end{array}\\right)\n",
    "\n",
    "\\end{array} \\end{aligned}"
   ]
  },
  {
   "cell_type": "markdown",
   "metadata": {},
   "source": [
    "As seen above, $f\\left(\\frac{x}{y}\\right)$ can be represented as two simultaneous equations, whereas $x = y + 2$ and $y = 3 - x$, whereas solving for $x$ and $y$ gives the fixed points."
   ]
  },
  {
   "cell_type": "code",
   "execution_count": 3,
   "metadata": {
    "collapsed": false
   },
   "outputs": [
    {
     "data": {
      "text/latex": [
       "\\begin{aligned} \\begin{array}{lcl}\n",
       "\n",
       "y & = & 3 - (y + 2) \\\\ & = & \\frac{1}{2} \\\\ \\\\\n",
       "x & = & y + 2 \\\\ & = & \\frac{1}{2} + 2 \\\\ & = & \\frac{5}{2}\n",
       "\n",
       "\\end{array} \\end{aligned}"
      ],
      "text/plain": [
       "<IPython.core.display.Latex object>"
      ]
     },
     "metadata": {},
     "output_type": "display_data"
    }
   ],
   "source": [
    "%%latex\n",
    "\\begin{aligned} \\begin{array}{lcl}\n",
    "\n",
    "y & = & 3 - (y + 2) \\\\ & = & \\frac{1}{2} \\\\ \\\\\n",
    "x & = & y + 2 \\\\ & = & \\frac{1}{2} + 2 \\\\ & = & \\frac{5}{2}\n",
    "\n",
    "\\end{array} \\end{aligned}"
   ]
  },
  {
   "cell_type": "markdown",
   "metadata": {},
   "source": [
    "### Transformations about a point"
   ]
  },
  {
   "cell_type": "markdown",
   "metadata": {},
   "source": [
    "A transformation $k$ is the anticlockwise rotation through $\\frac{3\\pi}{2}$ about the point $(1, 2)$."
   ]
  },
  {
   "cell_type": "markdown",
   "metadata": {},
   "source": [
    "To find $k$, we'll first note that the rotation, $\\frac{3\\pi}{2}$, can be represented as $\n",
    "\\left(\n",
    "\\begin{smallmatrix}\n",
    "0 & 1 \\\\\n",
    "-1 & 0 \\\\\n",
    "\\end{smallmatrix}\n",
    "\\right)\n",
    "$ and the point $(1,2)$ as $\n",
    "\\left(\n",
    "\\begin{smallmatrix}\n",
    "1 \\\\\n",
    "2 \\\\\n",
    "\\end{smallmatrix}\n",
    "\\right)\n",
    "$, hence $\n",
    "g(\\textbf{x})\n",
    "= \n",
    "\\left(\n",
    "\\begin{smallmatrix}\n",
    "0 & 1 \\\\\n",
    "-1 & 0 \\\\\n",
    "\\end{smallmatrix}\n",
    "\\right)\n",
    "\\textbf{x}\n",
    "$, $\n",
    "h(\\textbf{x})\n",
    "=\n",
    "\\textbf{x} - \n",
    "\\left(\n",
    "\\begin{smallmatrix}\n",
    "1 \\\\\n",
    "2 \\\\\n",
    "\\end{smallmatrix}\n",
    "\\right)\n",
    "$, and $\n",
    "h^{-1}(\\textbf{x})\n",
    "= \n",
    "\\textbf{x} + \n",
    "\\left(\n",
    "\\begin{smallmatrix}\n",
    "1 \\\\\n",
    "2 \\\\\n",
    "\\end{smallmatrix}\n",
    "\\right)\n",
    "$, then evaluate the composition $h^{-1}\\left(g\\left(h(\\textbf{x})\\right)\\right)$."
   ]
  },
  {
   "cell_type": "code",
   "execution_count": 4,
   "metadata": {
    "collapsed": false
   },
   "outputs": [
    {
     "data": {
      "text/latex": [
       "\\begin{aligned} \\begin{array}{lcl}\n",
       "\n",
       "h^{-1} \\left(g \\left(\\textbf{x} - \\left(\\begin{array}{c} 1 \\\\ 2 \\\\ \\end{array} \\right)\\right)\\right) \n",
       "& = & \n",
       "h^{-1} \\left( \\left(\\begin{array}{cc} 0 & 1 \\\\ -1 & 0 \\\\ \\end{array} \\right)\\left(\\textbf{x} - \\left(\\begin{array}{c} 1 \\\\ 2 \\\\ \\end{array} \\right)\\right)\\right)\n",
       "\\\\\n",
       "\\\\\n",
       "& = &\n",
       "h^{-1} \\left( \\left(\\begin{array}{cc} 0 & 1 \\\\ -1 & 0 \\\\ \\end{array} \\right)\\textbf{x} + \\left(\\begin{array}{c} 2 \\\\ 1 \\\\ \\end{array}\\right)\\right) \n",
       "\\\\\n",
       "\\\\\n",
       "& = &\n",
       "\\left(\\begin{array}{cc} 0 & 1 \\\\ -1 & 0 \\\\ \\end{array}\\right)\\textbf{x} + \\left(\\begin{array}{c} 2 \\\\ 1 \\\\ \\end{array}\\right) + \\left( \\begin{array}{c} 1 \\\\ 2 \\\\ \\end{array}\\right)\n",
       "\\\\\n",
       "\\\\\n",
       "& = &\n",
       "\\left( \\begin{array}{cc} 0 & 1 \\\\ -1 & 0 \\\\ \\end{array}\\right)\\textbf{x} + \\left( \\begin{array}{c} 3 \\\\ 3 \\\\ \\end{array}\\right)\n",
       "\n",
       "\\end{array} \\end{aligned}"
      ],
      "text/plain": [
       "<IPython.core.display.Latex object>"
      ]
     },
     "metadata": {},
     "output_type": "display_data"
    }
   ],
   "source": [
    "%%latex\n",
    "\\begin{aligned} \\begin{array}{lcl}\n",
    "\n",
    "h^{-1} \\left(g \\left(\\textbf{x} - \\left(\\begin{array}{c} 1 \\\\ 2 \\\\ \\end{array} \\right)\\right)\\right) \n",
    "& = & \n",
    "h^{-1} \\left( \\left(\\begin{array}{cc} 0 & 1 \\\\ -1 & 0 \\\\ \\end{array} \\right)\\left(\\textbf{x} - \\left(\\begin{array}{c} 1 \\\\ 2 \\\\ \\end{array} \\right)\\right)\\right)\n",
    "\\\\\n",
    "\\\\\n",
    "& = &\n",
    "h^{-1} \\left( \\left(\\begin{array}{cc} 0 & 1 \\\\ -1 & 0 \\\\ \\end{array} \\right)\\textbf{x} + \\left(\\begin{array}{c} 2 \\\\ 1 \\\\ \\end{array}\\right)\\right) \n",
    "\\\\\n",
    "\\\\\n",
    "& = &\n",
    "\\left(\\begin{array}{cc} 0 & 1 \\\\ -1 & 0 \\\\ \\end{array}\\right)\\textbf{x} + \\left(\\begin{array}{c} 2 \\\\ 1 \\\\ \\end{array}\\right) + \\left( \\begin{array}{c} 1 \\\\ 2 \\\\ \\end{array}\\right)\n",
    "\\\\\n",
    "\\\\\n",
    "& = &\n",
    "\\left( \\begin{array}{cc} 0 & 1 \\\\ -1 & 0 \\\\ \\end{array}\\right)\\textbf{x} + \\left( \\begin{array}{c} 3 \\\\ 3 \\\\ \\end{array}\\right)\n",
    "\n",
    "\\end{array} \\end{aligned}"
   ]
  },
  {
   "cell_type": "markdown",
   "metadata": {},
   "source": [
    "As seen above, the transformation $k$, in the form $f(\\textbf{x}) = \\textbf{A}\\textbf{x} + \\textbf{a}$, is equal to $\n",
    "\\left(\n",
    "\\begin{smallmatrix}\n",
    "0 & 1 \\\\\n",
    "-1 & 0 \\\\\n",
    "\\end{smallmatrix}\n",
    "\\right)\n",
    "\\textbf{x}\n",
    "+\n",
    "\\left(\n",
    "\\begin{smallmatrix}\n",
    "3 \\\\\n",
    "3 \\\\\n",
    "\\end{smallmatrix}\n",
    "\\right)\n",
    "$."
   ]
  },
  {
   "cell_type": "code",
   "execution_count": null,
   "metadata": {
    "collapsed": true
   },
   "outputs": [],
   "source": []
  },
  {
   "cell_type": "markdown",
   "metadata": {},
   "source": [
    "<i>Notebook by <a href=\"https://www.michaelsjoeberg.com\">Michael Sjoeberg</a>, updated 21 August 2017</i>."
   ]
  }
 ],
 "metadata": {
  "anaconda-cloud": {},
  "kernelspec": {
   "display_name": "Python [Root]",
   "language": "python",
   "name": "Python [Root]"
  },
  "language_info": {
   "codemirror_mode": {
    "name": "ipython",
    "version": 2
   },
   "file_extension": ".py",
   "mimetype": "text/x-python",
   "name": "python",
   "nbconvert_exporter": "python",
   "pygments_lexer": "ipython2",
   "version": "2.7.12"
  }
 },
 "nbformat": 4,
 "nbformat_minor": 0
}
