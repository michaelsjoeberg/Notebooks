{
 "cells": [
  {
   "cell_type": "markdown",
   "metadata": {},
   "source": [
    "# Integration: Partial Fraction Expansion"
   ]
  },
  {
   "cell_type": "markdown",
   "metadata": {},
   "source": [
    "21 August 2017 | Mathematics"
   ]
  },
  {
   "cell_type": "markdown",
   "metadata": {},
   "source": [
    "### Rational expressions"
   ]
  },
  {
   "cell_type": "markdown",
   "metadata": {
    "collapsed": true
   },
   "source": [
    "To find a partial fraction expansion of a rational expression, $\\frac{4x^{3} + 6x^{2} - 38x + 26}{x^{2} + 2x - 8}$, we'll first find the quotient and remainder using polynomial long division."
   ]
  },
  {
   "cell_type": "code",
   "execution_count": 1,
   "metadata": {
    "collapsed": false
   },
   "outputs": [
    {
     "data": {
      "text/latex": [
       "\\begin{align} \\begin{array}{ll}\n",
       "\n",
       "\\begin{array}{l}\n",
       "\\\\\n",
       "x^{2} + 2x - 8 \\\\\n",
       "\\\\\n",
       "\\\\\n",
       "\\\\\n",
       "\\\\\n",
       "\\end{array}\n",
       "&\n",
       "\\begin{array}{clclclcl}\n",
       "  &        &   &        & + & 4x  & - & 2  \\\\ \\hline\n",
       "  & 4x^{3} & + & 6x^{2} & - & 38x & + & 26 \\\\\n",
       "- & 4x^{3} & - & 8x^{2} & + & 32x &   &    \\\\ \\hline\n",
       "  &        & - & 2x^{2} & - & 6x  & + & 26 \\\\\n",
       "  &        & + & 2x^{2} & + & 4x  & + & 16 \\\\ \\hline\n",
       "  &        &   &        & - & 2x  & + & 10 \\\\\n",
       "\\end{array}\n",
       "\n",
       "\\end{array} \\end{align}"
      ],
      "text/plain": [
       "<IPython.core.display.Latex object>"
      ]
     },
     "metadata": {},
     "output_type": "display_data"
    }
   ],
   "source": [
    "%%latex\n",
    "\\begin{align} \\begin{array}{ll}\n",
    "\n",
    "\\begin{array}{l}\n",
    "\\\\\n",
    "x^{2} + 2x - 8 \\\\\n",
    "\\\\\n",
    "\\\\\n",
    "\\\\\n",
    "\\\\\n",
    "\\end{array}\n",
    "&\n",
    "\\begin{array}{clclclcl}\n",
    "  &        &   &        & + & 4x  & - & 2  \\\\ \\hline\n",
    "  & 4x^{3} & + & 6x^{2} & - & 38x & + & 26 \\\\\n",
    "- & 4x^{3} & - & 8x^{2} & + & 32x &   &    \\\\ \\hline\n",
    "  &        & - & 2x^{2} & - & 6x  & + & 26 \\\\\n",
    "  &        & + & 2x^{2} & + & 4x  & + & 16 \\\\ \\hline\n",
    "  &        &   &        & - & 2x  & + & 10 \\\\\n",
    "\\end{array}\n",
    "\n",
    "\\end{array} \\end{align}"
   ]
  },
  {
   "cell_type": "markdown",
   "metadata": {},
   "source": [
    "As seen above, the quotient, $q$, is equal to $4x - 2$, and the remainder, $r$, is equal to $-2x + 10$, hence the equation can be rearranged as $(4x - 2) + \\frac{(-2x + 10)}{x^{2} + 2x -8}$, we'll now note that $x^{2} + 2x -8$ can be factored, $(x + 4)(x - 2)$, and then find the partial fraction expansion by comparing coefficients."
   ]
  },
  {
   "cell_type": "code",
   "execution_count": 2,
   "metadata": {
    "collapsed": false
   },
   "outputs": [
    {
     "data": {
      "text/latex": [
       "\\begin{align} \\begin{array}{lclclcl}\n",
       "\n",
       "\\frac{-2x + 10}{(x + 4)(x - 2)}\n",
       "& = &\n",
       "\\frac{\\textrm{A}}{(x + 4)} + \\frac{\\textrm{B}}{(x - 2)}\n",
       "& \\Rightarrow &\n",
       "-2x + 10\n",
       "& = &\n",
       "\\textrm{A}(x - 2) + \\textrm{B}(x + 4) \\\\\n",
       "& & & & & = &\n",
       "\\textrm{A}x - 2\\textrm{A} + \\textrm{B}x + 4\\textrm{B} \\\\\n",
       "& & & & & = &\n",
       "(\\textrm{A} + \\textrm{B})x + (-2\\textrm{A} + 4\\textrm{B}) \\\\\n",
       "\n",
       "\\end{array} \\end{align}"
      ],
      "text/plain": [
       "<IPython.core.display.Latex object>"
      ]
     },
     "metadata": {},
     "output_type": "display_data"
    }
   ],
   "source": [
    "%%latex\n",
    "\\begin{align} \\begin{array}{lclclcl}\n",
    "\n",
    "\\frac{-2x + 10}{(x + 4)(x - 2)}\n",
    "& = &\n",
    "\\frac{\\textrm{A}}{(x + 4)} + \\frac{\\textrm{B}}{(x - 2)}\n",
    "& \\Rightarrow &\n",
    "-2x + 10\n",
    "& = &\n",
    "\\textrm{A}(x - 2) + \\textrm{B}(x + 4) \\\\\n",
    "& & & & & = &\n",
    "\\textrm{A}x - 2\\textrm{A} + \\textrm{B}x + 4\\textrm{B} \\\\\n",
    "& & & & & = &\n",
    "(\\textrm{A} + \\textrm{B})x + (-2\\textrm{A} + 4\\textrm{B}) \\\\\n",
    "\n",
    "\\end{array} \\end{align}"
   ]
  },
  {
   "cell_type": "markdown",
   "metadata": {},
   "source": [
    "As seen above, $\\textrm{A} + \\textrm{B}$ should be equal to $-2$ and $-2\\textrm{A} + 4\\textrm{B}$ should be equal to $10$, which gives A equal to $-3$ and B equal to $1$, hence the partial fraction expansion is $(4x - 2) - \\frac{3}{(x + 4)} + \\frac{1}{(x - 2)}$."
   ]
  },
  {
   "cell_type": "markdown",
   "metadata": {},
   "source": [
    "### Finding the integral"
   ]
  },
  {
   "cell_type": "markdown",
   "metadata": {},
   "source": [
    "To find the integral of this rational expression, we'll simply integrate its partial raction expansion, $(4x - 2) - \\frac{3}{(x + 4)} + \\frac{1}{(x - 2)}$."
   ]
  },
  {
   "cell_type": "code",
   "execution_count": 3,
   "metadata": {
    "collapsed": false
   },
   "outputs": [
    {
     "data": {
      "text/latex": [
       "\\begin{align} \\begin{array}{lcl}\n",
       "\n",
       "\\int \\left(\\frac{4x^{3} + 6x^{2} - 38x + 26}{x^{2} + 2x -8}\\right) \\textrm{dx} \n",
       "& = &\n",
       "\\int \\left( (4x - 2) - \\frac{3}{x + 4} + \\frac{1}{x - 2}\\right) \\textrm{dx} \\\\\n",
       "\\\\\n",
       "& = &\n",
       "\\int (4x - 2x) \\textrm{dx} - 3 \\int \\left(\\frac{1}{x + 4}\\right) \\textrm{dx} + \\int \\left(\\frac{1}{x - 2}\\right) \\textrm{dx} \\\\\n",
       "\\\\\n",
       "& = & (2x^2 - 2x) - 3 \\ln |x + 4| + \\ln |x - 2| + C \\\\\n",
       "\n",
       "\\end{array} \\end{align}"
      ],
      "text/plain": [
       "<IPython.core.display.Latex object>"
      ]
     },
     "metadata": {},
     "output_type": "display_data"
    }
   ],
   "source": [
    "%%latex\n",
    "\\begin{align} \\begin{array}{lcl}\n",
    "\n",
    "\\int \\left(\\frac{4x^{3} + 6x^{2} - 38x + 26}{x^{2} + 2x -8}\\right) \\textrm{dx} \n",
    "& = &\n",
    "\\int \\left( (4x - 2) - \\frac{3}{x + 4} + \\frac{1}{x - 2}\\right) \\textrm{dx} \\\\\n",
    "\\\\\n",
    "& = &\n",
    "\\int (4x - 2x) \\textrm{dx} - 3 \\int \\left(\\frac{1}{x + 4}\\right) \\textrm{dx} + \\int \\left(\\frac{1}{x - 2}\\right) \\textrm{dx} \\\\\n",
    "\\\\\n",
    "& = & (2x^2 - 2x) - 3 \\ln |x + 4| + \\ln |x - 2| + C \\\\\n",
    "\n",
    "\\end{array} \\end{align}"
   ]
  },
  {
   "cell_type": "markdown",
   "metadata": {},
   "source": [
    "As seen above, the integral is equal to $(2x^2 - 2x) - 3 \\ln |x + 4| + \\ln |x - 2| + C$, whereas $C$ is an arbitrary constant."
   ]
  },
  {
   "cell_type": "code",
   "execution_count": null,
   "metadata": {
    "collapsed": true
   },
   "outputs": [],
   "source": []
  },
  {
   "cell_type": "markdown",
   "metadata": {},
   "source": [
    "<i>Notebook by <a href=\"https://www.michaelsjoeberg.com\">Michael Sjoeberg</a>, updated 21 August 2017</i>."
   ]
  }
 ],
 "metadata": {
  "anaconda-cloud": {},
  "kernelspec": {
   "display_name": "Python [Root]",
   "language": "python",
   "name": "Python [Root]"
  },
  "language_info": {
   "codemirror_mode": {
    "name": "ipython",
    "version": 2
   },
   "file_extension": ".py",
   "mimetype": "text/x-python",
   "name": "python",
   "nbconvert_exporter": "python",
   "pygments_lexer": "ipython2",
   "version": "2.7.12"
  }
 },
 "nbformat": 4,
 "nbformat_minor": 0
}
