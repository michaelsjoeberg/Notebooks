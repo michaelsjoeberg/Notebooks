{
 "cells": [
  {
   "cell_type": "markdown",
   "metadata": {},
   "source": [
    "# The Quadratic Formula"
   ]
  },
  {
   "cell_type": "markdown",
   "metadata": {},
   "source": [
    "For $ax^{2}+bx+c=0$, the value of $x$ is given by:"
   ]
  },
  {
   "cell_type": "code",
   "execution_count": 1,
   "metadata": {
    "collapsed": false
   },
   "outputs": [
    {
     "data": {
      "text/latex": [
       "\\begin{aligned}\n",
       "\n",
       "x = \\frac{-b \\pm \\sqrt{b^{2} - 4ac}}{2a}\n",
       "\n",
       "\\end{aligned}"
      ],
      "text/plain": [
       "<IPython.core.display.Latex object>"
      ]
     },
     "metadata": {},
     "output_type": "display_data"
    }
   ],
   "source": [
    "%%latex\n",
    "\\begin{aligned}\n",
    "\n",
    "x = \\frac{-b \\pm \\sqrt{b^{2} - 4ac}}{2a}\n",
    "\n",
    "\\end{aligned}"
   ]
  },
  {
   "cell_type": "markdown",
   "metadata": {},
   "source": [
    "## Example problem 1"
   ]
  },
  {
   "cell_type": "markdown",
   "metadata": {},
   "source": [
    "<b>Solve:</b><br> $x^{2}+3x-4=0$"
   ]
  },
  {
   "cell_type": "code",
   "execution_count": 2,
   "metadata": {
    "collapsed": false
   },
   "outputs": [
    {
     "data": {
      "text/latex": [
       "\\begin{aligned}\n",
       "\n",
       "x &= \\frac{-\\left(3\\right) \\pm \\sqrt{\\left(3\\right)^{2} -4\\left(1\\right)\\left(-4\\right)}}{2\\left(1\\right)} \\\\\n",
       "\\ &= \\frac{-3 \\pm \\sqrt{9 + 16}}{2} \\\\\n",
       "\\ &= \\frac{-3 \\pm 5}{2} \\\\\n",
       "\n",
       "\\end{aligned}"
      ],
      "text/plain": [
       "<IPython.core.display.Latex object>"
      ]
     },
     "metadata": {},
     "output_type": "display_data"
    }
   ],
   "source": [
    "%%latex\n",
    "\\begin{aligned}\n",
    "\n",
    "x &= \\frac{-\\left(3\\right) \\pm \\sqrt{\\left(3\\right)^{2} -4\\left(1\\right)\\left(-4\\right)}}{2\\left(1\\right)} \\\\\n",
    "\\ &= \\frac{-3 \\pm \\sqrt{9 + 16}}{2} \\\\\n",
    "\\ &= \\frac{-3 \\pm 5}{2} \\\\\n",
    "\n",
    "\\end{aligned}"
   ]
  },
  {
   "cell_type": "markdown",
   "metadata": {
    "collapsed": true
   },
   "source": [
    "<b>Solutions:</b><br> $x_{1}=-4$<br>$x_{2}=1$"
   ]
  },
  {
   "cell_type": "markdown",
   "metadata": {},
   "source": [
    "## Example problem 2"
   ]
  },
  {
   "cell_type": "markdown",
   "metadata": {},
   "source": [
    "<b>Solve:</b><br>$2x^{2}-4x-3=0$"
   ]
  },
  {
   "cell_type": "code",
   "execution_count": 3,
   "metadata": {
    "collapsed": false
   },
   "outputs": [
    {
     "data": {
      "text/latex": [
       "\\begin{aligned}\n",
       "\n",
       "x &= \\frac{- \\left(-4\\right) \\pm \\sqrt{\\left(-4\\right)^{2} - 4\\left(2\\right)\\left(-3\\right)}}{2\\left(2\\right)} \\\\\n",
       "\\ &= \\frac{4 \\pm \\sqrt{16 + 24}}{4} \\\\\n",
       "\\ &= \\frac{4 \\pm \\sqrt{40}}{4} \\\\\n",
       "\\ &= \\frac{4 \\pm 2\\sqrt{10}}{4} \\\\\n",
       "\n",
       "\\end{aligned}"
      ],
      "text/plain": [
       "<IPython.core.display.Latex object>"
      ]
     },
     "metadata": {},
     "output_type": "display_data"
    }
   ],
   "source": [
    "%%latex\n",
    "\\begin{aligned}\n",
    "\n",
    "x &= \\frac{- \\left(-4\\right) \\pm \\sqrt{\\left(-4\\right)^{2} - 4\\left(2\\right)\\left(-3\\right)}}{2\\left(2\\right)} \\\\\n",
    "\\ &= \\frac{4 \\pm \\sqrt{16 + 24}}{4} \\\\\n",
    "\\ &= \\frac{4 \\pm \\sqrt{40}}{4} \\\\\n",
    "\\ &= \\frac{4 \\pm 2\\sqrt{10}}{4} \\\\\n",
    "\n",
    "\\end{aligned}"
   ]
  },
  {
   "cell_type": "markdown",
   "metadata": {},
   "source": [
    "<b>Solutions:</b><br>$x_{1}=\\frac{2-\\sqrt{10}}{2}$<br>$x_{2}=\\frac{2+\\sqrt{10}}{2}$"
   ]
  },
  {
   "cell_type": "code",
   "execution_count": null,
   "metadata": {
    "collapsed": true
   },
   "outputs": [],
   "source": []
  }
 ],
 "metadata": {
  "kernelspec": {
   "display_name": "Python [Root]",
   "language": "python",
   "name": "Python [Root]"
  },
  "language_info": {
   "codemirror_mode": {
    "name": "ipython",
    "version": 2
   },
   "file_extension": ".py",
   "mimetype": "text/x-python",
   "name": "python",
   "nbconvert_exporter": "python",
   "pygments_lexer": "ipython2",
   "version": "2.7.12"
  }
 },
 "nbformat": 4,
 "nbformat_minor": 0
}
