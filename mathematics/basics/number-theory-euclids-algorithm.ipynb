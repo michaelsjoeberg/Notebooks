{
 "cells": [
  {
   "cell_type": "markdown",
   "metadata": {},
   "source": [
    "# Number Theory: Euclid's algorithm"
   ]
  },
  {
   "cell_type": "markdown",
   "metadata": {},
   "source": [
    "21 August 2017 | Mathematics"
   ]
  },
  {
   "cell_type": "markdown",
   "metadata": {
    "collapsed": true
   },
   "source": [
    "### Euclid's algorithm"
   ]
  },
  {
   "cell_type": "markdown",
   "metadata": {},
   "source": [
    "Using Euclid's algorithm to find a multiplicative inverse of $15$ modulo $88$, and then backwards substitution."
   ]
  },
  {
   "cell_type": "code",
   "execution_count": 32,
   "metadata": {
    "collapsed": false
   },
   "outputs": [
    {
     "data": {
      "text/latex": [
       "\\begin{align} \\begin{array}{lcl}\n",
       "\n",
       "(88) & = & 5(15) + (13) \\\\\n",
       "(15) & = & 1(13) + (2) \\\\\n",
       "(13) & = & 6(2) + 1 \\\\\n",
       "\\\\\n",
       "1 \n",
       "& = & (13) - 6(2) \\\\\n",
       "& = & (13) - 6(15 - 13) \\\\\n",
       "& = & (88 - 5(15)) - 6(15 - (88 - 5(15))) \\\\\n",
       "& = & 7(88) - 41(15)\n",
       "\n",
       "\\end{array} \\end{align}"
      ],
      "text/plain": [
       "<IPython.core.display.Latex object>"
      ]
     },
     "metadata": {},
     "output_type": "display_data"
    }
   ],
   "source": [
    "%%latex\n",
    "\\begin{align} \\begin{array}{lcl}\n",
    "\n",
    "(88) & = & 5(15) + (13) \\\\\n",
    "(15) & = & 1(13) + (2) \\\\\n",
    "(13) & = & 6(2) + 1 \\\\\n",
    "\\\\\n",
    "1 \n",
    "& = & (13) - 6(2) \\\\\n",
    "& = & (13) - 6(15 - 13) \\\\\n",
    "& = & (88 - 5(15)) - 6(15 - (88 - 5(15))) \\\\\n",
    "& = & 7(88) - 41(15)\n",
    "\n",
    "\\end{array} \\end{align}"
   ]
  },
  {
   "cell_type": "markdown",
   "metadata": {},
   "source": [
    "As seen above, $15 \\cdot (-41) + 88 \\cdot 7$ is equal to $1$, whereas the least residue of $-41$ modulo $88$ is $47$, hence a multiplicative inverse, $v$, of $15$ modulo $88$ is $47$."
   ]
  },
  {
   "cell_type": "markdown",
   "metadata": {},
   "source": [
    "To show that $-3$ is a multiplicative inverse, $v$, of $17$ modulo $26$."
   ]
  },
  {
   "cell_type": "code",
   "execution_count": 33,
   "metadata": {
    "collapsed": false
   },
   "outputs": [
    {
     "data": {
      "text/latex": [
       "\\begin{align} \\begin{array}{lcl}\n",
       "\n",
       "(26) & = & 1(17) + (9) \\\\\n",
       "(17) & = & 1(9) + (8) \\\\\n",
       "(9) & = & 1(8) + 1 \\\\\n",
       "\\\\\n",
       "1\n",
       "& = & (9) - 1(8) \\\\\n",
       "& = & (9) - 1(17 - 9) \\\\\n",
       "& = & (26 - 17) - 1(17 - (26 - 17) \\\\\n",
       "& = & 1(26) - 3(17)\n",
       "\n",
       "\\end{array} \\end{align}"
      ],
      "text/plain": [
       "<IPython.core.display.Latex object>"
      ]
     },
     "metadata": {},
     "output_type": "display_data"
    }
   ],
   "source": [
    "%%latex\n",
    "\\begin{align} \\begin{array}{lcl}\n",
    "\n",
    "(26) & = & 1(17) + (9) \\\\\n",
    "(17) & = & 1(9) + (8) \\\\\n",
    "(9) & = & 1(8) + 1 \\\\\n",
    "\\\\\n",
    "1\n",
    "& = & (9) - 1(8) \\\\\n",
    "& = & (9) - 1(17 - 9) \\\\\n",
    "& = & (26 - 17) - 1(17 - (26 - 17) \\\\\n",
    "& = & 1(26) - 3(17)\n",
    "\n",
    "\\end{array} \\end{align}"
   ]
  },
  {
   "cell_type": "markdown",
   "metadata": {},
   "source": [
    "As seen above, $1 = 17 \\cdot (-3) + 26 \\cdot 2$, whereas $-3$ is a multiplicative inverse."
   ]
  },
  {
   "cell_type": "markdown",
   "metadata": {},
   "source": [
    "### Linear congruence"
   ]
  },
  {
   "cell_type": "markdown",
   "metadata": {},
   "source": [
    "To solve the linear congruence, $15x \\equiv 20$ (mod $88$), we'll notice that $x \\equiv 20v$ (mod $88$), and simply multiply $20$ with $v$, which is equal to $940$, then find the least residue."
   ]
  },
  {
   "cell_type": "code",
   "execution_count": 34,
   "metadata": {
    "collapsed": false
   },
   "outputs": [
    {
     "data": {
      "text/latex": [
       "\\begin{align} \\begin{array}{lcl}\n",
       "\n",
       "940 & = & 10(88) + 60 \\\\\n",
       "\n",
       "\\end{array} \\end{align}"
      ],
      "text/plain": [
       "<IPython.core.display.Latex object>"
      ]
     },
     "metadata": {},
     "output_type": "display_data"
    }
   ],
   "source": [
    "%%latex\n",
    "\\begin{align} \\begin{array}{lcl}\n",
    "\n",
    "940 & = & 10(88) + 60 \\\\\n",
    "\n",
    "\\end{array} \\end{align}"
   ]
  },
  {
   "cell_type": "markdown",
   "metadata": {},
   "source": [
    "As seen above, $x$ is congruent $940$, which is congruent $60$, whereas $15(60) = 10(88) + 20$."
   ]
  },
  {
   "cell_type": "markdown",
   "metadata": {},
   "source": [
    "### Highest common factor"
   ]
  },
  {
   "cell_type": "markdown",
   "metadata": {},
   "source": [
    "A linear congruence, $ax \\equiv b$ (mod $n$), e.g. $24x \\equiv 21$ (mod $88$), has no solutions if $b$ is not divisible with $d$, whereas $d$ is the highest common factor of $a$ and $n$."
   ]
  },
  {
   "cell_type": "code",
   "execution_count": 35,
   "metadata": {
    "collapsed": false
   },
   "outputs": [
    {
     "data": {
      "text/latex": [
       "\\begin{align} \\begin{array}{lcl}\n",
       "\n",
       "88 & = & 3(24) + 16 \\\\\n",
       "24 & = & 1(16) + 8 \\\\\n",
       "16 & = & 2(8) + 0\n",
       "\n",
       "\\end{array} \\end{align}"
      ],
      "text/plain": [
       "<IPython.core.display.Latex object>"
      ]
     },
     "metadata": {},
     "output_type": "display_data"
    }
   ],
   "source": [
    "%%latex\n",
    "\\begin{align} \\begin{array}{lcl}\n",
    "\n",
    "88 & = & 3(24) + 16 \\\\\n",
    "24 & = & 1(16) + 8 \\\\\n",
    "16 & = & 2(8) + 0\n",
    "\n",
    "\\end{array} \\end{align}"
   ]
  },
  {
   "cell_type": "markdown",
   "metadata": {},
   "source": [
    "To solve a linear congruence, $55x \\equiv 44$ (mod $88$), we'll first find the highest common factor of $55$ and $88$."
   ]
  },
  {
   "cell_type": "code",
   "execution_count": 36,
   "metadata": {
    "collapsed": false
   },
   "outputs": [
    {
     "data": {
      "text/latex": [
       "\\begin{align} \\begin{array}{lcl}\n",
       "\n",
       "88 & = & 1(55) + 33 \\\\\n",
       "55 & = & 1(33) + 22 \\\\\n",
       "33 & = & 1(22) + 11 \\\\\n",
       "22 & = & 2(11) + 0\n",
       "\n",
       "\\end{array} \\end{align}"
      ],
      "text/plain": [
       "<IPython.core.display.Latex object>"
      ]
     },
     "metadata": {},
     "output_type": "display_data"
    }
   ],
   "source": [
    "%%latex\n",
    "\\begin{align} \\begin{array}{lcl}\n",
    "\n",
    "88 & = & 1(55) + 33 \\\\\n",
    "55 & = & 1(33) + 22 \\\\\n",
    "33 & = & 1(22) + 11 \\\\\n",
    "22 & = & 2(11) + 0\n",
    "\n",
    "\\end{array} \\end{align}"
   ]
  },
  {
   "cell_type": "markdown",
   "metadata": {},
   "source": [
    "As seen above, the highest common factor is $11$, and $44$ divided with $11$ is equal to $4$, hence this linear congruence has solutions, and we can now divide the congruence with $11$."
   ]
  },
  {
   "cell_type": "code",
   "execution_count": 37,
   "metadata": {
    "collapsed": false
   },
   "outputs": [
    {
     "data": {
      "text/latex": [
       "\\begin{align} \\begin{array}{lcl}\n",
       "\n",
       "\\frac{55}{11}x \\equiv \\frac{44}{11} \\textrm{ (mod }\\frac{88}{11}\\textrm{)}\n",
       "& \\Rightarrow &\n",
       "5x \\equiv 4 \\textrm{ (mod }8\\textrm{)}\n",
       "\n",
       "\\end{array} \\end{align}"
      ],
      "text/plain": [
       "<IPython.core.display.Latex object>"
      ]
     },
     "metadata": {},
     "output_type": "display_data"
    }
   ],
   "source": [
    "%%latex\n",
    "\\begin{align} \\begin{array}{lcl}\n",
    "\n",
    "\\frac{55}{11}x \\equiv \\frac{44}{11} \\textrm{ (mod }\\frac{88}{11}\\textrm{)}\n",
    "& \\Rightarrow &\n",
    "5x \\equiv 4 \\textrm{ (mod }8\\textrm{)}\n",
    "\n",
    "\\end{array} \\end{align}"
   ]
  },
  {
   "cell_type": "markdown",
   "metadata": {},
   "source": [
    "We can now substitute $x$ with $1$, and then $2$ (and so on), until $5x$ is congruent $4$ modulo $8$."
   ]
  },
  {
   "cell_type": "code",
   "execution_count": 38,
   "metadata": {
    "collapsed": false
   },
   "outputs": [
    {
     "data": {
      "text/latex": [
       "\\begin{align} \\begin{array}{lcl}\n",
       "\n",
       "5 \\cdot 1 & \\equiv & 5 \\textrm{ (mod }8\\textrm{)} \\\\\n",
       "5 \\cdot 2 & \\equiv & 2 \\textrm{ (mod }8\\textrm{)} \\\\\n",
       "5 \\cdot 3 & \\equiv & 7 \\textrm{ (mod }8\\textrm{)} \\\\\n",
       "5 \\cdot 4 & \\equiv & 4 \\textrm{ (mod }8\\textrm{)}\n",
       "\n",
       "\\end{array} \\end{align}"
      ],
      "text/plain": [
       "<IPython.core.display.Latex object>"
      ]
     },
     "metadata": {},
     "output_type": "display_data"
    }
   ],
   "source": [
    "%%latex\n",
    "\\begin{align} \\begin{array}{lcl}\n",
    "\n",
    "5 \\cdot 1 & \\equiv & 5 \\textrm{ (mod }8\\textrm{)} \\\\\n",
    "5 \\cdot 2 & \\equiv & 2 \\textrm{ (mod }8\\textrm{)} \\\\\n",
    "5 \\cdot 3 & \\equiv & 7 \\textrm{ (mod }8\\textrm{)} \\\\\n",
    "5 \\cdot 4 & \\equiv & 4 \\textrm{ (mod }8\\textrm{)}\n",
    "\n",
    "\\end{array} \\end{align}"
   ]
  },
  {
   "cell_type": "code",
   "execution_count": null,
   "metadata": {
    "collapsed": true
   },
   "outputs": [],
   "source": []
  },
  {
   "cell_type": "markdown",
   "metadata": {},
   "source": [
    "<i>Notebook by <a href=\"https://www.michaelsjoeberg.com\">Michael Sjoeberg</a>, updated 21 August 2017</i>."
   ]
  }
 ],
 "metadata": {
  "anaconda-cloud": {},
  "kernelspec": {
   "display_name": "Python [Root]",
   "language": "python",
   "name": "Python [Root]"
  },
  "language_info": {
   "codemirror_mode": {
    "name": "ipython",
    "version": 2
   },
   "file_extension": ".py",
   "mimetype": "text/x-python",
   "name": "python",
   "nbconvert_exporter": "python",
   "pygments_lexer": "ipython2",
   "version": "2.7.12"
  }
 },
 "nbformat": 4,
 "nbformat_minor": 0
}
