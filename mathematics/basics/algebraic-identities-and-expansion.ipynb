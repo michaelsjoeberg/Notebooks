{
 "cells": [
  {
   "cell_type": "markdown",
   "metadata": {},
   "source": [
    "# Algebraic Identities And Expansion"
   ]
  },
  {
   "cell_type": "markdown",
   "metadata": {},
   "source": [
    "## Identities"
   ]
  },
  {
   "cell_type": "code",
   "execution_count": 16,
   "metadata": {
    "collapsed": false
   },
   "outputs": [
    {
     "data": {
      "text/latex": [
       "\\begin{aligned}\n",
       "\n",
       "a^{2} - b^{2} &= \\left(a + b\\right)\\left(a - b\\right) \\\\\n",
       "a^{3} + b^{3} &= \\left(a + b\\right)\\left(a^{2} - ab + b^{2}\\right) \\\\\n",
       "a^{3} - b^{3} &= \\left(a - b\\right)\\left(a^{2} + ab - b^{2}\\right) \\\\\n",
       "\n",
       "\\end{aligned}"
      ],
      "text/plain": [
       "<IPython.core.display.Latex object>"
      ]
     },
     "metadata": {},
     "output_type": "display_data"
    }
   ],
   "source": [
    "%%latex\n",
    "\\begin{aligned}\n",
    "\n",
    "a^{2} - b^{2} &= \\left(a + b\\right)\\left(a - b\\right) \\\\\n",
    "a^{3} + b^{3} &= \\left(a + b\\right)\\left(a^{2} - ab + b^{2}\\right) \\\\\n",
    "a^{3} - b^{3} &= \\left(a - b\\right)\\left(a^{2} + ab - b^{2}\\right) \\\\\n",
    "\n",
    "\\end{aligned}"
   ]
  },
  {
   "cell_type": "markdown",
   "metadata": {},
   "source": [
    "## Expansion"
   ]
  },
  {
   "cell_type": "code",
   "execution_count": 17,
   "metadata": {
    "collapsed": false
   },
   "outputs": [
    {
     "data": {
      "text/latex": [
       "\\begin{aligned}\n",
       "\n",
       "\\left(a + b\\right)^{2} &= a^{2} + 2ab + b^{2} \\\\\n",
       "\\left(a - b\\right)^{2} &= a^{2} - 2ab + b^{2} \\\\\n",
       "\\left(a + b\\right)^{3} &= a^{3} + 3a^{2}b + 3ab^{2} + b^{3} \\\\\n",
       "\\left(a - b\\right)^{3} &= a^{3} - 3a^{2}b + 3ab^{2} - b^{3} \\\\\n",
       "\n",
       "\\end{aligned}"
      ],
      "text/plain": [
       "<IPython.core.display.Latex object>"
      ]
     },
     "metadata": {},
     "output_type": "display_data"
    }
   ],
   "source": [
    "%%latex\n",
    "\\begin{aligned}\n",
    "\n",
    "\\left(a + b\\right)^{2} &= a^{2} + 2ab + b^{2} \\\\\n",
    "\\left(a - b\\right)^{2} &= a^{2} - 2ab + b^{2} \\\\\n",
    "\\left(a + b\\right)^{3} &= a^{3} + 3a^{2}b + 3ab^{2} + b^{3} \\\\\n",
    "\\left(a - b\\right)^{3} &= a^{3} - 3a^{2}b + 3ab^{2} - b^{3} \\\\\n",
    "\n",
    "\\end{aligned}"
   ]
  },
  {
   "cell_type": "markdown",
   "metadata": {},
   "source": [
    "## Example problem"
   ]
  },
  {
   "cell_type": "markdown",
   "metadata": {},
   "source": [
    "<b>Expand:</b><br>\n",
    "$\\left(x - 4\\right)^{3}$"
   ]
  },
  {
   "cell_type": "code",
   "execution_count": 25,
   "metadata": {
    "collapsed": false
   },
   "outputs": [
    {
     "data": {
      "text/latex": [
       "\\begin{aligned}\n",
       "\n",
       "\\left(x - 4\\right)^{3} &= \\left(x - 4\\right)\\left(x - 4\\right)\\left(x - 4\\right) \\\\\n",
       "\\ &= x^{3} - 3 \\left(x\\right)^{2}\\left(4\\right) + 3\\left(x\\right)\\left(4\\right)^{2} - \\left(4\\right)^{3} \\\\\n",
       "\\ &= x^{3} - 12x^{2} + 48x - 64 \\\\\n",
       "\n",
       "\\end{aligned}"
      ],
      "text/plain": [
       "<IPython.core.display.Latex object>"
      ]
     },
     "metadata": {},
     "output_type": "display_data"
    }
   ],
   "source": [
    "%%latex\n",
    "\\begin{aligned}\n",
    "\n",
    "\\left(x - 4\\right)^{3} &= \\left(x - 4\\right)\\left(x - 4\\right)\\left(x - 4\\right) \\\\\n",
    "\\ &= x^{3} - 3 \\left(x\\right)^{2}\\left(4\\right) + 3\\left(x\\right)\\left(4\\right)^{2} - \\left(4\\right)^{3} \\\\\n",
    "\\ &= x^{3} - 12x^{2} + 48x - 64 \\\\\n",
    "\n",
    "\\end{aligned}"
   ]
  },
  {
   "cell_type": "code",
   "execution_count": null,
   "metadata": {
    "collapsed": true
   },
   "outputs": [],
   "source": []
  }
 ],
 "metadata": {
  "anaconda-cloud": {},
  "kernelspec": {
   "display_name": "Python [Root]",
   "language": "python",
   "name": "Python [Root]"
  },
  "language_info": {
   "codemirror_mode": {
    "name": "ipython",
    "version": 2
   },
   "file_extension": ".py",
   "mimetype": "text/x-python",
   "name": "python",
   "nbconvert_exporter": "python",
   "pygments_lexer": "ipython2",
   "version": "2.7.12"
  }
 },
 "nbformat": 4,
 "nbformat_minor": 0
}
