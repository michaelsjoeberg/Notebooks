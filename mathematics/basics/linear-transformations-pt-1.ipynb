{
 "cells": [
  {
   "cell_type": "markdown",
   "metadata": {},
   "source": [
    "# Linear Transformations Pt. 1"
   ]
  },
  {
   "cell_type": "markdown",
   "metadata": {},
   "source": [
    "20 August 2017 | Mathematics"
   ]
  },
  {
   "cell_type": "markdown",
   "metadata": {},
   "source": [
    "### Represent transformations as matrices"
   ]
  },
  {
   "cell_type": "markdown",
   "metadata": {},
   "source": [
    "A first linear transformation, $g(x,y) = (4x + 0y,0x + 6y)$, has a matrix, $\\textbf{G}$, whereas $a$, $b$, $c$, $d$ are equal to $4$, $0$, $0$, $6$, this is a diagonal matrix and hence a $(4, 6)$-scaling."
   ]
  },
  {
   "cell_type": "code",
   "execution_count": 3,
   "metadata": {
    "collapsed": false
   },
   "outputs": [
    {
     "data": {
      "text/latex": [
       "\\begin{align} \\begin{array}{lclcl}\n",
       "\n",
       "\\textbf{G}\n",
       "& = &\n",
       "\\left( \\begin{array}{cc} a & b \\\\ c & d \\\\ \\end{array} \\right)\n",
       "& = &\n",
       "\\left( \\begin{array}{cc} 4 & 0 \\\\ 0 & 6 \\\\ \\end{array} \\right)\n",
       "\n",
       "\\end{array} \\end{align}"
      ],
      "text/plain": [
       "<IPython.core.display.Latex object>"
      ]
     },
     "metadata": {},
     "output_type": "display_data"
    }
   ],
   "source": [
    "%%latex\n",
    "\\begin{align} \\begin{array}{lclcl}\n",
    "\n",
    "\\textbf{G}\n",
    "& = &\n",
    "\\left( \\begin{array}{cc} a & b \\\\ c & d \\\\ \\end{array} \\right)\n",
    "& = &\n",
    "\\left( \\begin{array}{cc} 4 & 0 \\\\ 0 & 6 \\\\ \\end{array} \\right)\n",
    "\n",
    "\\end{array} \\end{align}"
   ]
  },
  {
   "cell_type": "markdown",
   "metadata": {},
   "source": [
    "A second linear transformation, $h(x,y) = (1x + 2y,0x + 1y)$, has a matrix, $\\textbf{H}$, whereas $a$, $b$, $c$, $d$ are equal to $1$, $2$, $0$, $1$, this is a horizontal shear with shear factor $2$."
   ]
  },
  {
   "cell_type": "code",
   "execution_count": 6,
   "metadata": {
    "collapsed": false
   },
   "outputs": [
    {
     "data": {
      "text/latex": [
       "\\begin{align} \\begin{array}{lclcl}\n",
       "\n",
       "\\textbf{H}\n",
       "& = &\n",
       "\\left( \\begin{array}{cc} a & b \\\\ c & d \\\\ \\end{array} \\right)\n",
       "& = &\n",
       "\\left( \\begin{array}{cc} 1 & 2 \\\\ 0 & 1 \\\\ \\end{array} \\right)\n",
       "\n",
       "\\end{array} \\end{align}"
      ],
      "text/plain": [
       "<IPython.core.display.Latex object>"
      ]
     },
     "metadata": {},
     "output_type": "display_data"
    }
   ],
   "source": [
    "%%latex\n",
    "\\begin{align} \\begin{array}{lclcl}\n",
    "\n",
    "\\textbf{H}\n",
    "& = &\n",
    "\\left( \\begin{array}{cc} a & b \\\\ c & d \\\\ \\end{array} \\right)\n",
    "& = &\n",
    "\\left( \\begin{array}{cc} 1 & 2 \\\\ 0 & 1 \\\\ \\end{array} \\right)\n",
    "\n",
    "\\end{array} \\end{align}"
   ]
  },
  {
   "cell_type": "markdown",
   "metadata": {},
   "source": [
    "A third linear transformation, $k(x,y) = (0x + 1y,1x + 0y)$, has a matrix, $\\textbf{K}$, whereas $a$, $b$, $c$, $d$ are equal to $0$, $1$, $1$, $0$, this is a reflection in the line $y = x$."
   ]
  },
  {
   "cell_type": "code",
   "execution_count": 7,
   "metadata": {
    "collapsed": false
   },
   "outputs": [
    {
     "data": {
      "text/latex": [
       "\\begin{align} \\begin{array}{lclcl}\n",
       "\n",
       "\\textbf{K}\n",
       "& = &\n",
       "\\left( \\begin{array}{cc} a & b \\\\ c & d \\\\ \\end{array} \\right)\n",
       "& = &\n",
       "\\left( \\begin{array}{cc} 0 & 1 \\\\ 1 & 0 \\\\ \\end{array} \\right)\n",
       "\n",
       "\\end{array} \\end{align}"
      ],
      "text/plain": [
       "<IPython.core.display.Latex object>"
      ]
     },
     "metadata": {},
     "output_type": "display_data"
    }
   ],
   "source": [
    "%%latex\n",
    "\\begin{align} \\begin{array}{lclcl}\n",
    "\n",
    "\\textbf{K}\n",
    "& = &\n",
    "\\left( \\begin{array}{cc} a & b \\\\ c & d \\\\ \\end{array} \\right)\n",
    "& = &\n",
    "\\left( \\begin{array}{cc} 0 & 1 \\\\ 1 & 0 \\\\ \\end{array} \\right)\n",
    "\n",
    "\\end{array} \\end{align}"
   ]
  },
  {
   "cell_type": "markdown",
   "metadata": {},
   "source": [
    "### Composition"
   ]
  },
  {
   "cell_type": "markdown",
   "metadata": {},
   "source": [
    "To show that a linear transformation $f = k \\circ h \\circ g$ is representable by a matrix, $\\textbf{A} = \\left( \\begin{smallmatrix} 0 & 6 \\\\ 4 & 12 \\\\ \\end{smallmatrix} \\right)$, we'll simply multiply the matrices, $\\textbf{K}$, $\\textbf{H}$, and $\\textbf{G}$, according to the composition."
   ]
  },
  {
   "cell_type": "code",
   "execution_count": 11,
   "metadata": {
    "collapsed": false
   },
   "outputs": [
    {
     "data": {
      "text/latex": [
       "\\begin{align} \\begin{array}{lclcl}\n",
       "\n",
       "\\textbf{K}(\\textbf{HG})\n",
       "& = &\n",
       "\\left( \\begin{array}{cc} 0 & 1 \\\\ 1 & 0 \\\\ \\end{array} \\right)\\left(\\left( \\begin{array}{cc} 1 & 2 \\\\ 0 & 1 \\\\ \\end{array}\\right)\\left( \\begin{array}{cc} 4 & 0 \\\\ 0 & 6 \\\\ \\end{array}\\right)\\right)\n",
       "\\\\\n",
       "\\\\\n",
       "& = &\n",
       "\\left( \\begin{array}{cc} 0 & 1 \\\\ 1 & 0 \\\\ \\end{array} \\right)\\left(\\begin{array}{cc} 4 & 12 \\\\ 0 & 6 \\\\ \\end{array}\\right)\n",
       "\\\\\n",
       "\\\\\n",
       "& = &\n",
       "\\left( \\begin{array}{cc} 0 & 6 \\\\ 4 & 12 \\\\ \\end{array} \\right)\n",
       "\n",
       "\\end{array} \\end{align}"
      ],
      "text/plain": [
       "<IPython.core.display.Latex object>"
      ]
     },
     "metadata": {},
     "output_type": "display_data"
    }
   ],
   "source": [
    "%%latex\n",
    "\\begin{align} \\begin{array}{lclcl}\n",
    "\n",
    "\\textbf{K}(\\textbf{HG})\n",
    "& = &\n",
    "\\left( \\begin{array}{cc} 0 & 1 \\\\ 1 & 0 \\\\ \\end{array} \\right)\\left(\\left( \\begin{array}{cc} 1 & 2 \\\\ 0 & 1 \\\\ \\end{array}\\right)\\left( \\begin{array}{cc} 4 & 0 \\\\ 0 & 6 \\\\ \\end{array}\\right)\\right)\n",
    "\\\\\n",
    "\\\\\n",
    "& = &\n",
    "\\left( \\begin{array}{cc} 0 & 1 \\\\ 1 & 0 \\\\ \\end{array} \\right)\\left(\\begin{array}{cc} 4 & 12 \\\\ 0 & 6 \\\\ \\end{array}\\right)\n",
    "\\\\\n",
    "\\\\\n",
    "& = &\n",
    "\\left( \\begin{array}{cc} 0 & 6 \\\\ 4 & 12 \\\\ \\end{array} \\right)\n",
    "\n",
    "\\end{array} \\end{align}"
   ]
  },
  {
   "cell_type": "markdown",
   "metadata": {},
   "source": [
    "### Finding the inverse"
   ]
  },
  {
   "cell_type": "markdown",
   "metadata": {},
   "source": [
    "To show that $f$ is invertible, we'll simply check that its determinant, $a \\cdot d - b \\cdot c$, is less than $0$."
   ]
  },
  {
   "cell_type": "code",
   "execution_count": 12,
   "metadata": {
    "collapsed": false
   },
   "outputs": [
    {
     "data": {
      "text/latex": [
       "\\begin{align} \\begin{array}{lclcl}\n",
       "\n",
       "a \\cdot d - b \\cdot c & = & 0 \\cdot 12 - 6 \\cdot 4 & = & -24\n",
       "\n",
       "\\end{array} \\end{align}"
      ],
      "text/plain": [
       "<IPython.core.display.Latex object>"
      ]
     },
     "metadata": {},
     "output_type": "display_data"
    }
   ],
   "source": [
    "%%latex\n",
    "\\begin{align} \\begin{array}{lclcl}\n",
    "\n",
    "a \\cdot d - b \\cdot c & = & 0 \\cdot 12 - 6 \\cdot 4 & = & -24\n",
    "\n",
    "\\end{array} \\end{align}"
   ]
  },
  {
   "cell_type": "markdown",
   "metadata": {},
   "source": [
    "To find $f^{-1}$, we'll swap positions of $a$ and $d$, switch signs of $b$ and $c$, and then divide by the determinant."
   ]
  },
  {
   "cell_type": "code",
   "execution_count": 30,
   "metadata": {
    "collapsed": false
   },
   "outputs": [
    {
     "data": {
      "text/latex": [
       "\\begin{align} \\begin{array}{lclclcl}\n",
       "\n",
       "f^{-1}\n",
       "& = &\n",
       "\\frac{1}{-24}\\left( \\begin{array}{cc} 12 & -6 \\\\ -4 & 0 \\\\ \\end{array}\\right)\n",
       "& = &\n",
       "\\left( \\begin{array}{cc} \\frac{12}{-24} & \\frac{-6}{-24} \\\\ \\frac{-4}{-24} & 0 \\\\ \\end{array}\\right)\n",
       "& = &\n",
       "\\left( \\begin{array}{cc} -\\frac{1}{2} & \\frac{1}{4} \\\\ \\frac{1}{6} & 0 \\\\ \\end{array}\\right)\n",
       "\n",
       "\\end{array} \\end{align}"
      ],
      "text/plain": [
       "<IPython.core.display.Latex object>"
      ]
     },
     "metadata": {},
     "output_type": "display_data"
    }
   ],
   "source": [
    "%%latex\n",
    "\\begin{align} \\begin{array}{lclclcl}\n",
    "\n",
    "f^{-1}\n",
    "& = &\n",
    "\\frac{1}{-24}\\left( \\begin{array}{cc} 12 & -6 \\\\ -4 & 0 \\\\ \\end{array}\\right)\n",
    "& = &\n",
    "\\left( \\begin{array}{cc} \\frac{12}{-24} & \\frac{-6}{-24} \\\\ \\frac{-4}{-24} & 0 \\\\ \\end{array}\\right)\n",
    "& = &\n",
    "\\left( \\begin{array}{cc} -\\frac{1}{2} & \\frac{1}{4} \\\\ \\frac{1}{6} & 0 \\\\ \\end{array}\\right)\n",
    "\n",
    "\\end{array} \\end{align}"
   ]
  },
  {
   "cell_type": "markdown",
   "metadata": {},
   "source": [
    "### Finding the image"
   ]
  },
  {
   "cell_type": "markdown",
   "metadata": {},
   "source": [
    "To find the equation of the image, we'll first note that $\\textbf{A}$ is equal to $\\left( \\begin{smallmatrix} 0 & 6 \\\\ 4 & 12 \\\\ \\end{smallmatrix} \\right)$, the determinant for $\\textbf{A}$ is equal to $-24$, and $f^{-1}$ is equal to $\\left( \\begin{smallmatrix} -\\frac{1}{2} & \\frac{1}{4}\\\\ \\frac{1}{6} & 0 \\\\ \\end{smallmatrix} \\right)$, then evaluate the point $f^{-1}(x,y)$."
   ]
  },
  {
   "cell_type": "code",
   "execution_count": 31,
   "metadata": {
    "collapsed": false
   },
   "outputs": [
    {
     "data": {
      "text/latex": [
       "\\begin{align} \\begin{array}{lclcl}\n",
       "\n",
       "f^{-1}(x,y)\n",
       "& \\Rightarrow &\n",
       "\\left( \\begin{array}{cc} -\\frac{1}{2} & \\frac{1}{4} \\\\ \\frac{1}{6} & 0 \\\\ \\end{array}\\right)\\left( \\begin{array}{cc} x \\\\ y \\\\ \\end{array}\\right)\n",
       "& = &\n",
       "\\left( \\begin{array}{cc} -\\frac{x}{2} + \\frac{y}{4} \\\\ \\frac{x}{6} + 0y \\\\ \\end{array}\\right)\n",
       "\n",
       "\\end{array} \\end{align}"
      ],
      "text/plain": [
       "<IPython.core.display.Latex object>"
      ]
     },
     "metadata": {},
     "output_type": "display_data"
    }
   ],
   "source": [
    "%%latex\n",
    "\\begin{align} \\begin{array}{lclcl}\n",
    "\n",
    "f^{-1}(x,y)\n",
    "& \\Rightarrow &\n",
    "\\left( \\begin{array}{cc} -\\frac{1}{2} & \\frac{1}{4} \\\\ \\frac{1}{6} & 0 \\\\ \\end{array}\\right)\\left( \\begin{array}{cc} x \\\\ y \\\\ \\end{array}\\right)\n",
    "& = &\n",
    "\\left( \\begin{array}{cc} -\\frac{x}{2} + \\frac{y}{4} \\\\ \\frac{x}{6} + 0y \\\\ \\end{array}\\right)\n",
    "\n",
    "\\end{array} \\end{align}"
   ]
  },
  {
   "cell_type": "markdown",
   "metadata": {},
   "source": [
    "As seen above, $\\left( -\\frac{x}{2} + \\frac{y}{4}, \\frac{x}{6} + 0y \\right)$ is a point on the unit circle, hence $\\left( -\\frac{x}{2} + \\frac{y}{4} \\right)^{2} + \\left( \\frac{x}{6} \\right)^{2} = 1$, we can multiply out the brackets and simplify."
   ]
  },
  {
   "cell_type": "code",
   "execution_count": 28,
   "metadata": {
    "collapsed": false
   },
   "outputs": [
    {
     "data": {
      "text/latex": [
       "\\begin{align} \\begin{array}{lcl}\n",
       "\n",
       "1\n",
       "& = & \\left( -\\frac{x}{2} + \\frac{y}{4} \\right)^{2} + \\left( \\frac{x}{6} \\right)^{2} \\\\\n",
       "& = & \\left(\\frac{1}{4} \\right)^{2} \\left(y -2x \\right)^{2} + \\left(\\frac{1}{6} \\right)^{2}x^2 \\\\\n",
       "& = & \\frac{1}{16} \\left( y^{2} - 4xy + 4x^{2}\\right) + \\frac{1}{36}x^{2} \\\\\n",
       "\\\\\n",
       "144\n",
       "& = & 9\\left( y^{2} - 4xy + 4x^{2}\\right) + 4x^{2} \\\\\n",
       "& = & 9y^{2} - 36xy + 36x^{2} + 4x^{2} \\\\\n",
       "& = & 9y^{2} - 36xy + 40x^{2} \\\\\n",
       "\n",
       "\\end{array} \\end{align}"
      ],
      "text/plain": [
       "<IPython.core.display.Latex object>"
      ]
     },
     "metadata": {},
     "output_type": "display_data"
    }
   ],
   "source": [
    "%%latex\n",
    "\\begin{align} \\begin{array}{lcl}\n",
    "\n",
    "1\n",
    "& = & \\left( -\\frac{x}{2} + \\frac{y}{4} \\right)^{2} + \\left( \\frac{x}{6} \\right)^{2} \\\\\n",
    "& = & \\left(\\frac{1}{4} \\right)^{2} \\left(y -2x \\right)^{2} + \\left(\\frac{1}{6} \\right)^{2}x^2 \\\\\n",
    "& = & \\frac{1}{16} \\left( y^{2} - 4xy + 4x^{2}\\right) + \\frac{1}{36}x^{2} \\\\\n",
    "\\\\\n",
    "144\n",
    "& = & 9\\left( y^{2} - 4xy + 4x^{2}\\right) + 4x^{2} \\\\\n",
    "& = & 9y^{2} - 36xy + 36x^{2} + 4x^{2} \\\\\n",
    "& = & 9y^{2} - 36xy + 40x^{2} \\\\\n",
    "\n",
    "\\end{array} \\end{align}"
   ]
  },
  {
   "cell_type": "markdown",
   "metadata": {},
   "source": [
    "We'll now check that $9y^{2} - 36xy + 40x^{2} = 144$ with $x$ and $y$ equal to the values in any of the columns in $\\textbf{A}$."
   ]
  },
  {
   "cell_type": "code",
   "execution_count": 29,
   "metadata": {
    "collapsed": false
   },
   "outputs": [
    {
     "data": {
      "text/latex": [
       "\\begin{align} \\begin{array}{lclcl}\n",
       "\n",
       "40x^{2} + 9y^{2} - 36xy & \\Rightarrow & 40(0)^{2} + 9(4)^{2} - 36(0)(4) & = & 144 \\\\\n",
       "\n",
       "\\end{array} \\end{align}"
      ],
      "text/plain": [
       "<IPython.core.display.Latex object>"
      ]
     },
     "metadata": {},
     "output_type": "display_data"
    }
   ],
   "source": [
    "%%latex\n",
    "\\begin{align} \\begin{array}{lclcl}\n",
    "\n",
    "40x^{2} + 9y^{2} - 36xy & \\Rightarrow & 40(0)^{2} + 9(4)^{2} - 36(0)(4) & = & 144 \\\\\n",
    "\n",
    "\\end{array} \\end{align}"
   ]
  },
  {
   "cell_type": "markdown",
   "metadata": {},
   "source": [
    "The area enclosed by the image is equal to the area of the unit circle, $\\pi$, multiplied by the absolute value of the determinant, $|-24|$, which is equal to $24\\pi$."
   ]
  },
  {
   "cell_type": "code",
   "execution_count": null,
   "metadata": {
    "collapsed": true
   },
   "outputs": [],
   "source": []
  },
  {
   "cell_type": "markdown",
   "metadata": {},
   "source": [
    "<i>Notebook by <a href=\"https://www.michaelsjoeberg.com\">Michael Sjoeberg</a>, updated 21 August 2017</i>."
   ]
  }
 ],
 "metadata": {
  "kernelspec": {
   "display_name": "Python [Root]",
   "language": "python",
   "name": "Python [Root]"
  },
  "language_info": {
   "codemirror_mode": {
    "name": "ipython",
    "version": 2
   },
   "file_extension": ".py",
   "mimetype": "text/x-python",
   "name": "python",
   "nbconvert_exporter": "python",
   "pygments_lexer": "ipython2",
   "version": "2.7.12"
  }
 },
 "nbformat": 4,
 "nbformat_minor": 0
}
