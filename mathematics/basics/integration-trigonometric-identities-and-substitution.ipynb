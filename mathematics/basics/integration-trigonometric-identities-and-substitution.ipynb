{
 "cells": [
  {
   "cell_type": "markdown",
   "metadata": {},
   "source": [
    "# Integration: Trigonometric Identities and Substitution"
   ]
  },
  {
   "cell_type": "markdown",
   "metadata": {},
   "source": [
    "21 August 2017 | Mathematics"
   ]
  },
  {
   "cell_type": "markdown",
   "metadata": {},
   "source": [
    "### Using identities"
   ]
  },
  {
   "cell_type": "markdown",
   "metadata": {
    "collapsed": true
   },
   "source": [
    "To show that $\\cos^{4}x - \\sin^{4}x$ is equal to $\\cos2x$, we'll first note that $\\cos^{2}x + \\sin^{2}x = 1$ and $\\cos2x = \\cos^{2}x - \\sin^{2}x$."
   ]
  },
  {
   "cell_type": "code",
   "execution_count": 24,
   "metadata": {
    "collapsed": false
   },
   "outputs": [
    {
     "data": {
      "text/latex": [
       "\\begin{align} \\begin{array}{lcl}\n",
       "\n",
       "\\cos^{2}x - \\sin^{2}x\n",
       "& = &\n",
       "\\cos^{4}x - \\sin^{4}x \\\\\n",
       "& = &\n",
       "(1 - \\sin^{2}x)^{2} - \\sin^{4}x \\\\\n",
       "& = &\n",
       "1 - 2\\sin^{2}x + \\sin^{4}x - \\sin^{4}x \\\\\n",
       "& = &\n",
       "1 - 2\\sin^{2}x \\\\\n",
       "\n",
       "\\end{array} \\end{align}"
      ],
      "text/plain": [
       "<IPython.core.display.Latex object>"
      ]
     },
     "metadata": {},
     "output_type": "display_data"
    }
   ],
   "source": [
    "%%latex\n",
    "\\begin{align} \\begin{array}{lcl}\n",
    "\n",
    "\\cos^{2}x - \\sin^{2}x\n",
    "& = &\n",
    "\\cos^{4}x - \\sin^{4}x \\\\\n",
    "& = &\n",
    "(1 - \\sin^{2}x)^{2} - \\sin^{4}x \\\\\n",
    "& = &\n",
    "1 - 2\\sin^{2}x + \\sin^{4}x - \\sin^{4}x \\\\\n",
    "& = &\n",
    "1 - 2\\sin^{2}x \\\\\n",
    "\n",
    "\\end{array} \\end{align}"
   ]
  },
  {
   "cell_type": "markdown",
   "metadata": {},
   "source": [
    "As seen above, $\\cos^{2}x - \\sin^{2}x$ is equal to $1 - 2\\sin^{2}x$, hence adding $2\\sin^{2}x$ to both sides gives $\\cos^{2}x + \\sin^{2}x$ is equal to $1$, which is one of the identities, and to find the integral, we'll simply substitute $\\cos^{4}x - \\sin^{4}x$ with $\\cos2x$, expand the brackets, integrate, and simplify."
   ]
  },
  {
   "cell_type": "code",
   "execution_count": 25,
   "metadata": {
    "collapsed": false
   },
   "outputs": [
    {
     "data": {
      "text/latex": [
       "\\begin{align} \\begin{array}{lcl}\n",
       "\n",
       "\\int (\\cos^{4}x - \\sin^{4}x)(\\sin^{2}x)\\textrm{dx}\n",
       "& = &\n",
       "\\int (\\cos2x) \\left(\\frac{1}{2}(1 - \\cos2x)\\right) \\textrm{dx} \\\\\n",
       "& = &\n",
       "\\frac{1}{2}\\int \\left(\\cos2x - \\cos^{2}2x\\right) \\textrm{dx} \\\\\n",
       "& = &\n",
       "\\frac{1}{2}(\\sin x \\cos x) - \\frac{1}{2} \\int \\left(\\cos^{2}2x\\right) \\textrm{dx} \\\\\n",
       "& = &\n",
       "\\frac{1}{2}(\\frac{1}{2} \\sin 2x) - \\frac{1}{2} \\int \\left(\\frac{1}{2}\\left(1 + \\cos 4x\\right)\\right) \\textrm{dx} \\\\\n",
       "& = &\n",
       "\\frac{1}{4} \\sin 2x - \\frac{1}{4}x - \\frac{1}{16} \\sin 4x + C \\\\\n",
       "\n",
       "\\end{array} \\end{align}"
      ],
      "text/plain": [
       "<IPython.core.display.Latex object>"
      ]
     },
     "metadata": {},
     "output_type": "display_data"
    }
   ],
   "source": [
    "%%latex\n",
    "\\begin{align} \\begin{array}{lcl}\n",
    "\n",
    "\\int (\\cos^{4}x - \\sin^{4}x)(\\sin^{2}x)\\textrm{dx}\n",
    "& = &\n",
    "\\int (\\cos2x) \\left(\\frac{1}{2}(1 - \\cos2x)\\right) \\textrm{dx} \\\\\n",
    "& = &\n",
    "\\frac{1}{2}\\int \\left(\\cos2x - \\cos^{2}2x\\right) \\textrm{dx} \\\\\n",
    "& = &\n",
    "\\frac{1}{2}(\\sin x \\cos x) - \\frac{1}{2} \\int \\left(\\cos^{2}2x\\right) \\textrm{dx} \\\\\n",
    "& = &\n",
    "\\frac{1}{2}(\\frac{1}{2} \\sin 2x) - \\frac{1}{2} \\int \\left(\\frac{1}{2}\\left(1 + \\cos 4x\\right)\\right) \\textrm{dx} \\\\\n",
    "& = &\n",
    "\\frac{1}{4} \\sin 2x - \\frac{1}{4}x - \\frac{1}{16} \\sin 4x + C \\\\\n",
    "\n",
    "\\end{array} \\end{align}"
   ]
  },
  {
   "cell_type": "markdown",
   "metadata": {},
   "source": [
    "## Substitution"
   ]
  },
  {
   "cell_type": "markdown",
   "metadata": {},
   "source": [
    "To show that $\\int \\left(\\frac{x^{2}}{\\sqrt{x^{2} + 6x + 25}} \\right)\\textrm{dx}$ is equal to $\\int \\left(4 \\sinh u - 3 \\right)^{2} \\textrm{du}$, we'll first note that $x^{2} + 6x + 25$ can be represented as $(x + 3)^{2} + 16$, or $(x + 3)^{2} + 4^{2}$, in completed square form, then substitute $x + 3$ with $4 \\sinh u$, whereas $x$ is equal to $4 \\sinh u - 3$."
   ]
  },
  {
   "cell_type": "code",
   "execution_count": 26,
   "metadata": {
    "collapsed": false
   },
   "outputs": [
    {
     "data": {
      "text/latex": [
       "\\begin{align} \\begin{array}{lcl}\n",
       "\n",
       "\\int \\left(\\frac{x^{2}}{\\sqrt{(x + 3)^{2} + 4^{2}}} \\right)\\textrm{dx} \n",
       "& = & \n",
       "\\int \\left(\\frac{(4 \\sinh u - 3)^{2}}{\\sqrt{(4 \\sinh u)^{2} + 4^{2}}}(4 \\cosh u) \\right)\\textrm{du}\n",
       "\\\\\n",
       "\\\\\n",
       "& = & \n",
       "\\int \\left(\\frac{(4 \\cosh u)(4 \\sinh u - 3)^{2}}{\\sqrt{4^{2} \\sinh^{2} u + 4^{2}}} \\right)\\textrm{du}\n",
       "\\\\\n",
       "\\\\\n",
       "& = & \n",
       "\\int \\left(\\frac{(\\cosh u)(4 \\sinh u - 3)^{2}}{\\sqrt{\\sinh^{2} u + 1}} \\right)\\textrm{du}\n",
       "\\\\\n",
       "\\\\\n",
       "& = & \n",
       "\\int \\left(\\frac{(\\cosh u)(4 \\sinh u - 3)^{2}}{\\sqrt{\\cosh^{2} u}} \\right)\\textrm{du}\n",
       "\\\\\n",
       "\\\\\n",
       "& = & \n",
       "\\int (4 \\sinh u - 3)^{2} \\textrm{du}\n",
       "\n",
       "\\end{array} \\end{align}"
      ],
      "text/plain": [
       "<IPython.core.display.Latex object>"
      ]
     },
     "metadata": {},
     "output_type": "display_data"
    }
   ],
   "source": [
    "%%latex\n",
    "\\begin{align} \\begin{array}{lcl}\n",
    "\n",
    "\\int \\left(\\frac{x^{2}}{\\sqrt{(x + 3)^{2} + 4^{2}}} \\right)\\textrm{dx} \n",
    "& = & \n",
    "\\int \\left(\\frac{(4 \\sinh u - 3)^{2}}{\\sqrt{(4 \\sinh u)^{2} + 4^{2}}}(4 \\cosh u) \\right)\\textrm{du}\n",
    "\\\\\n",
    "\\\\\n",
    "& = & \n",
    "\\int \\left(\\frac{(4 \\cosh u)(4 \\sinh u - 3)^{2}}{\\sqrt{4^{2} \\sinh^{2} u + 4^{2}}} \\right)\\textrm{du}\n",
    "\\\\\n",
    "\\\\\n",
    "& = & \n",
    "\\int \\left(\\frac{(\\cosh u)(4 \\sinh u - 3)^{2}}{\\sqrt{\\sinh^{2} u + 1}} \\right)\\textrm{du}\n",
    "\\\\\n",
    "\\\\\n",
    "& = & \n",
    "\\int \\left(\\frac{(\\cosh u)(4 \\sinh u - 3)^{2}}{\\sqrt{\\cosh^{2} u}} \\right)\\textrm{du}\n",
    "\\\\\n",
    "\\\\\n",
    "& = & \n",
    "\\int (4 \\sinh u - 3)^{2} \\textrm{du}\n",
    "\n",
    "\\end{array} \\end{align}"
   ]
  },
  {
   "cell_type": "markdown",
   "metadata": {},
   "source": [
    "To find this integral, we'll simply expand the brackets, integrate, and simplify."
   ]
  },
  {
   "cell_type": "code",
   "execution_count": 27,
   "metadata": {
    "collapsed": false
   },
   "outputs": [
    {
     "data": {
      "text/latex": [
       "\\begin{align} \\begin{array}{lcl}\n",
       "\n",
       "\\int (4 \\sinh u - 3)^{2} \\textrm{du} & = & \\int \\left(16\\sinh^{2}u - 24\\sinh u + 9 \\right) \\textrm{du} \\\\\n",
       "\\\\\n",
       "& = &\n",
       "16\\int \\left(\\sinh^{2}u\\right)\\textrm{du} - 24 \\int \\left(\\sinh u\\right) \\textrm{du} + 9u \\\\\n",
       "\\\\\n",
       "& = &\n",
       "16\\int \\left(\\frac{1}{2}\\left(\\cosh 2u - 1\\right)\\right)\\textrm{du} - 24\\cosh u + 9u \\\\\n",
       "\\\\\n",
       "& = &\n",
       "8 \\left(\\frac{1}{2}\\sinh 2u - u\\right) - 24\\cosh u + 9u \\\\\n",
       "\\\\\n",
       "& = &\n",
       "4\\sinh 2u - 8u - 24\\cosh u + 9u + C \\\\\n",
       "\n",
       "\\end{array} \\end{align}"
      ],
      "text/plain": [
       "<IPython.core.display.Latex object>"
      ]
     },
     "metadata": {},
     "output_type": "display_data"
    }
   ],
   "source": [
    "%%latex\n",
    "\\begin{align} \\begin{array}{lcl}\n",
    "\n",
    "\\int (4 \\sinh u - 3)^{2} \\textrm{du} & = & \\int \\left(16\\sinh^{2}u - 24\\sinh u + 9 \\right) \\textrm{du} \\\\\n",
    "\\\\\n",
    "& = &\n",
    "16\\int \\left(\\sinh^{2}u\\right)\\textrm{du} - 24 \\int \\left(\\sinh u\\right) \\textrm{du} + 9u \\\\\n",
    "\\\\\n",
    "& = &\n",
    "16\\int \\left(\\frac{1}{2}\\left(\\cosh 2u - 1\\right)\\right)\\textrm{du} - 24\\cosh u + 9u \\\\\n",
    "\\\\\n",
    "& = &\n",
    "8 \\left(\\frac{1}{2}\\sinh 2u - u\\right) - 24\\cosh u + 9u \\\\\n",
    "\\\\\n",
    "& = &\n",
    "4\\sinh 2u - 8u - 24\\cosh u + 9u + C \\\\\n",
    "\n",
    "\\end{array} \\end{align}"
   ]
  },
  {
   "cell_type": "code",
   "execution_count": null,
   "metadata": {
    "collapsed": true
   },
   "outputs": [],
   "source": []
  },
  {
   "cell_type": "markdown",
   "metadata": {},
   "source": [
    "<i>Notebook by <a href=\"https://www.michaelsjoeberg.com\">Michael Sjoeberg</a>, updated 21 August 2017</i>."
   ]
  }
 ],
 "metadata": {
  "anaconda-cloud": {},
  "kernelspec": {
   "display_name": "Python [Root]",
   "language": "python",
   "name": "Python [Root]"
  },
  "language_info": {
   "codemirror_mode": {
    "name": "ipython",
    "version": 2
   },
   "file_extension": ".py",
   "mimetype": "text/x-python",
   "name": "python",
   "nbconvert_exporter": "python",
   "pygments_lexer": "ipython2",
   "version": "2.7.12"
  }
 },
 "nbformat": 4,
 "nbformat_minor": 0
}
