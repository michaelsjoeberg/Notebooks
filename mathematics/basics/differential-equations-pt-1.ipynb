{
 "cells": [
  {
   "cell_type": "markdown",
   "metadata": {},
   "source": [
    "# Differential Equations Pt. 1"
   ]
  },
  {
   "cell_type": "markdown",
   "metadata": {},
   "source": [
    "21 August 2017 | Mathematics"
   ]
  },
  {
   "cell_type": "markdown",
   "metadata": {},
   "source": [
    "### General solutions"
   ]
  },
  {
   "cell_type": "markdown",
   "metadata": {
    "collapsed": true
   },
   "source": [
    "To solve a differential equation, $\\frac{\\textrm{d}y}{\\textrm{d}t} = -t^{3}y^{2}-ty^{2}$, we'll first note that $-t^{3}y^{2}-ty^{2}$ is equal to $y^{2}(-t^{3}-t)$, hence we can use the separation of variables method to find the general solution."
   ]
  },
  {
   "cell_type": "code",
   "execution_count": 13,
   "metadata": {
    "collapsed": false
   },
   "outputs": [
    {
     "data": {
      "text/latex": [
       "\\begin{align} \\begin{array}{lclcl}\n",
       "\n",
       "\\frac{\\textrm{d}y}{\\textrm{d}t} = y^{2}(-t^{3}-t) & \\Rightarrow & \\int \\left(\\frac{1}{y^{2}}\\right)\\textrm{d}y = \\int (-t^{3}-t)\\textrm{d}t & \\Rightarrow & -\\frac{1}{y} = -\\frac{t^{4}}{4} - \\frac{t^{2}}{2} + C\\\\\n",
       "\n",
       "\\end{array} \\end{align}"
      ],
      "text/plain": [
       "<IPython.core.display.Latex object>"
      ]
     },
     "metadata": {},
     "output_type": "display_data"
    }
   ],
   "source": [
    "%%latex\n",
    "\\begin{align} \\begin{array}{lclcl}\n",
    "\n",
    "\\frac{\\textrm{d}y}{\\textrm{d}t} = y^{2}(-t^{3}-t) & \\Rightarrow & \\int \\left(\\frac{1}{y^{2}}\\right)\\textrm{d}y = \\int (-t^{3}-t)\\textrm{d}t & \\Rightarrow & -\\frac{1}{y} = -\\frac{t^{4}}{4} - \\frac{t^{2}}{2} + C\\\\\n",
    "\n",
    "\\end{array} \\end{align}"
   ]
  },
  {
   "cell_type": "markdown",
   "metadata": {},
   "source": [
    "We'll now make $y$ the subject and simplify further."
   ]
  },
  {
   "cell_type": "code",
   "execution_count": 14,
   "metadata": {
    "collapsed": false
   },
   "outputs": [
    {
     "data": {
      "text/latex": [
       "\\begin{align} \\begin{array}{lclcl}\n",
       "\n",
       "-\\frac{1}{y} = -\\frac{t^{4}}{4} - \\frac{t^{2}}{2} + C & \\Rightarrow & y & = & \\frac{1}{\\frac{t^{4}}{4} + \\frac{t^{2}}{2} + C} \\\\\n",
       "\\\\\n",
       "& & & = & \\frac{4}{t^{4} + 2t^{2} + C} \\\\\n",
       "\n",
       "\\end{array} \\end{align}"
      ],
      "text/plain": [
       "<IPython.core.display.Latex object>"
      ]
     },
     "metadata": {},
     "output_type": "display_data"
    }
   ],
   "source": [
    "%%latex\n",
    "\\begin{align} \\begin{array}{lclcl}\n",
    "\n",
    "-\\frac{1}{y} = -\\frac{t^{4}}{4} - \\frac{t^{2}}{2} + C & \\Rightarrow & y & = & \\frac{1}{\\frac{t^{4}}{4} + \\frac{t^{2}}{2} + C} \\\\\n",
    "\\\\\n",
    "& & & = & \\frac{4}{t^{4} + 2t^{2} + C} \\\\\n",
    "\n",
    "\\end{array} \\end{align}"
   ]
  },
  {
   "cell_type": "markdown",
   "metadata": {},
   "source": [
    "### Particular solutions"
   ]
  },
  {
   "cell_type": "markdown",
   "metadata": {},
   "source": [
    "To find a particular solution that satisfies $y(0) = 4$, we'll simply substitute $t$ with $0$ and find the value of $C$."
   ]
  },
  {
   "cell_type": "code",
   "execution_count": 15,
   "metadata": {
    "collapsed": false
   },
   "outputs": [
    {
     "data": {
      "text/latex": [
       "\\begin{align} \\begin{array}{lclclcl}\n",
       "\n",
       "y(t)\n",
       "& = &\n",
       "\\frac{4}{t^{4} + 2t^{2} + C}\n",
       "& \\Rightarrow &\n",
       "y(0)\n",
       "& = &\n",
       "\\frac{4}{(0)^{4} + 2(0)^{2} + C} \\\\\n",
       "\\\\\n",
       "& & & & & = &\n",
       "\\frac{4}{0 + 0 + C} \\\\\n",
       "\n",
       "\\end{array} \\end{align}"
      ],
      "text/plain": [
       "<IPython.core.display.Latex object>"
      ]
     },
     "metadata": {},
     "output_type": "display_data"
    }
   ],
   "source": [
    "%%latex\n",
    "\\begin{align} \\begin{array}{lclclcl}\n",
    "\n",
    "y(t)\n",
    "& = &\n",
    "\\frac{4}{t^{4} + 2t^{2} + C}\n",
    "& \\Rightarrow &\n",
    "y(0)\n",
    "& = &\n",
    "\\frac{4}{(0)^{4} + 2(0)^{2} + C} \\\\\n",
    "\\\\\n",
    "& & & & & = &\n",
    "\\frac{4}{0 + 0 + C} \\\\\n",
    "\n",
    "\\end{array} \\end{align}"
   ]
  },
  {
   "cell_type": "markdown",
   "metadata": {},
   "source": [
    "As seen above, $y(0)$ is equal to $4$ when $C$ is equal to $1$, hence the particular solution is $y = \\frac{4}{t^{4} + 2t^{2} + 1}$."
   ]
  },
  {
   "cell_type": "code",
   "execution_count": null,
   "metadata": {
    "collapsed": true
   },
   "outputs": [],
   "source": []
  },
  {
   "cell_type": "markdown",
   "metadata": {},
   "source": [
    "<i>Notebook by <a href=\"https://www.michaelsjoeberg.com\">Michael Sjoeberg</a>, updated 21 August 2017</i>."
   ]
  }
 ],
 "metadata": {
  "anaconda-cloud": {},
  "kernelspec": {
   "display_name": "Python [Root]",
   "language": "python",
   "name": "Python [Root]"
  },
  "language_info": {
   "codemirror_mode": {
    "name": "ipython",
    "version": 2
   },
   "file_extension": ".py",
   "mimetype": "text/x-python",
   "name": "python",
   "nbconvert_exporter": "python",
   "pygments_lexer": "ipython2",
   "version": "2.7.12"
  }
 },
 "nbformat": 4,
 "nbformat_minor": 0
}
