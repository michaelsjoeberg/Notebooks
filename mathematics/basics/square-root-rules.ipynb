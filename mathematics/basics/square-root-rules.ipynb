{
 "cells": [
  {
   "cell_type": "markdown",
   "metadata": {},
   "source": [
    "# Square Root Rules"
   ]
  },
  {
   "cell_type": "markdown",
   "metadata": {},
   "source": [
    "## Distributing"
   ]
  },
  {
   "cell_type": "markdown",
   "metadata": {},
   "source": [
    "For $a\\geq0$ and $b\\geq0$:"
   ]
  },
  {
   "cell_type": "code",
   "execution_count": 1,
   "metadata": {
    "collapsed": false
   },
   "outputs": [
    {
     "data": {
      "text/latex": [
       "\\begin{aligned}\n",
       "\n",
       "\\sqrt{ab} &= \\sqrt{a} \\cdot \\sqrt{b} \\\\\n",
       "\\frac{\\sqrt{a}}{\\sqrt{b}} &= \\sqrt{\\frac{a}{b}} \\\\\n",
       "\\sqrt{a^{2} \\cdot b} &= |a| \\cdot \\sqrt{b} \\\\\n",
       "\n",
       "\\end{aligned}"
      ],
      "text/plain": [
       "<IPython.core.display.Latex object>"
      ]
     },
     "metadata": {},
     "output_type": "display_data"
    }
   ],
   "source": [
    "%%latex\n",
    "\\begin{aligned}\n",
    "\n",
    "\\sqrt{ab} &= \\sqrt{a} \\cdot \\sqrt{b} \\\\\n",
    "\\frac{\\sqrt{a}}{\\sqrt{b}} &= \\sqrt{\\frac{a}{b}} \\\\\n",
    "\\sqrt{a^{2} \\cdot b} &= |a| \\cdot \\sqrt{b} \\\\\n",
    "\n",
    "\\end{aligned}"
   ]
  },
  {
   "cell_type": "markdown",
   "metadata": {},
   "source": [
    "## Rationalising the denominator"
   ]
  },
  {
   "cell_type": "markdown",
   "metadata": {},
   "source": [
    "For $a\\geq0$, $b\\geq0$, and $c\\geq0$:"
   ]
  },
  {
   "cell_type": "code",
   "execution_count": 2,
   "metadata": {
    "collapsed": false,
    "scrolled": false
   },
   "outputs": [
    {
     "data": {
      "text/latex": [
       "\\begin{aligned}\n",
       "\n",
       "\\frac{a}{\\sqrt{b}} &= \\frac{a}{\\sqrt{b}} \\cdot \\frac{\\sqrt{b}}{\\sqrt{b}} = \n",
       "\\frac{a\\sqrt{b}}{b} \\\\\n",
       "\\frac{a}{b+\\sqrt{c}} &= \\frac{a}{b + \\sqrt{c}} \\cdot \n",
       "\\frac{b - \\sqrt{c}}{b - \\sqrt{c}} = \\frac{ab - a\\sqrt{c}}{b^{2} - c} \\\\\n",
       "\n",
       "\\end{aligned}"
      ],
      "text/plain": [
       "<IPython.core.display.Latex object>"
      ]
     },
     "metadata": {},
     "output_type": "display_data"
    }
   ],
   "source": [
    "%%latex \n",
    "\\begin{aligned}\n",
    "\n",
    "\\frac{a}{\\sqrt{b}} &= \\frac{a}{\\sqrt{b}} \\cdot \\frac{\\sqrt{b}}{\\sqrt{b}} = \n",
    "\\frac{a\\sqrt{b}}{b} \\\\\n",
    "\\frac{a}{b+\\sqrt{c}} &= \\frac{a}{b + \\sqrt{c}} \\cdot \n",
    "\\frac{b - \\sqrt{c}}{b - \\sqrt{c}} = \\frac{ab - a\\sqrt{c}}{b^{2} - c} \\\\\n",
    "\n",
    "\\end{aligned}"
   ]
  },
  {
   "cell_type": "markdown",
   "metadata": {},
   "source": [
    "## Example problem 1"
   ]
  },
  {
   "cell_type": "markdown",
   "metadata": {},
   "source": [
    "<b>Simplify:</b><br>\n",
    "$\\sqrt{40}$"
   ]
  },
  {
   "cell_type": "code",
   "execution_count": 3,
   "metadata": {
    "collapsed": false,
    "scrolled": true
   },
   "outputs": [
    {
     "data": {
      "text/latex": [
       "\\begin{aligned}\n",
       "\n",
       "\\sqrt{40} &= \\sqrt{4 \\cdot 10} = 2 \\sqrt{10} \\\\\n",
       "\n",
       "\\end{aligned}"
      ],
      "text/plain": [
       "<IPython.core.display.Latex object>"
      ]
     },
     "metadata": {},
     "output_type": "display_data"
    }
   ],
   "source": [
    "%%latex\n",
    "\\begin{aligned}\n",
    "\n",
    "\\sqrt{40} &= \\sqrt{4 \\cdot 10} = 2 \\sqrt{10} \\\\\n",
    "\n",
    "\\end{aligned}"
   ]
  },
  {
   "cell_type": "markdown",
   "metadata": {},
   "source": [
    "## Example problem 2"
   ]
  },
  {
   "cell_type": "markdown",
   "metadata": {},
   "source": [
    "<b>Simplify:</b><br>\n",
    "$\\frac{4}{\\sqrt{2}}$"
   ]
  },
  {
   "cell_type": "code",
   "execution_count": 4,
   "metadata": {
    "collapsed": false
   },
   "outputs": [
    {
     "data": {
      "text/latex": [
       "\\begin{aligned}\n",
       "\n",
       "\\frac{4}{\\sqrt{2}} &= \\frac{4}{\\sqrt{2}} \\cdot \\frac{\\sqrt{2}}{\\sqrt{2}} = \n",
       "\\frac{4 \\sqrt{2}}{2} = 2 \\sqrt{2} \\\\\n",
       "\n",
       "\\end{aligned}"
      ],
      "text/plain": [
       "<IPython.core.display.Latex object>"
      ]
     },
     "metadata": {},
     "output_type": "display_data"
    }
   ],
   "source": [
    "%%latex\n",
    "\\begin{aligned}\n",
    "\n",
    "\\frac{4}{\\sqrt{2}} &= \\frac{4}{\\sqrt{2}} \\cdot \\frac{\\sqrt{2}}{\\sqrt{2}} = \n",
    "\\frac{4 \\sqrt{2}}{2} = 2 \\sqrt{2} \\\\\n",
    "\n",
    "\\end{aligned}"
   ]
  },
  {
   "cell_type": "markdown",
   "metadata": {},
   "source": [
    "## Example problem 3"
   ]
  },
  {
   "cell_type": "markdown",
   "metadata": {},
   "source": [
    "<b>Simplify:</b><br>\n",
    "$\\frac{6}{3+\\sqrt{7}}$"
   ]
  },
  {
   "cell_type": "code",
   "execution_count": 5,
   "metadata": {
    "collapsed": false
   },
   "outputs": [
    {
     "data": {
      "text/latex": [
       "\\begin{aligned}\n",
       "\n",
       "\\frac{6}{3 + \\sqrt{7}} &= \\frac{6}{3 + \\sqrt{7}} \\cdot\n",
       "\\frac{3 - \\sqrt{7}}{3 - \\sqrt{7}} = \\frac{18 - 6\\sqrt{7}}{2} = 9 - 3 \\sqrt{7} \\\\\n",
       "\n",
       "\\end{aligned}"
      ],
      "text/plain": [
       "<IPython.core.display.Latex object>"
      ]
     },
     "metadata": {},
     "output_type": "display_data"
    }
   ],
   "source": [
    "%%latex\n",
    "\\begin{aligned}\n",
    "\n",
    "\\frac{6}{3 + \\sqrt{7}} &= \\frac{6}{3 + \\sqrt{7}} \\cdot\n",
    "\\frac{3 - \\sqrt{7}}{3 - \\sqrt{7}} = \\frac{18 - 6\\sqrt{7}}{2} = 9 - 3 \\sqrt{7} \\\\\n",
    "\n",
    "\\end{aligned}"
   ]
  },
  {
   "cell_type": "code",
   "execution_count": null,
   "metadata": {
    "collapsed": true
   },
   "outputs": [],
   "source": []
  }
 ],
 "metadata": {
  "kernelspec": {
   "display_name": "Python [Root]",
   "language": "python",
   "name": "Python [Root]"
  },
  "language_info": {
   "codemirror_mode": {
    "name": "ipython",
    "version": 2
   },
   "file_extension": ".py",
   "mimetype": "text/x-python",
   "name": "python",
   "nbconvert_exporter": "python",
   "pygments_lexer": "ipython2",
   "version": "2.7.12"
  }
 },
 "nbformat": 4,
 "nbformat_minor": 0
}
