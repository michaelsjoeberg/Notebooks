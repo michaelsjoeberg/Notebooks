{
 "cells": [
  {
   "cell_type": "markdown",
   "metadata": {},
   "source": [
    "# Differential Equations Pt. 2"
   ]
  },
  {
   "cell_type": "markdown",
   "metadata": {},
   "source": [
    "21 August 2017 | Mathematics"
   ]
  },
  {
   "cell_type": "markdown",
   "metadata": {},
   "source": [
    "### Substitution"
   ]
  },
  {
   "cell_type": "markdown",
   "metadata": {
    "collapsed": true
   },
   "source": [
    "To solve a differential equation, $\\frac{\\textrm{d}x}{\\textrm{d}t} = \\frac{\\sin{t}}{\\cos{t} + 10}$, we'll first note that $\\sin t$ is almost similar to the derivative of $\\cos t + 10$, and hence we can use direct integration method using integration by substitution to find the general solution, whereas $u$ is equal to $\\cos t + 10$ and $\\textrm{d}u$ is equal to $-\\sin t$."
   ]
  },
  {
   "cell_type": "code",
   "execution_count": 13,
   "metadata": {
    "collapsed": false
   },
   "outputs": [
    {
     "data": {
      "text/latex": [
       "\\begin{align} \\begin{array}{lclclcl}\n",
       "\n",
       "\\frac{\\textrm{d}x}{\\textrm{d}t} \n",
       "& = & \n",
       "\\frac{1}{\\cos{t} + 10} \\left(\\sin{t}\\right) \n",
       "& \\Rightarrow & \n",
       "\\int -\\frac{1}{u}\\textrm{d}u \n",
       "& = & \n",
       "-\\ln (\\cos t + 10) + C \\\\\n",
       "\n",
       "\\end{array} \\end{align}"
      ],
      "text/plain": [
       "<IPython.core.display.Latex object>"
      ]
     },
     "metadata": {},
     "output_type": "display_data"
    }
   ],
   "source": [
    "%%latex\n",
    "\\begin{align} \\begin{array}{lclclcl}\n",
    "\n",
    "\\frac{\\textrm{d}x}{\\textrm{d}t} \n",
    "& = & \n",
    "\\frac{1}{\\cos{t} + 10} \\left(\\sin{t}\\right) \n",
    "& \\Rightarrow & \n",
    "\\int -\\frac{1}{u}\\textrm{d}u \n",
    "& = & \n",
    "-\\ln (\\cos t + 10) + C \\\\\n",
    "\n",
    "\\end{array} \\end{align}"
   ]
  },
  {
   "cell_type": "markdown",
   "metadata": {},
   "source": [
    "To find a particular solution that satisfies $x(0) = 0$, we'll simply substitute $t$ with $0$ and find the value of $C$."
   ]
  },
  {
   "cell_type": "code",
   "execution_count": 14,
   "metadata": {
    "collapsed": false
   },
   "outputs": [
    {
     "data": {
      "text/latex": [
       "\\begin{align} \\begin{array}{lclclcl}\n",
       "\n",
       "x(t)\n",
       "& = &\n",
       "-\\ln (\\cos t + 10) + C \n",
       "& \\Rightarrow &\n",
       "x(0)\n",
       "& = &\n",
       "-\\ln (\\cos (0) + 10) + C \\\\\n",
       "\\\\\n",
       "& & & & & = &\n",
       "-\\ln (11) + C \\\\\n",
       "\n",
       "\\end{array} \\end{align}"
      ],
      "text/plain": [
       "<IPython.core.display.Latex object>"
      ]
     },
     "metadata": {},
     "output_type": "display_data"
    }
   ],
   "source": [
    "%%latex\n",
    "\\begin{align} \\begin{array}{lclclcl}\n",
    "\n",
    "x(t)\n",
    "& = &\n",
    "-\\ln (\\cos t + 10) + C \n",
    "& \\Rightarrow &\n",
    "x(0)\n",
    "& = &\n",
    "-\\ln (\\cos (0) + 10) + C \\\\\n",
    "\\\\\n",
    "& & & & & = &\n",
    "-\\ln (11) + C \\\\\n",
    "\n",
    "\\end{array} \\end{align}"
   ]
  },
  {
   "cell_type": "markdown",
   "metadata": {},
   "source": [
    "As seen above, $x(0)$ is equal to $0$ when $C$ is equal to $\\ln (11)$, hence the particular solution is $x = -\\ln (\\cos t + 10) + \\ln (11)$."
   ]
  },
  {
   "cell_type": "markdown",
   "metadata": {
    "collapsed": true
   },
   "source": [
    "### Integrating factor"
   ]
  },
  {
   "cell_type": "markdown",
   "metadata": {},
   "source": [
    "To solve a differential equation, $\\frac{\\textrm{d}y}{\\textrm{d}x} - \\frac{3y}{x} = x^{3} \\cos x$, we'll first note that it's in the form $\\frac{\\textrm{d}y}{\\textrm{d}x} - g(x)y = h(x)$, and hence we can use the integrating factor method to find the general solution, we'll first note that $g(x)$ is equal to $-\\frac{3}{x}$ and $h(x)$ is equal to $x^{3}\\cos x$, and then find the integrating factor, $p(x)$."
   ]
  },
  {
   "cell_type": "code",
   "execution_count": 15,
   "metadata": {
    "collapsed": false
   },
   "outputs": [
    {
     "data": {
      "text/latex": [
       "\\begin{align} \\begin{array}{lclclcl}\n",
       "\n",
       "p(x)\n",
       "& = & \n",
       "\\textrm{exp}\\left(\\int g(x) \\textrm{d}x\\right) \n",
       "& \\Rightarrow & \n",
       "p(x) \n",
       "& = & \n",
       "\\textrm{exp}\\left(\\int \\left( -\\frac{3}{x}\\right) \\textrm{d}x\\right) \\\\\n",
       "\\\\\n",
       "& & & & & = & \\textrm{exp}\\left(-3 \\ln x \\right) \\\\\n",
       "\\\\\n",
       "& & & & & = &  e^{-3 \\ln x} \\\\\n",
       "\\\\\n",
       "& & & & & = &  \\frac{1}{x^{3}} \\\\\n",
       "\n",
       "\\end{array} \\end{align}"
      ],
      "text/plain": [
       "<IPython.core.display.Latex object>"
      ]
     },
     "metadata": {},
     "output_type": "display_data"
    }
   ],
   "source": [
    "%%latex\n",
    "\\begin{align} \\begin{array}{lclclcl}\n",
    "\n",
    "p(x)\n",
    "& = & \n",
    "\\textrm{exp}\\left(\\int g(x) \\textrm{d}x\\right) \n",
    "& \\Rightarrow & \n",
    "p(x) \n",
    "& = & \n",
    "\\textrm{exp}\\left(\\int \\left( -\\frac{3}{x}\\right) \\textrm{d}x\\right) \\\\\n",
    "\\\\\n",
    "& & & & & = & \\textrm{exp}\\left(-3 \\ln x \\right) \\\\\n",
    "\\\\\n",
    "& & & & & = &  e^{-3 \\ln x} \\\\\n",
    "\\\\\n",
    "& & & & & = &  \\frac{1}{x^{3}} \\\\\n",
    "\n",
    "\\end{array} \\end{align}"
   ]
  },
  {
   "cell_type": "markdown",
   "metadata": {},
   "source": [
    "As seen above, the integrating factor is equal to $\\frac{1}{x^{3}}$, we can now find the general solution."
   ]
  },
  {
   "cell_type": "code",
   "execution_count": 12,
   "metadata": {
    "collapsed": false
   },
   "outputs": [
    {
     "data": {
      "text/latex": [
       "\\begin{align} \\begin{array}{lcl}\n",
       "\n",
       "y \n",
       "& = & \n",
       "\\frac{1}{\\frac{1}{x^{3}}} \\left(\\int \\frac{1}{x^{3}} \\left(x^{3} \\cos x \\right)\\textrm{d}x \\right) \\\\\n",
       "\\\\\n",
       "& = &\n",
       "x^{3} \\left(\\int \\left( \\cos x \\right) \\textrm{d}x \\right) \\\\\n",
       "\\\\\n",
       "& = &\n",
       "x^{3} \\left(\\sin x + C \\right) \\\\\n",
       "\n",
       "\\end{array} \\end{align}"
      ],
      "text/plain": [
       "<IPython.core.display.Latex object>"
      ]
     },
     "metadata": {},
     "output_type": "display_data"
    }
   ],
   "source": [
    "%%latex\n",
    "\\begin{align} \\begin{array}{lcl}\n",
    "\n",
    "y \n",
    "& = & \n",
    "\\frac{1}{\\frac{1}{x^{3}}} \\left(\\int \\frac{1}{x^{3}} \\left(x^{3} \\cos x \\right)\\textrm{d}x \\right) \\\\\n",
    "\\\\\n",
    "& = &\n",
    "x^{3} \\left(\\int \\left( \\cos x \\right) \\textrm{d}x \\right) \\\\\n",
    "\\\\\n",
    "& = &\n",
    "x^{3} \\left(\\sin x + C \\right) \\\\\n",
    "\n",
    "\\end{array} \\end{align}"
   ]
  },
  {
   "cell_type": "code",
   "execution_count": null,
   "metadata": {
    "collapsed": true
   },
   "outputs": [],
   "source": []
  },
  {
   "cell_type": "markdown",
   "metadata": {},
   "source": [
    "<i>Notebook by <a href=\"https://www.michaelsjoeberg.com\">Michael Sjoeberg</a>, updated 21 August 2017</i>."
   ]
  }
 ],
 "metadata": {
  "anaconda-cloud": {},
  "kernelspec": {
   "display_name": "Python [Root]",
   "language": "python",
   "name": "Python [Root]"
  },
  "language_info": {
   "codemirror_mode": {
    "name": "ipython",
    "version": 2
   },
   "file_extension": ".py",
   "mimetype": "text/x-python",
   "name": "python",
   "nbconvert_exporter": "python",
   "pygments_lexer": "ipython2",
   "version": "2.7.12"
  }
 },
 "nbformat": 4,
 "nbformat_minor": 0
}
