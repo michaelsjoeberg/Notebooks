{
 "cells": [
  {
   "cell_type": "markdown",
   "metadata": {},
   "source": [
    "# Eigenvalues and Eigenvectors"
   ]
  },
  {
   "cell_type": "markdown",
   "metadata": {},
   "source": [
    "21 August 2017 | Mathematics"
   ]
  },
  {
   "cell_type": "markdown",
   "metadata": {},
   "source": [
    "### Finding eigenvalues and eigenvectors"
   ]
  },
  {
   "cell_type": "markdown",
   "metadata": {
    "collapsed": true
   },
   "source": [
    "To find the eigenvalues of a matrix, $\\textbf{A} = \\left(\\begin{smallmatrix} 10 & 10 \\\\ -4 & -3 \\\\ \\end{smallmatrix}\\right)$ , we'll first find the trace, tr $\\textbf{A}$, and the determinant, det $\\textbf{A}$."
   ]
  },
  {
   "cell_type": "code",
   "execution_count": 28,
   "metadata": {
    "collapsed": false
   },
   "outputs": [
    {
     "data": {
      "text/latex": [
       "\\begin{align} \\begin{array}{lclcl}\n",
       "\n",
       "\\textrm{tr }\\textbf{A}   & = & 10 + (-3)                     & = & 7 \\\\\n",
       "\\textrm{det }\\textbf{A}  & = & 10 \\cdot (-3) - 10 \\cdot (-4) & = & 10 \\\\\n",
       "\n",
       "\\end{array} \\end{align}"
      ],
      "text/plain": [
       "<IPython.core.display.Latex object>"
      ]
     },
     "metadata": {},
     "output_type": "display_data"
    }
   ],
   "source": [
    "%%latex\n",
    "\\begin{align} \\begin{array}{lclcl}\n",
    "\n",
    "\\textrm{tr }\\textbf{A}   & = & 10 + (-3)                     & = & 7 \\\\\n",
    "\\textrm{det }\\textbf{A}  & = & 10 \\cdot (-3) - 10 \\cdot (-4) & = & 10 \\\\\n",
    "\n",
    "\\end{array} \\end{align}"
   ]
  },
  {
   "cell_type": "markdown",
   "metadata": {},
   "source": [
    "As seen above, tr $\\textbf{A}$ is equal to $7$ and det $\\textbf{A}$ is equal to $10$, so the characteristic equation is $\\lambda^2 -7\\lambda + 10 = 0$, which can be factored as $(\\lambda - 2)(\\lambda - 5) = 0$, hence the eigenvalues are $\\lambda_1 = 2$ and $\\lambda_2 = 5$. We'll now find the eigenvectors for each eigenvalue."
   ]
  },
  {
   "cell_type": "code",
   "execution_count": 29,
   "metadata": {
    "collapsed": false
   },
   "outputs": [
    {
     "data": {
      "text/latex": [
       "\\begin{align} \\begin{array}{lcl}\n",
       "\n",
       "\\left( \\begin{array}{c} 0 \\\\ 0 \\\\ \\end{array}\\right)\n",
       "& = &\n",
       "\\left( \\begin{array}{cc} a - \\lambda_1 & b \\\\ c & d - \\lambda_1 \\\\ \\end{array}\\right)\\left( \\begin{array}{c} x \\\\ y \\\\ \\end{array}\\right)\n",
       "\\\\\n",
       "\\\\\n",
       "& = &\n",
       "\\left( \\begin{array}{cc} 10 - 2 & 10 \\\\ -4 & -3 - 2 \\\\ \\end{array}\\right)\\left( \\begin{array}{c} x \\\\ y \\\\ \\end{array}\\right)\n",
       "\\\\\n",
       "\\\\\n",
       "& = &\n",
       "\\left( \\begin{array}{cc} 8 & 10 \\\\ -4 & -5 \\\\ \\end{array}\\right)\\left( \\begin{array}{c} x \\\\ y \\\\ \\end{array}\\right)\n",
       "\n",
       "\\end{array} \\end{align}"
      ],
      "text/plain": [
       "<IPython.core.display.Latex object>"
      ]
     },
     "metadata": {},
     "output_type": "display_data"
    }
   ],
   "source": [
    "%%latex\n",
    "\\begin{align} \\begin{array}{lcl}\n",
    "\n",
    "\\left( \\begin{array}{c} 0 \\\\ 0 \\\\ \\end{array}\\right)\n",
    "& = &\n",
    "\\left( \\begin{array}{cc} a - \\lambda_1 & b \\\\ c & d - \\lambda_1 \\\\ \\end{array}\\right)\\left( \\begin{array}{c} x \\\\ y \\\\ \\end{array}\\right)\n",
    "\\\\\n",
    "\\\\\n",
    "& = &\n",
    "\\left( \\begin{array}{cc} 10 - 2 & 10 \\\\ -4 & -3 - 2 \\\\ \\end{array}\\right)\\left( \\begin{array}{c} x \\\\ y \\\\ \\end{array}\\right)\n",
    "\\\\\n",
    "\\\\\n",
    "& = &\n",
    "\\left( \\begin{array}{cc} 8 & 10 \\\\ -4 & -5 \\\\ \\end{array}\\right)\\left( \\begin{array}{c} x \\\\ y \\\\ \\end{array}\\right)\n",
    "\n",
    "\\end{array} \\end{align}"
   ]
  },
  {
   "cell_type": "markdown",
   "metadata": {},
   "source": [
    "As seen above, the two simultaneous equations $8x + 10y = 0$ and $-4x - 5y = 0$, which is the same as the single equation $x = \\frac{-5}{4}y$, and hence the eigenvector for $\\lambda_1$ is equal to $\\left(\\begin{smallmatrix} -5 \\\\ 4 \\\\ \\end{smallmatrix}\\right)$."
   ]
  },
  {
   "cell_type": "code",
   "execution_count": 30,
   "metadata": {
    "collapsed": false
   },
   "outputs": [
    {
     "data": {
      "text/latex": [
       "\\begin{align} \\begin{array}{lcl}\n",
       "\n",
       "\\left( \\begin{array}{c} 0 \\\\ 0 \\\\ \\end{array}\\right)\n",
       "& = &\n",
       "\\left( \\begin{array}{cc} a - \\lambda_2 & b \\\\ c & d - \\lambda_2 \\\\ \\end{array}\\right)\\left( \\begin{array}{c} x \\\\ y \\\\ \\end{array}\\right)\n",
       "\\\\\n",
       "\\\\\n",
       "& = &\n",
       "\\left( \\begin{array}{cc} 10 - 5 & 10 \\\\ -4 & -3 - 5 \\\\ \\end{array}\\right)\\left( \\begin{array}{c} x \\\\ y \\\\ \\end{array}\\right)\n",
       "\\\\\n",
       "\\\\\n",
       "& = &\n",
       "\\left( \\begin{array}{cc} 5 & 10 \\\\ -4 & -8 \\\\ \\end{array}\\right)\\left( \\begin{array}{c} x \\\\ y \\\\ \\end{array}\\right)\n",
       "\n",
       "\\end{array} \\end{align}"
      ],
      "text/plain": [
       "<IPython.core.display.Latex object>"
      ]
     },
     "metadata": {},
     "output_type": "display_data"
    }
   ],
   "source": [
    "%%latex\n",
    "\\begin{align} \\begin{array}{lcl}\n",
    "\n",
    "\\left( \\begin{array}{c} 0 \\\\ 0 \\\\ \\end{array}\\right)\n",
    "& = &\n",
    "\\left( \\begin{array}{cc} a - \\lambda_2 & b \\\\ c & d - \\lambda_2 \\\\ \\end{array}\\right)\\left( \\begin{array}{c} x \\\\ y \\\\ \\end{array}\\right)\n",
    "\\\\\n",
    "\\\\\n",
    "& = &\n",
    "\\left( \\begin{array}{cc} 10 - 5 & 10 \\\\ -4 & -3 - 5 \\\\ \\end{array}\\right)\\left( \\begin{array}{c} x \\\\ y \\\\ \\end{array}\\right)\n",
    "\\\\\n",
    "\\\\\n",
    "& = &\n",
    "\\left( \\begin{array}{cc} 5 & 10 \\\\ -4 & -8 \\\\ \\end{array}\\right)\\left( \\begin{array}{c} x \\\\ y \\\\ \\end{array}\\right)\n",
    "\n",
    "\\end{array} \\end{align}"
   ]
  },
  {
   "cell_type": "markdown",
   "metadata": {},
   "source": [
    "As seen above, the two simultaneous equations $5x + 10y = 0$ and $-4x - 8y = 0$, which is the same as the single equation $x = \\frac{-2}{1}y$, and hence the eigenvector for $\\lambda_2$ is equal to $\\left(\\begin{smallmatrix} -2 \\\\ 1 \\\\ \\end{smallmatrix}\\right)$."
   ]
  },
  {
   "cell_type": "markdown",
   "metadata": {},
   "source": [
    "### Finding DPD$^{-1}$"
   ]
  },
  {
   "cell_type": "markdown",
   "metadata": {},
   "source": [
    "To express $\\textbf{A}$ in the form $\\textbf{PDP}^{-1}$, we'll first note that the matrix $\\textbf{P}$ has the eigenvectors for $\\textbf{A}$  as columns, whereas the determinant, det $\\textbf{P}$, is equal to $3$, and the matrix $\\textbf{D}$ is a diagonal with the eigenvalues."
   ]
  },
  {
   "cell_type": "code",
   "execution_count": 31,
   "metadata": {
    "collapsed": false
   },
   "outputs": [
    {
     "data": {
      "text/latex": [
       "\\begin{align} \\begin{array}{lclcl}\n",
       "\n",
       "\\textbf{P}\n",
       "& = &\n",
       "\\left( \\begin{array}{cc} -5 & -2 \\\\ 4 & 1 \\\\ \\end{array}\\right)\n",
       "& &\n",
       "\\\\\n",
       "\\\\\n",
       "\\textbf{P}^{-1}\n",
       "& = &\n",
       "\\frac{1}{\\textrm{det }\\textbf{P}}\\left( \\begin{array}{cc} 1 & 2 \\\\ -4 & -5 \\\\ \\end{array}\\right)\n",
       "& = &\n",
       "\\frac{1}{3}\\left( \\begin{array}{cc} 1 & 2 \\\\ -4 & -5 \\\\ \\end{array}\\right)\n",
       "\\\\\n",
       "\\\\\n",
       "\\textbf{D}\n",
       "& = &\n",
       "\\left( \\begin{array}{cc} \\lambda_1 & 0 \\\\ 0 & \\lambda_2 \\\\ \\end{array}\\right)\n",
       "& = &\n",
       "\\left( \\begin{array}{cc} 2 & 0 \\\\ 0 & 5 \\\\ \\end{array}\\right)\n",
       "\n",
       "\\end{array} \\end{align}"
      ],
      "text/plain": [
       "<IPython.core.display.Latex object>"
      ]
     },
     "metadata": {},
     "output_type": "display_data"
    }
   ],
   "source": [
    "%%latex\n",
    "\\begin{align} \\begin{array}{lclcl}\n",
    "\n",
    "\\textbf{P}\n",
    "& = &\n",
    "\\left( \\begin{array}{cc} -5 & -2 \\\\ 4 & 1 \\\\ \\end{array}\\right)\n",
    "& &\n",
    "\\\\\n",
    "\\\\\n",
    "\\textbf{P}^{-1}\n",
    "& = &\n",
    "\\frac{1}{\\textrm{det }\\textbf{P}}\\left( \\begin{array}{cc} 1 & 2 \\\\ -4 & -5 \\\\ \\end{array}\\right)\n",
    "& = &\n",
    "\\frac{1}{3}\\left( \\begin{array}{cc} 1 & 2 \\\\ -4 & -5 \\\\ \\end{array}\\right)\n",
    "\\\\\n",
    "\\\\\n",
    "\\textbf{D}\n",
    "& = &\n",
    "\\left( \\begin{array}{cc} \\lambda_1 & 0 \\\\ 0 & \\lambda_2 \\\\ \\end{array}\\right)\n",
    "& = &\n",
    "\\left( \\begin{array}{cc} 2 & 0 \\\\ 0 & 5 \\\\ \\end{array}\\right)\n",
    "\n",
    "\\end{array} \\end{align}"
   ]
  },
  {
   "cell_type": "markdown",
   "metadata": {},
   "source": [
    "As seen above, $\\textbf{PDP}^{-1}$ is equal to $\\left(\\begin{smallmatrix} -5 & -2 \\\\ 4 & 1 \\\\ \\end{smallmatrix}\\right)\\left(\\begin{smallmatrix}2 & 0 \\\\ 0 & 5 \\\\ \\end{smallmatrix}\\right)\\frac{1}{3}\\left(\\begin{smallmatrix} 1 & 2 \\\\ -4 & -5 \\\\ \\end{smallmatrix}\\right)$, which indeed evaluates to $\\left(\\begin{smallmatrix} 10 & 10 \\\\ -4 & -3 \\\\ \\end{smallmatrix}\\right)$."
   ]
  },
  {
   "cell_type": "markdown",
   "metadata": {},
   "source": [
    "### Using DPD$^{-1}$"
   ]
  },
  {
   "cell_type": "markdown",
   "metadata": {},
   "source": [
    "To calculate $\\textbf{A}^{4}$, we'll first note that $\\textbf{A}^{n}$ is equal to $\\textbf{PD}^{n}$ $\\textbf{P}^{-1}$, and then multiply the matrices."
   ]
  },
  {
   "cell_type": "code",
   "execution_count": 32,
   "metadata": {
    "collapsed": false
   },
   "outputs": [
    {
     "data": {
      "text/latex": [
       "\\begin{align} \\begin{array}{lcl}\n",
       "\n",
       "\\textbf{A}^{4}\n",
       "& = &\n",
       "\\textbf{PD}^{4}\\textbf{P}^{-1}\n",
       "\\\\\n",
       "\\\\\n",
       "& = &\n",
       "\\left( \\begin{array}{cc} -5 & -2 \\\\ 4 & 1 \\\\ \\end{array}\\right)\\left( \\begin{array}{cc} 2^4 & 0 \\\\ 0 & 5^4 \\\\ \\end{array}\\right)\\frac{1}{3}\\left(\\begin{array}{cc} 1 & 2 \\\\ -4 & -5 \\\\ \\end{array}\\right)\n",
       "\\\\\n",
       "\\\\\n",
       "& = &\n",
       "\\left( \\begin{array}{cc} -5 & -2 \\\\ 4 & 1 \\\\ \\end{array}\\right)\\left( \\begin{array}{cc} 16 & 0 \\\\ 0 & 625 \\\\ \\end{array}\\right)\\frac{1}{3}\\left(\\begin{array}{cc} 1 & 2 \\\\ -4 & -5 \\\\ \\end{array}\\right)\n",
       "\\\\\n",
       "\\\\\n",
       "& = &\n",
       "\\left( \\begin{array}{cc} -80 & -1250 \\\\ 64 & 625 \\\\ \\end{array}\\right)\\frac{1}{3}\\left( \\begin{array}{cc} 1 & 2 \\\\ -4 & -5 \\\\ \\end{array}\\right)\n",
       "\\\\\n",
       "\\\\\n",
       "& = &\n",
       "\\frac{1}{3}\\left( \\begin{array}{cc} 4920 & 6090 \\\\ -2436 & -2997 \\\\ \\end{array}\\right)\n",
       "\\\\\n",
       "\\\\\n",
       "& = &\n",
       "\\left( \\begin{array}{cc} 1640 & 2030 \\\\ -812 & -999 \\\\ \\end{array}\\right)\n",
       "\n",
       "\\end{array} \\end{align}"
      ],
      "text/plain": [
       "<IPython.core.display.Latex object>"
      ]
     },
     "metadata": {},
     "output_type": "display_data"
    }
   ],
   "source": [
    "%%latex\n",
    "\\begin{align} \\begin{array}{lcl}\n",
    "\n",
    "\\textbf{A}^{4}\n",
    "& = &\n",
    "\\textbf{PD}^{4}\\textbf{P}^{-1}\n",
    "\\\\\n",
    "\\\\\n",
    "& = &\n",
    "\\left( \\begin{array}{cc} -5 & -2 \\\\ 4 & 1 \\\\ \\end{array}\\right)\\left( \\begin{array}{cc} 2^4 & 0 \\\\ 0 & 5^4 \\\\ \\end{array}\\right)\\frac{1}{3}\\left(\\begin{array}{cc} 1 & 2 \\\\ -4 & -5 \\\\ \\end{array}\\right)\n",
    "\\\\\n",
    "\\\\\n",
    "& = &\n",
    "\\left( \\begin{array}{cc} -5 & -2 \\\\ 4 & 1 \\\\ \\end{array}\\right)\\left( \\begin{array}{cc} 16 & 0 \\\\ 0 & 625 \\\\ \\end{array}\\right)\\frac{1}{3}\\left(\\begin{array}{cc} 1 & 2 \\\\ -4 & -5 \\\\ \\end{array}\\right)\n",
    "\\\\\n",
    "\\\\\n",
    "& = &\n",
    "\\left( \\begin{array}{cc} -80 & -1250 \\\\ 64 & 625 \\\\ \\end{array}\\right)\\frac{1}{3}\\left( \\begin{array}{cc} 1 & 2 \\\\ -4 & -5 \\\\ \\end{array}\\right)\n",
    "\\\\\n",
    "\\\\\n",
    "& = &\n",
    "\\frac{1}{3}\\left( \\begin{array}{cc} 4920 & 6090 \\\\ -2436 & -2997 \\\\ \\end{array}\\right)\n",
    "\\\\\n",
    "\\\\\n",
    "& = &\n",
    "\\left( \\begin{array}{cc} 1640 & 2030 \\\\ -812 & -999 \\\\ \\end{array}\\right)\n",
    "\n",
    "\\end{array} \\end{align}"
   ]
  },
  {
   "cell_type": "code",
   "execution_count": null,
   "metadata": {
    "collapsed": true
   },
   "outputs": [],
   "source": []
  },
  {
   "cell_type": "markdown",
   "metadata": {},
   "source": [
    "<i>Notebook by <a href=\"https://www.michaelsjoeberg.com\">Michael Sjoeberg</a>, updated 21 August 2017</i>."
   ]
  }
 ],
 "metadata": {
  "anaconda-cloud": {},
  "kernelspec": {
   "display_name": "Python [Root]",
   "language": "python",
   "name": "Python [Root]"
  },
  "language_info": {
   "codemirror_mode": {
    "name": "ipython",
    "version": 2
   },
   "file_extension": ".py",
   "mimetype": "text/x-python",
   "name": "python",
   "nbconvert_exporter": "python",
   "pygments_lexer": "ipython2",
   "version": "2.7.12"
  }
 },
 "nbformat": 4,
 "nbformat_minor": 0
}
