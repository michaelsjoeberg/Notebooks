{
 "cells": [
  {
   "cell_type": "markdown",
   "metadata": {},
   "source": [
    "# Number Theory: Modulo"
   ]
  },
  {
   "cell_type": "markdown",
   "metadata": {},
   "source": [
    "21 August 2017 | Mathematics"
   ]
  },
  {
   "cell_type": "markdown",
   "metadata": {
    "collapsed": true
   },
   "source": [
    "### Least residue"
   ]
  },
  {
   "cell_type": "markdown",
   "metadata": {},
   "source": [
    "To find the least residue, or remainder, of $7^5$ modulo $50$, we'll first notice that there are no multiple of $50$ that would be smaller or equal to $7$, i.e. $7 = 0(50) + 7$, and hence $7^1 \\equiv 7$ (mod $50$), we can use the power rule, $a \\equiv b$ (mod $n$) $\\Rightarrow a^m \\equiv b^m$ (mod $n$), and find the remainder for $7^2$."
   ]
  },
  {
   "cell_type": "code",
   "execution_count": 14,
   "metadata": {
    "collapsed": false
   },
   "outputs": [
    {
     "data": {
      "text/latex": [
       "\\begin{align} \\begin{array}{lcl}\n",
       "\n",
       "7^1 & = & 0(50) + 7 \\\\\n",
       "7^2 & = & 0(50) + 49 \\\\\n",
       "\n",
       "\\end{array} \\end{align}"
      ],
      "text/plain": [
       "<IPython.core.display.Latex object>"
      ]
     },
     "metadata": {},
     "output_type": "display_data"
    }
   ],
   "source": [
    "%%latex\n",
    "\\begin{align} \\begin{array}{lcl}\n",
    "\n",
    "7^1 & = & 0(50) + 7 \\\\\n",
    "7^2 & = & 0(50) + 49 \\\\\n",
    "\n",
    "\\end{array} \\end{align}"
   ]
  },
  {
   "cell_type": "markdown",
   "metadata": {},
   "source": [
    "As seen above, the remainder of $7^2$ modulo $50$ is equal to $49$, which is congruent $-1$, and hence $7^5 \\equiv 7^1 \\cdot 7^2 \\cdot 7^2 \\equiv (7) \\cdot (-1) \\cdot (-1) \\equiv 7$ (mod $50$)."
   ]
  },
  {
   "cell_type": "code",
   "execution_count": 15,
   "metadata": {
    "collapsed": false
   },
   "outputs": [
    {
     "data": {
      "text/latex": [
       "\\begin{align} \\begin{array}{lcl}\n",
       "\n",
       "49 & = & 0(50) + 49 \\\\\n",
       "-1 & = & -1(50) + 49\n",
       "\n",
       "\\end{array} \\end{align}"
      ],
      "text/plain": [
       "<IPython.core.display.Latex object>"
      ]
     },
     "metadata": {},
     "output_type": "display_data"
    }
   ],
   "source": [
    "%%latex\n",
    "\\begin{align} \\begin{array}{lcl}\n",
    "\n",
    "49 & = & 0(50) + 49 \\\\\n",
    "-1 & = & -1(50) + 49\n",
    "\n",
    "\\end{array} \\end{align}"
   ]
  },
  {
   "cell_type": "markdown",
   "metadata": {},
   "source": [
    "### Fermat's little theorem"
   ]
  },
  {
   "cell_type": "markdown",
   "metadata": {},
   "source": [
    "To find the least residue, or remainder, of $8^{123}$ modulo $61$ using Fermat's little theorem, $a^{p-1} \\equiv 1$ (mod $p$), we'll first substitute $p$ with $61$, which is prime, and then apply the power rule to get as close to $123$ as possible."
   ]
  },
  {
   "cell_type": "code",
   "execution_count": 20,
   "metadata": {
    "collapsed": false
   },
   "outputs": [
    {
     "data": {
      "text/latex": [
       "\\begin{align} \\begin{array}{lcl}\n",
       "\n",
       "8^{60} & \\equiv & 1 \\textrm{ (mod } 61\\textrm{)} \\\\\n",
       "8^{120} & \\equiv & 1^2 \\textrm{ (mod } 61\\textrm{)} \n",
       "\n",
       "\\end{array} \\end{align}"
      ],
      "text/plain": [
       "<IPython.core.display.Latex object>"
      ]
     },
     "metadata": {},
     "output_type": "display_data"
    }
   ],
   "source": [
    "%%latex\n",
    "\\begin{align} \\begin{array}{lcl}\n",
    "\n",
    "8^{60} & \\equiv & 1 \\textrm{ (mod } 61\\textrm{)} \\\\\n",
    "8^{120} & \\equiv & 1^2 \\textrm{ (mod } 61\\textrm{)} \n",
    "\n",
    "\\end{array} \\end{align}"
   ]
  },
  {
   "cell_type": "markdown",
   "metadata": {},
   "source": [
    "As seen above, $8^{120} \\equiv 1^2$, hence we can now find a new expression for $8^{123}$, whereas the exponent $123$ is equal to $2 \\cdot 60 + 3$, or simply $120 + 3$."
   ]
  },
  {
   "cell_type": "code",
   "execution_count": 22,
   "metadata": {
    "collapsed": false
   },
   "outputs": [
    {
     "data": {
      "text/latex": [
       "\\begin{align} \\begin{array}{lcl}\n",
       "\n",
       "8^{123}\n",
       "& \\equiv &\n",
       "\\left(8^{60}\\right)^{2} \\cdot 8^3 \\\\\n",
       "& \\equiv &\n",
       "1^2 \\cdot 8^3 \\\\\n",
       "& \\equiv &\n",
       "512 \\\\\n",
       "\\\\\n",
       "512 \n",
       "& = & \n",
       "8(61) + 24\n",
       "    \n",
       "\\end{array} \\end{align}"
      ],
      "text/plain": [
       "<IPython.core.display.Latex object>"
      ]
     },
     "metadata": {},
     "output_type": "display_data"
    }
   ],
   "source": [
    "%%latex\n",
    "\\begin{align} \\begin{array}{lcl}\n",
    "\n",
    "8^{123}\n",
    "& \\equiv &\n",
    "\\left(8^{60}\\right)^{2} \\cdot 8^3 \\\\\n",
    "& \\equiv &\n",
    "1^2 \\cdot 8^3 \\\\\n",
    "& \\equiv &\n",
    "512 \\\\\n",
    "\\\\\n",
    "512 \n",
    "& = & \n",
    "8(61) + 24\n",
    "    \n",
    "\\end{array} \\end{align}"
   ]
  },
  {
   "cell_type": "markdown",
   "metadata": {},
   "source": [
    "As seen above, $8^{123}$ is congruent $512$, which has least residue $24$"
   ]
  },
  {
   "cell_type": "code",
   "execution_count": null,
   "metadata": {
    "collapsed": true
   },
   "outputs": [],
   "source": []
  },
  {
   "cell_type": "markdown",
   "metadata": {},
   "source": [
    "<i>Notebook by <a href=\"https://www.michaelsjoeberg.com\">Michael Sjoeberg</a>, updated 21 August 2017</i>."
   ]
  }
 ],
 "metadata": {
  "anaconda-cloud": {},
  "kernelspec": {
   "display_name": "Python [Root]",
   "language": "python",
   "name": "Python [Root]"
  },
  "language_info": {
   "codemirror_mode": {
    "name": "ipython",
    "version": 2
   },
   "file_extension": ".py",
   "mimetype": "text/x-python",
   "name": "python",
   "nbconvert_exporter": "python",
   "pygments_lexer": "ipython2",
   "version": "2.7.12"
  }
 },
 "nbformat": 4,
 "nbformat_minor": 0
}
