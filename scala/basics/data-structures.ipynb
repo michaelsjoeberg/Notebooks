{
 "cells": [
  {
   "cell_type": "markdown",
   "metadata": {},
   "source": [
    "# Data Structures"
   ]
  },
  {
   "cell_type": "markdown",
   "metadata": {},
   "source": [
    "24 August | Scala"
   ]
  },
  {
   "cell_type": "markdown",
   "metadata": {
    "collapsed": true
   },
   "source": [
    "### Lists (immutable)"
   ]
  },
  {
   "cell_type": "code",
   "execution_count": 1,
   "metadata": {
    "collapsed": false
   },
   "outputs": [
    {
     "name": "stdout",
     "output_type": "stream",
     "text": [
      "List(Michael, Anna, Adam, Jorge, David, Susan, Cole)\n"
     ]
    },
    {
     "data": {
      "text/plain": [
       "\u001b[36mlst_strings\u001b[0m: \u001b[32mList\u001b[0m[\u001b[32mString\u001b[0m] = \u001b[33mList\u001b[0m(\u001b[32m\"Michael\"\u001b[0m, \u001b[32m\"Anna\"\u001b[0m, \u001b[32m\"Adam\"\u001b[0m, \u001b[32m\"Jorge\"\u001b[0m, \u001b[32m\"David\"\u001b[0m, \u001b[32m\"Susan\"\u001b[0m, \u001b[32m\"Cole\"\u001b[0m)"
      ]
     },
     "metadata": {},
     "output_type": "display_data"
    }
   ],
   "source": [
    "// list of strings\n",
    "val lst_strings: List[String] = List(\"Michael\", \"Anna\", \"Adam\", \"Jorge\", \"David\", \"Susan\", \"Cole\")\n",
    "\n",
    "println(lst_strings)"
   ]
  },
  {
   "cell_type": "code",
   "execution_count": 2,
   "metadata": {
    "collapsed": false
   },
   "outputs": [
    {
     "name": "stdout",
     "output_type": "stream",
     "text": [
      "List(6, 28, 1000.0, -2, Text, List(1.0, 0.0))\n"
     ]
    },
    {
     "data": {
      "text/plain": [
       "\u001b[36mlst_mixed\u001b[0m: \u001b[32mList\u001b[0m[\u001b[32mAny\u001b[0m] = \u001b[33mList\u001b[0m(6, 28, 1000.0, -2, Text, List(1.0, 0.0))"
      ]
     },
     "metadata": {},
     "output_type": "display_data"
    }
   ],
   "source": [
    "// list of mixed\n",
    "val lst_mixed: List[Any] = List(6, 28, 1e3, -2, \"Text\", List(1.0, 0.0))\n",
    "\n",
    "println(lst_mixed)"
   ]
  },
  {
   "cell_type": "code",
   "execution_count": 3,
   "metadata": {
    "collapsed": false
   },
   "outputs": [
    {
     "data": {
      "text/plain": [
       "\u001b[36mres2\u001b[0m: \u001b[32mInt\u001b[0m = \u001b[32m7\u001b[0m"
      ]
     },
     "metadata": {},
     "output_type": "display_data"
    }
   ],
   "source": [
    "// length of a list (number of items in list)\n",
    "lst_strings.length"
   ]
  },
  {
   "cell_type": "code",
   "execution_count": 4,
   "metadata": {
    "collapsed": false
   },
   "outputs": [
    {
     "name": "stdout",
     "output_type": "stream",
     "text": [
      "List(Michael, Anna, Adam, Jorge, David, Susan, Cole, 6, 28, 1000.0, -2, Text, List(1.0, 0.0))\n"
     ]
    },
    {
     "data": {
      "text/plain": [
       "\u001b[36mlst_all\u001b[0m: \u001b[32mList\u001b[0m[\u001b[32mAny\u001b[0m] = \u001b[33mList\u001b[0m(\n",
       "  Michael,\n",
       "  Anna,\n",
       "  Adam,\n",
       "  Jorge,\n",
       "  David,\n",
       "  Susan,\n",
       "  Cole,\n",
       "  6,\n",
       "  28,\n",
       "  1000.0,\n",
       "  -2,\n",
       "  Text,\n",
       "  List(1.0, 0.0)\n",
       ")"
      ]
     },
     "metadata": {},
     "output_type": "display_data"
    }
   ],
   "source": [
    "// concatenate lists\n",
    "val lst_all = lst_strings ++ lst_mixed\n",
    "\n",
    "println(lst_all)"
   ]
  },
  {
   "cell_type": "code",
   "execution_count": 5,
   "metadata": {
    "collapsed": false
   },
   "outputs": [
    {
     "name": "stdout",
     "output_type": "stream",
     "text": [
      "List(Julia, Michael, Anna, Adam, Jorge, David, Susan, Cole)\n"
     ]
    },
    {
     "data": {
      "text/plain": [
       "\u001b[36mlst_strings_add\u001b[0m: \u001b[32mList\u001b[0m[\u001b[32mString\u001b[0m] = \u001b[33mList\u001b[0m(\u001b[32m\"Julia\"\u001b[0m, \u001b[32m\"Michael\"\u001b[0m, \u001b[32m\"Anna\"\u001b[0m, \u001b[32m\"Adam\"\u001b[0m, \u001b[32m\"Jorge\"\u001b[0m, \u001b[32m\"David\"\u001b[0m, \u001b[32m\"Susan\"\u001b[0m, \u001b[32m\"Cole\"\u001b[0m)"
      ]
     },
     "metadata": {},
     "output_type": "display_data"
    }
   ],
   "source": [
    "// add item to list (create a new list with additional items)\n",
    "val lst_strings_add = \"Julia\" :: lst_strings\n",
    "\n",
    "println(lst_strings_add)"
   ]
  },
  {
   "cell_type": "code",
   "execution_count": 6,
   "metadata": {
    "collapsed": false
   },
   "outputs": [
    {
     "name": "stdout",
     "output_type": "stream",
     "text": [
      "List(Adam, Anna, Cole, David, Jorge, Michael, Susan)\n"
     ]
    },
    {
     "data": {
      "text/plain": [
       "\u001b[36mlst_sorted\u001b[0m: \u001b[32mList\u001b[0m[\u001b[32mString\u001b[0m] = \u001b[33mList\u001b[0m(\u001b[32m\"Adam\"\u001b[0m, \u001b[32m\"Anna\"\u001b[0m, \u001b[32m\"Cole\"\u001b[0m, \u001b[32m\"David\"\u001b[0m, \u001b[32m\"Jorge\"\u001b[0m, \u001b[32m\"Michael\"\u001b[0m, \u001b[32m\"Susan\"\u001b[0m)"
      ]
     },
     "metadata": {},
     "output_type": "display_data"
    }
   ],
   "source": [
    "// sort list\n",
    "val lst_sorted = lst_strings.sorted\n",
    "\n",
    "println(lst_sorted)"
   ]
  },
  {
   "cell_type": "code",
   "execution_count": 7,
   "metadata": {
    "collapsed": false
   },
   "outputs": [
    {
     "name": "stdout",
     "output_type": "stream",
     "text": [
      "6\n",
      "List(1.0, 0.0)\n"
     ]
    },
    {
     "data": {
      "text/plain": []
     },
     "metadata": {},
     "output_type": "display_data"
    }
   ],
   "source": [
    "// print first item in list\n",
    "println(lst_mixed.head)\n",
    "\n",
    "// print last item in list\n",
    "println(lst_mixed.last)"
   ]
  },
  {
   "cell_type": "code",
   "execution_count": 8,
   "metadata": {
    "collapsed": false
   },
   "outputs": [
    {
     "name": "stdout",
     "output_type": "stream",
     "text": [
      "List(5, 2, 3, 6, 4)\n",
      "List(5, 6, 4)\n"
     ]
    },
    {
     "data": {
      "text/plain": [
       "\u001b[36mlst_numbers\u001b[0m: \u001b[32mList\u001b[0m[\u001b[32mInt\u001b[0m] = \u001b[33mList\u001b[0m(\u001b[32m5\u001b[0m, \u001b[32m2\u001b[0m, \u001b[32m3\u001b[0m, \u001b[32m6\u001b[0m, \u001b[32m4\u001b[0m)\n",
       "\u001b[36mlst_numbers_delete\u001b[0m: \u001b[32mList\u001b[0m[\u001b[32mInt\u001b[0m] = \u001b[33mList\u001b[0m(\u001b[32m5\u001b[0m, \u001b[32m6\u001b[0m, \u001b[32m4\u001b[0m)"
      ]
     },
     "metadata": {},
     "output_type": "display_data"
    }
   ],
   "source": [
    "// define a list with numbers\n",
    "val lst_numbers = List(5, 2, 3, 6, 4)\n",
    "\n",
    "// delete item(s) in list (filter)\n",
    "val lst_numbers_delete = lst_numbers.filter(_ > 3)\n",
    "\n",
    "println(lst_numbers)\n",
    "println(lst_numbers_delete)"
   ]
  },
  {
   "cell_type": "code",
   "execution_count": 9,
   "metadata": {
    "collapsed": false
   },
   "outputs": [
    {
     "name": "stdout",
     "output_type": "stream",
     "text": [
      "List(F, =, d, p, /, d, t)\n"
     ]
    },
    {
     "data": {
      "text/plain": [
       "\u001b[36mlst_characters\u001b[0m: \u001b[32mList\u001b[0m[\u001b[32mChar\u001b[0m] = \u001b[33mList\u001b[0m(\u001b[32m'F'\u001b[0m, \u001b[32m'='\u001b[0m, \u001b[32m'd'\u001b[0m, \u001b[32m'p'\u001b[0m, \u001b[32m'/'\u001b[0m, \u001b[32m'd'\u001b[0m, \u001b[32m't'\u001b[0m)"
      ]
     },
     "metadata": {},
     "output_type": "display_data"
    }
   ],
   "source": [
    "// create a list from string (removing whitespace)\n",
    "val lst_characters = (\"F = dp/dt\").replaceAll(\"\\\\s\", \"\").toList\n",
    "\n",
    "println(lst_characters)"
   ]
  },
  {
   "cell_type": "markdown",
   "metadata": {},
   "source": [
    "### Tuples (immutable)"
   ]
  },
  {
   "cell_type": "code",
   "execution_count": 10,
   "metadata": {
    "collapsed": false
   },
   "outputs": [
    {
     "name": "stdout",
     "output_type": "stream",
     "text": [
      "(Michael,Anna,David,Susan)\n"
     ]
    },
    {
     "data": {
      "text/plain": [
       "\u001b[36mtpl_strings\u001b[0m: (\u001b[32mString\u001b[0m, \u001b[32mString\u001b[0m, \u001b[32mString\u001b[0m, \u001b[32mString\u001b[0m) = \u001b[33m\u001b[0m(\u001b[32m\"Michael\"\u001b[0m, \u001b[32m\"Anna\"\u001b[0m, \u001b[32m\"David\"\u001b[0m, \u001b[32m\"Susan\"\u001b[0m)"
      ]
     },
     "metadata": {},
     "output_type": "display_data"
    }
   ],
   "source": [
    "// create a tuple of strings\n",
    "val tpl_strings = (\"Michael\", \"Anna\", \"David\", \"Susan\")\n",
    "\n",
    "println(tpl_strings)"
   ]
  },
  {
   "cell_type": "code",
   "execution_count": 11,
   "metadata": {
    "collapsed": false
   },
   "outputs": [
    {
     "name": "stdout",
     "output_type": "stream",
     "text": [
      "(1.0,Text,4)\n"
     ]
    },
    {
     "data": {
      "text/plain": [
       "\u001b[36mtpl_mixed\u001b[0m: (\u001b[32mDouble\u001b[0m, \u001b[32mString\u001b[0m, \u001b[32mInt\u001b[0m) = \u001b[33m\u001b[0m(\u001b[32m1.0\u001b[0m, \u001b[32m\"Text\"\u001b[0m, \u001b[32m4\u001b[0m)"
      ]
     },
     "metadata": {},
     "output_type": "display_data"
    }
   ],
   "source": [
    "// create a tuple of mixed\n",
    "val tpl_mixed = (1.0, \"Text\", 4)\n",
    "\n",
    "println(tpl_mixed)"
   ]
  },
  {
   "cell_type": "code",
   "execution_count": 12,
   "metadata": {
    "collapsed": false
   },
   "outputs": [
    {
     "name": "stdout",
     "output_type": "stream",
     "text": [
      "(Alpha,Bravo,(Michael,Anna,David,Susan))\n"
     ]
    },
    {
     "data": {
      "text/plain": [
       "\u001b[36mtpl_nested\u001b[0m: (\u001b[32mString\u001b[0m, \u001b[32mString\u001b[0m, (\u001b[32mString\u001b[0m, \u001b[32mString\u001b[0m, \u001b[32mString\u001b[0m, \u001b[32mString\u001b[0m)) = \u001b[33m\u001b[0m(\u001b[32m\"Alpha\"\u001b[0m, \u001b[32m\"Bravo\"\u001b[0m, \u001b[33m\u001b[0m(\u001b[32m\"Michael\"\u001b[0m, \u001b[32m\"Anna\"\u001b[0m, \u001b[32m\"David\"\u001b[0m, \u001b[32m\"Susan\"\u001b[0m))"
      ]
     },
     "metadata": {},
     "output_type": "display_data"
    }
   ],
   "source": [
    "// create nested tuples\n",
    "val tpl_nested = (\"Alpha\", \"Bravo\", tpl_strings)\n",
    "\n",
    "println(tpl_nested)"
   ]
  },
  {
   "cell_type": "code",
   "execution_count": 13,
   "metadata": {
    "collapsed": false
   },
   "outputs": [
    {
     "name": "stdout",
     "output_type": "stream",
     "text": [
      "Bravo\n",
      "Anna\n"
     ]
    },
    {
     "data": {
      "text/plain": []
     },
     "metadata": {},
     "output_type": "display_data"
    }
   ],
   "source": [
    "// print the second item in nested tuples\n",
    "println(tpl_nested._2)\n",
    "\n",
    "// print the second item in tuple in nested tuples\n",
    "println(tpl_nested._3._2)"
   ]
  },
  {
   "cell_type": "markdown",
   "metadata": {},
   "source": [
    "### Maps (hash table, key:value, immutable)"
   ]
  },
  {
   "cell_type": "code",
   "execution_count": 14,
   "metadata": {
    "collapsed": false
   },
   "outputs": [
    {
     "name": "stdout",
     "output_type": "stream",
     "text": [
      "Map(Michael -> List(michael@mail.com, mike@mail.com), David -> david@mail.com, Alex -> alex@mail.com, Susan -> susan@mail.com)\n"
     ]
    },
    {
     "data": {
      "text/plain": [
       "\u001b[36mmap_strings\u001b[0m: \u001b[32mMap\u001b[0m[\u001b[32mString\u001b[0m, \u001b[32mObject\u001b[0m with \u001b[32mjava\u001b[0m.\u001b[32mio\u001b[0m.\u001b[32mSerializable\u001b[0m] = \u001b[33mMap\u001b[0m(\n",
       "  \u001b[32m\"Michael\"\u001b[0m -> List(michael@mail.com, mike@mail.com),\n",
       "  \u001b[32m\"David\"\u001b[0m -> david@mail.com,\n",
       "  \u001b[32m\"Alex\"\u001b[0m -> alex@mail.com,\n",
       "  \u001b[32m\"Susan\"\u001b[0m -> susan@mail.com\n",
       ")"
      ]
     },
     "metadata": {},
     "output_type": "display_data"
    }
   ],
   "source": [
    "// create a map of strings\n",
    "val map_strings = Map(\"Michael\" -> List(\"michael@mail.com\", \"mike@mail.com\"),\n",
    "                      \"David\" -> \"david@mail.com\",\n",
    "                      \"Alex\" -> \"alex@mail.com\",\n",
    "                      \"Susan\" -> \"susan@mail.com\")\n",
    "\n",
    "println(map_strings)"
   ]
  },
  {
   "cell_type": "code",
   "execution_count": 15,
   "metadata": {
    "collapsed": false
   },
   "outputs": [
    {
     "name": "stdout",
     "output_type": "stream",
     "text": [
      "mike@mail.com\n"
     ]
    },
    {
     "data": {
      "text/plain": [
       "\u001b[36mlst_tmp\u001b[0m: \u001b[32mList\u001b[0m[\u001b[32mString\u001b[0m] = \u001b[33mList\u001b[0m(\u001b[32m\"michael@mail.com\"\u001b[0m, \u001b[32m\"mike@mail.com\"\u001b[0m)"
      ]
     },
     "metadata": {},
     "output_type": "display_data"
    }
   ],
   "source": [
    "// convert (option) values to list from map of strings\n",
    "val lst_tmp: List[String] = map_strings.get(\"Michael\") match {\n",
    "    case None => Nil\n",
    "    case Some(s: List[String]) => s\n",
    "}\n",
    "\n",
    "// print second value in list\n",
    "println(lst_tmp(1))"
   ]
  },
  {
   "cell_type": "code",
   "execution_count": 16,
   "metadata": {
    "collapsed": false
   },
   "outputs": [
    {
     "data": {
      "text/plain": [
       "\u001b[36mmap_mixed\u001b[0m: \u001b[32mMap\u001b[0m[\u001b[32mAny\u001b[0m, \u001b[32mDouble\u001b[0m] = \u001b[33mMap\u001b[0m(pi -> \u001b[32m3.14159\u001b[0m, e -> \u001b[32m2.718\u001b[0m, h -> \u001b[32m6.62606957E-34\u001b[0m, true -> \u001b[32m1.0\u001b[0m)"
      ]
     },
     "metadata": {},
     "output_type": "display_data"
    }
   ],
   "source": [
    "// create a map of mixed\n",
    "val map_mixed = Map(\"pi\" -> 3.14159,\n",
    "                    \"e\" -> 2.718,\n",
    "                    \"h\" -> 6.62606957e-34,\n",
    "                    true -> 1.0)"
   ]
  },
  {
   "cell_type": "code",
   "execution_count": 17,
   "metadata": {
    "collapsed": false
   },
   "outputs": [
    {
     "data": {
      "text/plain": [
       "\u001b[36mres16_0\u001b[0m: \u001b[32mOption\u001b[0m[\u001b[32mDouble\u001b[0m] = \u001b[33mSome\u001b[0m(\u001b[32m2.718\u001b[0m)\n",
       "\u001b[36mres16_1\u001b[0m: \u001b[32mDouble\u001b[0m = \u001b[32m2.718\u001b[0m"
      ]
     },
     "metadata": {},
     "output_type": "display_data"
    }
   ],
   "source": [
    "// get value from map of mixed using key\n",
    "map_mixed.get(\"e\"): Option[Double]\n",
    "\n",
    "// or\n",
    "map_mixed(\"e\")"
   ]
  },
  {
   "cell_type": "code",
   "execution_count": 18,
   "metadata": {
    "collapsed": false
   },
   "outputs": [
    {
     "data": {
      "text/plain": [
       "\u001b[36mres17\u001b[0m: \u001b[32mBoolean\u001b[0m = \u001b[32mtrue\u001b[0m"
      ]
     },
     "metadata": {},
     "output_type": "display_data"
    }
   ],
   "source": [
    "// check if key is in map\n",
    "map_mixed.contains(\"pi\")"
   ]
  },
  {
   "cell_type": "code",
   "execution_count": 19,
   "metadata": {
    "collapsed": false
   },
   "outputs": [
    {
     "data": {
      "text/plain": [
       "\u001b[36mres18_0\u001b[0m: \u001b[32mBoolean\u001b[0m = \u001b[32mtrue\u001b[0m\n",
       "\u001b[36mres18_1\u001b[0m: \u001b[32mBoolean\u001b[0m = \u001b[32mfalse\u001b[0m"
      ]
     },
     "metadata": {},
     "output_type": "display_data"
    }
   ],
   "source": [
    "// check if key:value is in map\n",
    "map_mixed.exists(_ == \"e\" -> 2.718)\n",
    "map_mixed.exists(_ == false -> 0.0)"
   ]
  },
  {
   "cell_type": "markdown",
   "metadata": {},
   "source": [
    "### Maps (hash table, key:value, mutable)"
   ]
  },
  {
   "cell_type": "code",
   "execution_count": 20,
   "metadata": {
    "collapsed": false
   },
   "outputs": [
    {
     "data": {
      "text/plain": [
       "\u001b[36mmap_mutable\u001b[0m: \u001b[32mcollection\u001b[0m.\u001b[32mmutable\u001b[0m.\u001b[32mMap\u001b[0m[\u001b[32mString\u001b[0m, \u001b[32mString\u001b[0m] = \u001b[33mMap\u001b[0m()"
      ]
     },
     "metadata": {},
     "output_type": "display_data"
    }
   ],
   "source": [
    "// create an empty (mutable) map of strings\n",
    "val map_mutable = scala.collection.mutable.Map[String, String]()"
   ]
  },
  {
   "cell_type": "code",
   "execution_count": 21,
   "metadata": {
    "collapsed": false
   },
   "outputs": [
    {
     "data": {
      "text/plain": [
       "\u001b[36mres20\u001b[0m: \u001b[32mcollection\u001b[0m.\u001b[32mmutable\u001b[0m.\u001b[32mMap\u001b[0m[\u001b[32mString\u001b[0m, \u001b[32mString\u001b[0m] = \u001b[33mMap\u001b[0m(\u001b[32m\"Michael\"\u001b[0m -> \u001b[32m\"Sweden\"\u001b[0m)"
      ]
     },
     "metadata": {},
     "output_type": "display_data"
    }
   ],
   "source": [
    "// add entry to map (mutable) of strings\n",
    "map_mutable += (\"Michael\" -> \"Sweden\")"
   ]
  },
  {
   "cell_type": "code",
   "execution_count": 22,
   "metadata": {
    "collapsed": false
   },
   "outputs": [
    {
     "data": {
      "text/plain": [
       "\u001b[36mres21\u001b[0m: \u001b[32mcollection\u001b[0m.\u001b[32mmutable\u001b[0m.\u001b[32mMap\u001b[0m[\u001b[32mString\u001b[0m, \u001b[32mString\u001b[0m] = \u001b[33mMap\u001b[0m(\u001b[32m\"Susan\"\u001b[0m -> \u001b[32m\"Spain\"\u001b[0m, \u001b[32m\"Alex\"\u001b[0m -> \u001b[32m\"Norway\"\u001b[0m, \u001b[32m\"Michael\"\u001b[0m -> \u001b[32m\"Sweden\"\u001b[0m)"
      ]
     },
     "metadata": {},
     "output_type": "display_data"
    }
   ],
   "source": [
    "// add multiple entries to map (mutable) of strings\n",
    "map_mutable += (\"Alex\" -> \"Norway\", \"Susan\" -> \"Spain\")"
   ]
  },
  {
   "cell_type": "code",
   "execution_count": 23,
   "metadata": {
    "collapsed": false
   },
   "outputs": [
    {
     "data": {
      "text/plain": [
       "\u001b[36mres22\u001b[0m: \u001b[32mcollection\u001b[0m.\u001b[32mmutable\u001b[0m.\u001b[32mMap\u001b[0m[\u001b[32mString\u001b[0m, \u001b[32mString\u001b[0m] = \u001b[33mMap\u001b[0m(\u001b[32m\"Susan\"\u001b[0m -> \u001b[32m\"Spain\"\u001b[0m, \u001b[32m\"Michael\"\u001b[0m -> \u001b[32m\"Sweden\"\u001b[0m)"
      ]
     },
     "metadata": {},
     "output_type": "display_data"
    }
   ],
   "source": [
    "// delete entry from map (mutable) of strings\n",
    "map_mutable -= \"Alex\""
   ]
  },
  {
   "cell_type": "code",
   "execution_count": 24,
   "metadata": {
    "collapsed": false
   },
   "outputs": [
    {
     "data": {
      "text/plain": [
       "\u001b[36mres23_1\u001b[0m: \u001b[32mcollection\u001b[0m.\u001b[32mmutable\u001b[0m.\u001b[32mMap\u001b[0m[\u001b[32mString\u001b[0m, \u001b[32mString\u001b[0m] = \u001b[33mMap\u001b[0m(\u001b[32m\"Susan\"\u001b[0m -> \u001b[32m\"Spain\"\u001b[0m, \u001b[32m\"Michael\"\u001b[0m -> \u001b[32m\"Malta\"\u001b[0m)"
      ]
     },
     "metadata": {},
     "output_type": "display_data"
    }
   ],
   "source": [
    "// update (overwrites overlapping entries)\n",
    "map_mutable(\"Michael\") = \"Malta\"\n",
    "\n",
    "map_mutable"
   ]
  },
  {
   "cell_type": "markdown",
   "metadata": {},
   "source": [
    "### Sets (immutable)"
   ]
  },
  {
   "cell_type": "code",
   "execution_count": 25,
   "metadata": {
    "collapsed": false
   },
   "outputs": [
    {
     "data": {
      "text/plain": [
       "\u001b[36mset_numbers\u001b[0m: \u001b[32mSet\u001b[0m[\u001b[32mInt\u001b[0m] = \u001b[33mSet\u001b[0m(\u001b[32m5\u001b[0m, \u001b[32m1\u001b[0m, \u001b[32m9\u001b[0m, \u001b[32m7\u001b[0m, \u001b[32m3\u001b[0m)"
      ]
     },
     "metadata": {},
     "output_type": "display_data"
    }
   ],
   "source": [
    "// create a set of numbers\n",
    "val set_numbers = Set(1, 3, 5, 7, 9)"
   ]
  },
  {
   "cell_type": "code",
   "execution_count": 26,
   "metadata": {
    "collapsed": false
   },
   "outputs": [
    {
     "data": {
      "text/plain": [
       "\u001b[36mres25\u001b[0m: \u001b[32mBoolean\u001b[0m = \u001b[32mtrue\u001b[0m"
      ]
     },
     "metadata": {},
     "output_type": "display_data"
    }
   ],
   "source": [
    "// check if '3' is in set of numbers\n",
    "set_numbers.contains(3)"
   ]
  },
  {
   "cell_type": "code",
   "execution_count": 27,
   "metadata": {
    "collapsed": false
   },
   "outputs": [
    {
     "data": {
      "text/plain": [
       "\u001b[36mres26\u001b[0m: \u001b[32mBoolean\u001b[0m = \u001b[32mfalse\u001b[0m"
      ]
     },
     "metadata": {},
     "output_type": "display_data"
    }
   ],
   "source": [
    "// check if '2' is in set of numbers\n",
    "set_numbers.contains(2)"
   ]
  },
  {
   "cell_type": "markdown",
   "metadata": {},
   "source": [
    "### Sets (mutable)"
   ]
  },
  {
   "cell_type": "code",
   "execution_count": 28,
   "metadata": {
    "collapsed": false
   },
   "outputs": [
    {
     "data": {
      "text/plain": [
       "\u001b[36mset_mutable_1\u001b[0m: \u001b[32mcollection\u001b[0m.\u001b[32mmutable\u001b[0m.\u001b[32mSet\u001b[0m[\u001b[32mInt\u001b[0m] = \u001b[33mSet\u001b[0m(\u001b[32m1\u001b[0m, \u001b[32m5\u001b[0m, \u001b[32m3\u001b[0m)\n",
       "\u001b[36mset_mutable_2\u001b[0m: \u001b[32mcollection\u001b[0m.\u001b[32mmutable\u001b[0m.\u001b[32mSet\u001b[0m[\u001b[32mInt\u001b[0m] = \u001b[33mSet\u001b[0m(\u001b[32m9\u001b[0m, \u001b[32m5\u001b[0m, \u001b[32m7\u001b[0m)"
      ]
     },
     "metadata": {},
     "output_type": "display_data"
    }
   ],
   "source": [
    "// create two set (mutable) of numbers\n",
    "val set_mutable_1 = scala.collection.mutable.Set(1, 3, 5)\n",
    "val set_mutable_2 = scala.collection.mutable.Set(5, 7, 9)"
   ]
  },
  {
   "cell_type": "code",
   "execution_count": 29,
   "metadata": {
    "collapsed": false
   },
   "outputs": [
    {
     "data": {
      "text/plain": [
       "\u001b[36mres28\u001b[0m: \u001b[32mcollection\u001b[0m.\u001b[32mmutable\u001b[0m.\u001b[32mSet\u001b[0m[\u001b[32mInt\u001b[0m] = \u001b[33mSet\u001b[0m(\u001b[32m9\u001b[0m, \u001b[32m5\u001b[0m, \u001b[32m7\u001b[0m, \u001b[32m11\u001b[0m)"
      ]
     },
     "metadata": {},
     "output_type": "display_data"
    }
   ],
   "source": [
    "// add item to set (mutable)\n",
    "set_mutable_2 += 11"
   ]
  },
  {
   "cell_type": "code",
   "execution_count": 30,
   "metadata": {
    "collapsed": false
   },
   "outputs": [
    {
     "data": {
      "text/plain": [
       "\u001b[36mres29\u001b[0m: \u001b[32mcollection\u001b[0m.\u001b[32mmutable\u001b[0m.\u001b[32mSet\u001b[0m[\u001b[32mInt\u001b[0m] = \u001b[33mSet\u001b[0m(\u001b[32m9\u001b[0m, \u001b[32m5\u001b[0m, \u001b[32m7\u001b[0m)"
      ]
     },
     "metadata": {},
     "output_type": "display_data"
    }
   ],
   "source": [
    "// remove item from set (mutable)\n",
    "set_mutable_2 -= 11"
   ]
  },
  {
   "cell_type": "code",
   "execution_count": 31,
   "metadata": {
    "collapsed": false
   },
   "outputs": [
    {
     "data": {
      "text/plain": [
       "\u001b[36mset_copy\u001b[0m: \u001b[32mcollection\u001b[0m.\u001b[32mmutable\u001b[0m.\u001b[32mSet\u001b[0m[\u001b[32mInt\u001b[0m] = \u001b[33mSet\u001b[0m(\u001b[32m9\u001b[0m, \u001b[32m5\u001b[0m, \u001b[32m7\u001b[0m)"
      ]
     },
     "metadata": {},
     "output_type": "display_data"
    }
   ],
   "source": [
    "// create a copy of set (mutable)\n",
    "val set_copy = set_mutable_2.clone"
   ]
  },
  {
   "cell_type": "markdown",
   "metadata": {},
   "source": [
    "### Set operations"
   ]
  },
  {
   "cell_type": "code",
   "execution_count": 32,
   "metadata": {
    "collapsed": false
   },
   "outputs": [
    {
     "data": {
      "text/plain": [
       "\u001b[36mA\u001b[0m: \u001b[32mcollection\u001b[0m.\u001b[32mmutable\u001b[0m.\u001b[32mSet\u001b[0m[\u001b[32mInt\u001b[0m] = \u001b[33mSet\u001b[0m(\u001b[32m1\u001b[0m, \u001b[32m5\u001b[0m, \u001b[32m3\u001b[0m)\n",
       "\u001b[36mB\u001b[0m: \u001b[32mcollection\u001b[0m.\u001b[32mmutable\u001b[0m.\u001b[32mSet\u001b[0m[\u001b[32mInt\u001b[0m] = \u001b[33mSet\u001b[0m(\u001b[32m9\u001b[0m, \u001b[32m5\u001b[0m, \u001b[32m7\u001b[0m)"
      ]
     },
     "metadata": {},
     "output_type": "display_data"
    }
   ],
   "source": [
    "// creat two new sets (cloned)\n",
    "val A = set_mutable_1.clone\n",
    "val B = set_mutable_2.clone"
   ]
  },
  {
   "cell_type": "code",
   "execution_count": 33,
   "metadata": {
    "collapsed": false
   },
   "outputs": [
    {
     "data": {
      "text/plain": [
       "\u001b[36mres32_0\u001b[0m: \u001b[32mcollection\u001b[0m.\u001b[32mmutable\u001b[0m.\u001b[32mSet\u001b[0m[\u001b[32mInt\u001b[0m] = \u001b[33mSet\u001b[0m(\u001b[32m9\u001b[0m, \u001b[32m1\u001b[0m, \u001b[32m5\u001b[0m, \u001b[32m3\u001b[0m, \u001b[32m7\u001b[0m)\n",
       "\u001b[36mres32_1\u001b[0m: \u001b[32mcollection\u001b[0m.\u001b[32mmutable\u001b[0m.\u001b[32mSet\u001b[0m[\u001b[32mInt\u001b[0m] = \u001b[33mSet\u001b[0m(\u001b[32m9\u001b[0m, \u001b[32m1\u001b[0m, \u001b[32m5\u001b[0m, \u001b[32m3\u001b[0m, \u001b[32m7\u001b[0m)"
      ]
     },
     "metadata": {},
     "output_type": "display_data"
    }
   ],
   "source": [
    "// union\n",
    "A | B\n",
    "\n",
    "// or\n",
    "A union B"
   ]
  },
  {
   "cell_type": "code",
   "execution_count": 34,
   "metadata": {
    "collapsed": false
   },
   "outputs": [
    {
     "data": {
      "text/plain": [
       "\u001b[36mres33_0\u001b[0m: \u001b[32mcollection\u001b[0m.\u001b[32mmutable\u001b[0m.\u001b[32mSet\u001b[0m[\u001b[32mInt\u001b[0m] = \u001b[33mSet\u001b[0m(\u001b[32m5\u001b[0m)\n",
       "\u001b[36mres33_1\u001b[0m: \u001b[32mcollection\u001b[0m.\u001b[32mmutable\u001b[0m.\u001b[32mSet\u001b[0m[\u001b[32mInt\u001b[0m] = \u001b[33mSet\u001b[0m(\u001b[32m5\u001b[0m)"
      ]
     },
     "metadata": {},
     "output_type": "display_data"
    }
   ],
   "source": [
    "// intersection\n",
    "A & B\n",
    "\n",
    "// or\n",
    "A intersect B"
   ]
  },
  {
   "cell_type": "code",
   "execution_count": 35,
   "metadata": {
    "collapsed": false
   },
   "outputs": [
    {
     "data": {
      "text/plain": [
       "\u001b[36mres34_0\u001b[0m: \u001b[32mcollection\u001b[0m.\u001b[32mmutable\u001b[0m.\u001b[32mSet\u001b[0m[\u001b[32mInt\u001b[0m] = \u001b[33mSet\u001b[0m(\u001b[32m1\u001b[0m, \u001b[32m3\u001b[0m)\n",
       "\u001b[36mres34_1\u001b[0m: \u001b[32mcollection\u001b[0m.\u001b[32mmutable\u001b[0m.\u001b[32mSet\u001b[0m[\u001b[32mInt\u001b[0m] = \u001b[33mSet\u001b[0m(\u001b[32m1\u001b[0m, \u001b[32m3\u001b[0m)"
      ]
     },
     "metadata": {},
     "output_type": "display_data"
    }
   ],
   "source": [
    "// difference\n",
    "A &~ B\n",
    "\n",
    "// or\n",
    "A diff B"
   ]
  },
  {
   "cell_type": "code",
   "execution_count": 36,
   "metadata": {
    "collapsed": false
   },
   "outputs": [
    {
     "data": {
      "text/plain": [
       "\u001b[36mres35\u001b[0m: \u001b[32mBoolean\u001b[0m = \u001b[32mfalse\u001b[0m"
      ]
     },
     "metadata": {},
     "output_type": "display_data"
    }
   ],
   "source": [
    "// subset\n",
    "A subsetOf B"
   ]
  },
  {
   "cell_type": "code",
   "execution_count": null,
   "metadata": {
    "collapsed": true
   },
   "outputs": [],
   "source": []
  },
  {
   "cell_type": "markdown",
   "metadata": {},
   "source": [
    "<i>Notebook by <a href=\"https://www.michaelsjoeberg.com\">Michael Sjoeberg</a>, updated 24 August 2017.</i>"
   ]
  }
 ],
 "metadata": {
  "anaconda-cloud": {},
  "kernelspec": {
   "display_name": "Scala 2.11",
   "language": "scala211",
   "name": "scala211"
  },
  "language_info": {
   "codemirror_mode": "text/x-scala",
   "file_extension": ".scala",
   "mimetype": "text/x-scala",
   "name": "scala211",
   "pygments_lexer": "scala",
   "version": "2.11.8"
  }
 },
 "nbformat": 4,
 "nbformat_minor": 0
}
