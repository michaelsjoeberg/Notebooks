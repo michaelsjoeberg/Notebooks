{
 "cells": [
  {
   "cell_type": "markdown",
   "metadata": {},
   "source": [
    "# Classes"
   ]
  },
  {
   "cell_type": "markdown",
   "metadata": {},
   "source": [
    "24 August | Scala"
   ]
  },
  {
   "cell_type": "markdown",
   "metadata": {
    "collapsed": true
   },
   "source": [
    "### Constructor of a class"
   ]
  },
  {
   "cell_type": "code",
   "execution_count": 1,
   "metadata": {
    "collapsed": false
   },
   "outputs": [
    {
     "data": {
      "text/plain": [
       "defined \u001b[32mclass \u001b[36mMoney\u001b[0m"
      ]
     },
     "metadata": {},
     "output_type": "display_data"
    }
   ],
   "source": [
    "class Money(anAmount:Int, aCurrency:String) {\n",
    "    var amount: Int = anAmount\n",
    "    var currency: String = aCurrency\n",
    "    \n",
    "    // override function for print\n",
    "    override def toString = amount.toString ++ \" \" ++ currency\n",
    "}"
   ]
  },
  {
   "cell_type": "markdown",
   "metadata": {},
   "source": [
    "### New instance of a class"
   ]
  },
  {
   "cell_type": "code",
   "execution_count": 2,
   "metadata": {
    "collapsed": false
   },
   "outputs": [
    {
     "data": {
      "text/plain": [
       "\u001b[36mmyMoney\u001b[0m: \u001b[32mMoney\u001b[0m = 220 EUR"
      ]
     },
     "metadata": {},
     "output_type": "display_data"
    }
   ],
   "source": [
    "// define new instance of object\n",
    "val myMoney = new Money(220, \"EUR\")"
   ]
  },
  {
   "cell_type": "code",
   "execution_count": 3,
   "metadata": {
    "collapsed": false
   },
   "outputs": [
    {
     "data": {
      "text/plain": [
       "\u001b[36mres2_0\u001b[0m: \u001b[32mInt\u001b[0m = \u001b[32m220\u001b[0m\n",
       "\u001b[36mres2_1\u001b[0m: \u001b[32mString\u001b[0m = \u001b[32m\"EUR\"\u001b[0m"
      ]
     },
     "metadata": {},
     "output_type": "display_data"
    }
   ],
   "source": [
    "// view values\n",
    "myMoney.amount\n",
    "myMoney.currency"
   ]
  },
  {
   "cell_type": "code",
   "execution_count": 4,
   "metadata": {
    "collapsed": false
   },
   "outputs": [
    {
     "name": "stdout",
     "output_type": "stream",
     "text": [
      "220 EUR\n"
     ]
    },
    {
     "data": {
      "text/plain": []
     },
     "metadata": {},
     "output_type": "display_data"
    }
   ],
   "source": [
    "// print\n",
    "println(myMoney.toString)"
   ]
  },
  {
   "cell_type": "markdown",
   "metadata": {},
   "source": [
    "### Example: particle"
   ]
  },
  {
   "cell_type": "code",
   "execution_count": 5,
   "metadata": {
    "collapsed": false
   },
   "outputs": [
    {
     "data": {
      "text/plain": [
       "defined \u001b[32mclass \u001b[36mParticle\u001b[0m"
      ]
     },
     "metadata": {},
     "output_type": "display_data"
    }
   ],
   "source": [
    "class Particle(val c:Int, val m:Double, val p:(Int, Int, Int)) {\n",
    "    var charge: Int = c\n",
    "    var mass: Double = m\n",
    "    var position: (Int, Int, Int) = p\n",
    "    \n",
    "    // override function for print\n",
    "    override def toString = \"Charge: \" ++ charge.toString ++ \n",
    "                            \", Mass: \" ++ mass.toString ++ \n",
    "                            \", Position (x, y, z): \" ++ position.toString\n",
    "}"
   ]
  },
  {
   "cell_type": "code",
   "execution_count": 6,
   "metadata": {
    "collapsed": false
   },
   "outputs": [
    {
     "data": {
      "text/plain": [
       "\u001b[36mpMass\u001b[0m: \u001b[32mDouble\u001b[0m = \u001b[32m1.672621898E-27\u001b[0m\n",
       "\u001b[36mpPosition\u001b[0m: (\u001b[32mInt\u001b[0m, \u001b[32mInt\u001b[0m, \u001b[32mInt\u001b[0m) = \u001b[33m\u001b[0m(\u001b[32m1\u001b[0m, \u001b[32m1\u001b[0m, \u001b[32m53\u001b[0m)"
      ]
     },
     "metadata": {},
     "output_type": "display_data"
    }
   ],
   "source": [
    "// define variables\n",
    "val pMass = 1.672621898e-27\n",
    "val pPosition = (1, 1, 53)"
   ]
  },
  {
   "cell_type": "code",
   "execution_count": 7,
   "metadata": {
    "collapsed": false
   },
   "outputs": [
    {
     "data": {
      "text/plain": [
       "\u001b[36maParticle\u001b[0m: \u001b[32mParticle\u001b[0m = Charge: 1, Mass: 1.672621898E-27, Position (x, y, z): (1,1,53)"
      ]
     },
     "metadata": {},
     "output_type": "display_data"
    }
   ],
   "source": [
    "// create new instance of particle\n",
    "val aParticle = new Particle(1, pMass, pPosition)"
   ]
  },
  {
   "cell_type": "code",
   "execution_count": 8,
   "metadata": {
    "collapsed": false
   },
   "outputs": [
    {
     "name": "stdout",
     "output_type": "stream",
     "text": [
      "Charge: 1, Mass: 1.672621898E-27, Position (x, y, z): (1,1,53)\n"
     ]
    },
    {
     "data": {
      "text/plain": []
     },
     "metadata": {},
     "output_type": "display_data"
    }
   ],
   "source": [
    "// print\n",
    "println(aParticle)"
   ]
  },
  {
   "cell_type": "markdown",
   "metadata": {},
   "source": [
    "### Example: subclass (of particle)"
   ]
  },
  {
   "cell_type": "code",
   "execution_count": 9,
   "metadata": {
    "collapsed": false
   },
   "outputs": [
    {
     "data": {
      "text/plain": [
       "defined \u001b[32mclass \u001b[36mElementaryParticle\u001b[0m"
      ]
     },
     "metadata": {},
     "output_type": "display_data"
    }
   ],
   "source": [
    "class ElementaryParticle(override val c:Int,\n",
    "                         override val m:Double,\n",
    "                         override val p:(Int, Int, Int),\n",
    "                         s:Double) extends Particle(c, m, p) {\n",
    "    var spin: Double = s\n",
    "    \n",
    "    // override function for print\n",
    "    override def toString = \"Charge: \" ++ charge.toString ++ \n",
    "                            \", Mass: \" ++ mass.toString ++ \n",
    "                            \", Position (x, y, z): \" ++ position.toString ++\n",
    "                            \", Spin: \" ++ spin.toString\n",
    "}"
   ]
  },
  {
   "cell_type": "code",
   "execution_count": 10,
   "metadata": {
    "collapsed": false
   },
   "outputs": [
    {
     "data": {
      "text/plain": [
       "\u001b[36mpSpin\u001b[0m: \u001b[32mDouble\u001b[0m = \u001b[32m1.5\u001b[0m"
      ]
     },
     "metadata": {},
     "output_type": "display_data"
    }
   ],
   "source": [
    "// define variables\n",
    "val pSpin = 1.5"
   ]
  },
  {
   "cell_type": "code",
   "execution_count": 11,
   "metadata": {
    "collapsed": false
   },
   "outputs": [
    {
     "data": {
      "text/plain": [
       "\u001b[36maParticle\u001b[0m: \u001b[32mElementaryParticle\u001b[0m = Charge: 1, Mass: 1.672621898E-27, Position (x, y, z): (1,1,53), Spin: 1.5"
      ]
     },
     "metadata": {},
     "output_type": "display_data"
    }
   ],
   "source": [
    "// create subclass\n",
    "val aParticle = new ElementaryParticle(1, pMass, pPosition, pSpin)"
   ]
  },
  {
   "cell_type": "code",
   "execution_count": 12,
   "metadata": {
    "collapsed": false
   },
   "outputs": [
    {
     "data": {
      "text/plain": [
       "\u001b[36mres11\u001b[0m: \u001b[32mDouble\u001b[0m = \u001b[32m1.5\u001b[0m"
      ]
     },
     "metadata": {},
     "output_type": "display_data"
    }
   ],
   "source": [
    "// view value of spin\n",
    "aParticle.spin"
   ]
  },
  {
   "cell_type": "code",
   "execution_count": null,
   "metadata": {
    "collapsed": true
   },
   "outputs": [],
   "source": []
  },
  {
   "cell_type": "markdown",
   "metadata": {},
   "source": [
    "<i>Notebook by <a href=\"https://www.michaelsjoeberg.com\">Michael Sjoeberg</a>, updated 25 August 2017.</i>"
   ]
  }
 ],
 "metadata": {
  "anaconda-cloud": {},
  "kernelspec": {
   "display_name": "Scala 2.11",
   "language": "scala211",
   "name": "scala211"
  },
  "language_info": {
   "codemirror_mode": "text/x-scala",
   "file_extension": ".scala",
   "mimetype": "text/x-scala",
   "name": "scala211",
   "pygments_lexer": "scala",
   "version": "2.11.8"
  }
 },
 "nbformat": 4,
 "nbformat_minor": 0
}
