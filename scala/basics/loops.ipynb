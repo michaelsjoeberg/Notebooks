{
 "cells": [
  {
   "cell_type": "markdown",
   "metadata": {},
   "source": [
    "# Loops"
   ]
  },
  {
   "cell_type": "markdown",
   "metadata": {},
   "source": [
    "22 August | Scala"
   ]
  },
  {
   "cell_type": "markdown",
   "metadata": {},
   "source": [
    "### Example variables"
   ]
  },
  {
   "cell_type": "code",
   "execution_count": 13,
   "metadata": {
    "collapsed": false
   },
   "outputs": [
    {
     "data": {
      "text/plain": [
       "\u001b[36mloop_lst\u001b[0m: \u001b[32mList\u001b[0m[\u001b[32mInt\u001b[0m] = \u001b[33mList\u001b[0m(\u001b[32m23\u001b[0m, \u001b[32m76\u001b[0m, \u001b[32m102\u001b[0m, \u001b[32m54\u001b[0m)\n",
       "\u001b[36mloop_str\u001b[0m: \u001b[32mString\u001b[0m = \u001b[32m\"Michael\"\u001b[0m"
      ]
     },
     "metadata": {},
     "output_type": "display_data"
    }
   ],
   "source": [
    "val loop_lst = List(23, 76, 102, 54)\n",
    "val loop_str = \"Michael\""
   ]
  },
  {
   "cell_type": "markdown",
   "metadata": {
    "collapsed": true
   },
   "source": [
    "### Using WHILE"
   ]
  },
  {
   "cell_type": "code",
   "execution_count": 14,
   "metadata": {
    "collapsed": false
   },
   "outputs": [
    {
     "name": "stdout",
     "output_type": "stream",
     "text": [
      "The count is: 0\n",
      "The count is: 1\n",
      "The count is: 2\n",
      "The count is: 3\n"
     ]
    },
    {
     "data": {
      "text/plain": [
       "\u001b[36mcount\u001b[0m: \u001b[32mInt\u001b[0m = \u001b[32m4\u001b[0m"
      ]
     },
     "metadata": {},
     "output_type": "display_data"
    }
   ],
   "source": [
    "// create a count for loop\n",
    "var count = 0\n",
    "\n",
    "// while 'count' is less than 4\n",
    "while(count < 4){\n",
    "    \n",
    "    // print 'count'\n",
    "    println(\"The count is: \" + count)\n",
    "    \n",
    "    // iterate 'count'\n",
    "    count = count + 1\n",
    "}"
   ]
  },
  {
   "cell_type": "markdown",
   "metadata": {},
   "source": [
    "### Using FOR"
   ]
  },
  {
   "cell_type": "code",
   "execution_count": 15,
   "metadata": {
    "collapsed": false
   },
   "outputs": [
    {
     "name": "stdout",
     "output_type": "stream",
     "text": [
      "M\n",
      "i\n",
      "c\n",
      "h\n",
      "a\n",
      "e\n",
      "l\n"
     ]
    },
    {
     "data": {
      "text/plain": []
     },
     "metadata": {},
     "output_type": "display_data"
    }
   ],
   "source": [
    "// for each character in 'loop_str'\n",
    "for(char <- loop_str.toList){\n",
    "    \n",
    "    // print character\n",
    "    println(char)\n",
    "}"
   ]
  },
  {
   "cell_type": "code",
   "execution_count": 16,
   "metadata": {
    "collapsed": false
   },
   "outputs": [
    {
     "name": "stdout",
     "output_type": "stream",
     "text": [
      "230\n",
      "760\n",
      "1020\n",
      "540\n"
     ]
    },
    {
     "data": {
      "text/plain": []
     },
     "metadata": {},
     "output_type": "display_data"
    }
   ],
   "source": [
    "// for each item in 'loop_lst'\n",
    "for(item <- loop_lst){\n",
    "    \n",
    "    // multiply item by 10 and store in 'tmp'\n",
    "    var tmp = item * 10\n",
    "    \n",
    "    // print the value of 'tmp'\n",
    "    println(tmp)\n",
    "}"
   ]
  },
  {
   "cell_type": "code",
   "execution_count": null,
   "metadata": {
    "collapsed": true
   },
   "outputs": [],
   "source": []
  },
  {
   "cell_type": "markdown",
   "metadata": {},
   "source": [
    "<i>Notebook by <a href=\"https://www.michaelsjoeberg.com\">Michael Sjoeberg</a>, updated 22 August 2017.</i>"
   ]
  }
 ],
 "metadata": {
  "kernelspec": {
   "display_name": "Scala 2.11",
   "language": "scala211",
   "name": "scala211"
  },
  "language_info": {
   "codemirror_mode": "text/x-scala",
   "file_extension": ".scala",
   "mimetype": "text/x-scala",
   "name": "scala211",
   "pygments_lexer": "scala",
   "version": "2.11.8"
  }
 },
 "nbformat": 4,
 "nbformat_minor": 0
}
