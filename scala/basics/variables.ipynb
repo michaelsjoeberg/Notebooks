{
 "cells": [
  {
   "cell_type": "markdown",
   "metadata": {},
   "source": [
    "# Variables"
   ]
  },
  {
   "cell_type": "markdown",
   "metadata": {},
   "source": [
    "22 August | Scala"
   ]
  },
  {
   "cell_type": "markdown",
   "metadata": {},
   "source": [
    "### Variable types"
   ]
  },
  {
   "cell_type": "code",
   "execution_count": 21,
   "metadata": {
    "collapsed": false
   },
   "outputs": [
    {
     "data": {
      "text/plain": [
       "\u001b[36mx\u001b[0m: \u001b[32mInt\u001b[0m = \u001b[32m6\u001b[0m\n",
       "\u001b[36mres20_1\u001b[0m: \u001b[32mString\u001b[0m = \u001b[32m\"int\"\u001b[0m"
      ]
     },
     "metadata": {},
     "output_type": "display_data"
    }
   ],
   "source": [
    "// int\n",
    "val x = 6\n",
    "x.getClass.getSimpleName"
   ]
  },
  {
   "cell_type": "code",
   "execution_count": 22,
   "metadata": {
    "collapsed": false
   },
   "outputs": [
    {
     "data": {
      "text/plain": [
       "\u001b[36my\u001b[0m: \u001b[32mString\u001b[0m = \u001b[32m\"Energy (in MeV)\"\u001b[0m\n",
       "\u001b[36mres21_1\u001b[0m: \u001b[32mString\u001b[0m = \u001b[32m\"String\"\u001b[0m"
      ]
     },
     "metadata": {},
     "output_type": "display_data"
    }
   ],
   "source": [
    "// str\n",
    "val y = \"Energy (in MeV)\"\n",
    "y.getClass.getSimpleName"
   ]
  },
  {
   "cell_type": "code",
   "execution_count": 23,
   "metadata": {
    "collapsed": false
   },
   "outputs": [
    {
     "data": {
      "text/plain": [
       "\u001b[36mz\u001b[0m: \u001b[32mDouble\u001b[0m = \u001b[32m1.05457E-34\u001b[0m\n",
       "\u001b[36mres22_1\u001b[0m: \u001b[32mString\u001b[0m = \u001b[32m\"double\"\u001b[0m"
      ]
     },
     "metadata": {},
     "output_type": "display_data"
    }
   ],
   "source": [
    "// double\n",
    "val z = 1.05457e-34\n",
    "z.getClass.getSimpleName"
   ]
  },
  {
   "cell_type": "code",
   "execution_count": 24,
   "metadata": {
    "collapsed": false
   },
   "outputs": [
    {
     "data": {
      "text/plain": [
       "\u001b[36ma\u001b[0m: \u001b[32mInt\u001b[0m = \u001b[32m6\u001b[0m\n",
       "\u001b[36mres23_1\u001b[0m: \u001b[32mString\u001b[0m = \u001b[32m\"int\"\u001b[0m"
      ]
     },
     "metadata": {},
     "output_type": "display_data"
    }
   ],
   "source": [
    "// reference to int\n",
    "val a = x\n",
    "a.getClass.getSimpleName"
   ]
  },
  {
   "cell_type": "code",
   "execution_count": 25,
   "metadata": {
    "collapsed": false
   },
   "outputs": [
    {
     "data": {
      "text/plain": [
       "\u001b[36mres24\u001b[0m: (\u001b[32mInt\u001b[0m, \u001b[32mInt\u001b[0m, \u001b[32mString\u001b[0m, \u001b[32mDouble\u001b[0m) = \u001b[33m\u001b[0m(\u001b[32m6\u001b[0m, \u001b[32m6\u001b[0m, \u001b[32m\"Energy (in MeV)\"\u001b[0m, \u001b[32m1.05457E-34\u001b[0m)"
      ]
     },
     "metadata": {},
     "output_type": "display_data"
    }
   ],
   "source": [
    "(a, x, y, z)"
   ]
  },
  {
   "cell_type": "markdown",
   "metadata": {},
   "source": [
    "### Multiple assignments"
   ]
  },
  {
   "cell_type": "code",
   "execution_count": 26,
   "metadata": {
    "collapsed": false
   },
   "outputs": [
    {
     "data": {
      "text/plain": [
       "\u001b[36ma\u001b[0m: \u001b[32mInt\u001b[0m = \u001b[32m6\u001b[0m\n",
       "\u001b[36mx\u001b[0m: \u001b[32mInt\u001b[0m = \u001b[32m6\u001b[0m"
      ]
     },
     "metadata": {},
     "output_type": "display_data"
    }
   ],
   "source": [
    "// assign both 'a' and 'x' as 6\n",
    "val (a, x) = (6, 6)"
   ]
  },
  {
   "cell_type": "code",
   "execution_count": 27,
   "metadata": {
    "collapsed": false
   },
   "outputs": [
    {
     "data": {
      "text/plain": [
       "\u001b[36my\u001b[0m: \u001b[32mString\u001b[0m = \u001b[32m\"Energy (in MeV)\"\u001b[0m\n",
       "\u001b[36mz\u001b[0m: \u001b[32mDouble\u001b[0m = \u001b[32m1.05457E-34\u001b[0m"
      ]
     },
     "metadata": {},
     "output_type": "display_data"
    }
   ],
   "source": [
    "// assign 'y' and 'z' to string and float respectively\n",
    "val (y, z) = (\"Energy (in MeV)\", 1.05457e-34)"
   ]
  },
  {
   "cell_type": "code",
   "execution_count": 28,
   "metadata": {
    "collapsed": false
   },
   "outputs": [
    {
     "data": {
      "text/plain": [
       "\u001b[36mres27\u001b[0m: (\u001b[32mInt\u001b[0m, \u001b[32mInt\u001b[0m, \u001b[32mString\u001b[0m, \u001b[32mDouble\u001b[0m) = \u001b[33m\u001b[0m(\u001b[32m6\u001b[0m, \u001b[32m6\u001b[0m, \u001b[32m\"Energy (in MeV)\"\u001b[0m, \u001b[32m1.05457E-34\u001b[0m)"
      ]
     },
     "metadata": {},
     "output_type": "display_data"
    }
   ],
   "source": [
    "(a, x, y, z)"
   ]
  },
  {
   "cell_type": "markdown",
   "metadata": {},
   "source": [
    "### List assignment"
   ]
  },
  {
   "cell_type": "code",
   "execution_count": 29,
   "metadata": {
    "collapsed": false
   },
   "outputs": [
    {
     "data": {
      "text/plain": [
       "\u001b[36md\u001b[0m: \u001b[32mInt\u001b[0m = \u001b[32m230\u001b[0m\n",
       "\u001b[36mt\u001b[0m: \u001b[32mInt\u001b[0m = \u001b[32m45\u001b[0m\n",
       "\u001b[36mv\u001b[0m: \u001b[32mInt\u001b[0m = \u001b[32m12\u001b[0m"
      ]
     },
     "metadata": {},
     "output_type": "display_data"
    }
   ],
   "source": [
    "// assign each item in list to respective variable\n",
    "val List(d, t, v) = List(230, 45, 12)"
   ]
  },
  {
   "cell_type": "code",
   "execution_count": 30,
   "metadata": {
    "collapsed": false
   },
   "outputs": [
    {
     "data": {
      "text/plain": [
       "\u001b[36mres29\u001b[0m: (\u001b[32mInt\u001b[0m, \u001b[32mInt\u001b[0m, \u001b[32mInt\u001b[0m) = \u001b[33m\u001b[0m(\u001b[32m230\u001b[0m, \u001b[32m45\u001b[0m, \u001b[32m12\u001b[0m)"
      ]
     },
     "metadata": {},
     "output_type": "display_data"
    }
   ],
   "source": [
    "(d, t, v)"
   ]
  },
  {
   "cell_type": "markdown",
   "metadata": {},
   "source": [
    "### String assignment"
   ]
  },
  {
   "cell_type": "code",
   "execution_count": 47,
   "metadata": {
    "collapsed": false
   },
   "outputs": [
    {
     "data": {
      "text/plain": [
       "\u001b[36mname\u001b[0m: \u001b[32mString\u001b[0m = \u001b[32m\"mike\"\u001b[0m\n",
       "\u001b[36mfirst\u001b[0m: \u001b[32mChar\u001b[0m = \u001b[32m'm'\u001b[0m\n",
       "\u001b[36msecond\u001b[0m: \u001b[32mChar\u001b[0m = \u001b[32m'i'\u001b[0m\n",
       "\u001b[36mthird\u001b[0m: \u001b[32mChar\u001b[0m = \u001b[32m'k'\u001b[0m\n",
       "\u001b[36mfourth\u001b[0m: \u001b[32mChar\u001b[0m = \u001b[32m'e'\u001b[0m"
      ]
     },
     "metadata": {},
     "output_type": "display_data"
    }
   ],
   "source": [
    "// define 'name'\n",
    "val name = \"mike\"\n",
    "\n",
    "// convert 'name' to Array and assign each character to a respective variable\n",
    "val Array(first, second, third, fourth) = name.toArray"
   ]
  },
  {
   "cell_type": "code",
   "execution_count": 48,
   "metadata": {
    "collapsed": false
   },
   "outputs": [
    {
     "data": {
      "text/plain": [
       "\u001b[36mres47\u001b[0m: (\u001b[32mChar\u001b[0m, \u001b[32mChar\u001b[0m, \u001b[32mChar\u001b[0m, \u001b[32mChar\u001b[0m) = \u001b[33m\u001b[0m(\u001b[32m'm'\u001b[0m, \u001b[32m'i'\u001b[0m, \u001b[32m'k'\u001b[0m, \u001b[32m'e'\u001b[0m)"
      ]
     },
     "metadata": {},
     "output_type": "display_data"
    }
   ],
   "source": [
    "(first, second, third, fourth)"
   ]
  },
  {
   "cell_type": "code",
   "execution_count": 49,
   "metadata": {
    "collapsed": false
   },
   "outputs": [
    {
     "data": {
      "text/plain": [
       "\u001b[36mnumber\u001b[0m: \u001b[32mInt\u001b[0m = \u001b[32m456\u001b[0m\n",
       "\u001b[36mx_1\u001b[0m: \u001b[32mChar\u001b[0m = \u001b[32m'4'\u001b[0m\n",
       "\u001b[36mx_2\u001b[0m: \u001b[32mChar\u001b[0m = \u001b[32m'5'\u001b[0m\n",
       "\u001b[36mx_3\u001b[0m: \u001b[32mChar\u001b[0m = \u001b[32m'6'\u001b[0m"
      ]
     },
     "metadata": {},
     "output_type": "display_data"
    }
   ],
   "source": [
    "// define number\n",
    "val number = 456\n",
    "\n",
    "// convert 'number' to string, then assign each character to a respective variable\n",
    "val Array(x_1, x_2, x_3) = number.toString.toArray"
   ]
  },
  {
   "cell_type": "code",
   "execution_count": 50,
   "metadata": {
    "collapsed": false
   },
   "outputs": [
    {
     "data": {
      "text/plain": [
       "\u001b[36mres49\u001b[0m: (\u001b[32mChar\u001b[0m, \u001b[32mChar\u001b[0m, \u001b[32mChar\u001b[0m) = \u001b[33m\u001b[0m(\u001b[32m'4'\u001b[0m, \u001b[32m'5'\u001b[0m, \u001b[32m'6'\u001b[0m)"
      ]
     },
     "metadata": {},
     "output_type": "display_data"
    }
   ],
   "source": [
    "(x_1, x_2, x_3)"
   ]
  },
  {
   "cell_type": "code",
   "execution_count": null,
   "metadata": {
    "collapsed": true
   },
   "outputs": [],
   "source": []
  },
  {
   "cell_type": "markdown",
   "metadata": {},
   "source": [
    "<i>Notebook by <a href=\"https://www.michaelsjoeberg.com\">Michael Sjoeberg</a>, updated 22 August 2017.</i>"
   ]
  }
 ],
 "metadata": {
  "kernelspec": {
   "display_name": "Scala 2.11",
   "language": "scala211",
   "name": "scala211"
  },
  "language_info": {
   "codemirror_mode": "text/x-scala",
   "file_extension": ".scala",
   "mimetype": "text/x-scala",
   "name": "scala211",
   "pygments_lexer": "scala",
   "version": "2.11.8"
  }
 },
 "nbformat": 4,
 "nbformat_minor": 0
}
