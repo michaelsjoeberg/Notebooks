{
 "cells": [
  {
   "cell_type": "markdown",
   "metadata": {},
   "source": [
    "# Date and Time"
   ]
  },
  {
   "cell_type": "markdown",
   "metadata": {},
   "source": [
    "25 August | Scala"
   ]
  },
  {
   "cell_type": "markdown",
   "metadata": {},
   "source": [
    "### Using Java classes"
   ]
  },
  {
   "cell_type": "code",
   "execution_count": 9,
   "metadata": {
    "collapsed": false
   },
   "outputs": [
    {
     "data": {
      "text/plain": [
       "\u001b[32mimport \u001b[36mjava.text.SimpleDateFormat\u001b[0m\n",
       "\u001b[32mimport \u001b[36mjava.util.Calendar\u001b[0m"
      ]
     },
     "metadata": {},
     "output_type": "display_data"
    }
   ],
   "source": [
    "import java.text.SimpleDateFormat\n",
    "import java.util.Calendar"
   ]
  },
  {
   "cell_type": "code",
   "execution_count": 10,
   "metadata": {
    "collapsed": false
   },
   "outputs": [
    {
     "data": {
      "text/plain": [
       "\u001b[36mnow\u001b[0m: \u001b[32mjava\u001b[0m.\u001b[32mutil\u001b[0m.\u001b[32mDate\u001b[0m = Fri Aug 25 20:59:19 CEST 2017"
      ]
     },
     "metadata": {},
     "output_type": "display_data"
    }
   ],
   "source": [
    "// define current time\n",
    "val now = Calendar.getInstance.getTime"
   ]
  },
  {
   "cell_type": "code",
   "execution_count": 11,
   "metadata": {
    "collapsed": false
   },
   "outputs": [
    {
     "data": {
      "text/plain": [
       "\u001b[36mhour\u001b[0m: \u001b[32mSimpleDateFormat\u001b[0m = java.text.SimpleDateFormat@d00\n",
       "\u001b[36mminute\u001b[0m: \u001b[32mSimpleDateFormat\u001b[0m = java.text.SimpleDateFormat@da0\n",
       "\u001b[36mam_pm\u001b[0m: \u001b[32mSimpleDateFormat\u001b[0m = java.text.SimpleDateFormat@61\n",
       "\u001b[36mcurrent_hour\u001b[0m: \u001b[32mString\u001b[0m = \u001b[32m\"08\"\u001b[0m\n",
       "\u001b[36mcurrent_minute\u001b[0m: \u001b[32mString\u001b[0m = \u001b[32m\"59\"\u001b[0m\n",
       "\u001b[36mcurrent_am_pm\u001b[0m: \u001b[32mString\u001b[0m = \u001b[32m\"PM\"\u001b[0m"
      ]
     },
     "metadata": {},
     "output_type": "display_data"
    }
   ],
   "source": [
    "// create date and time formatters\n",
    "val hour = new SimpleDateFormat(\"hh\")\n",
    "val minute = new SimpleDateFormat(\"mm\")\n",
    "val am_pm = new SimpleDateFormat(\"a\")\n",
    "\n",
    "// format current time\n",
    "val current_hour = hour.format(now)\n",
    "val current_minute = minute.format(now)\n",
    "val current_am_pm = am_pm.format(now)"
   ]
  },
  {
   "cell_type": "code",
   "execution_count": 12,
   "metadata": {
    "collapsed": false
   },
   "outputs": [
    {
     "data": {
      "text/plain": [
       "\u001b[36myear\u001b[0m: \u001b[32mInt\u001b[0m = \u001b[32m2017\u001b[0m\n",
       "\u001b[36mmonth\u001b[0m: \u001b[32mInt\u001b[0m = \u001b[32m8\u001b[0m"
      ]
     },
     "metadata": {},
     "output_type": "display_data"
    }
   ],
   "source": [
    "// get year\n",
    "val year = Calendar.getInstance.get(Calendar.YEAR)\n",
    "\n",
    "// get month\n",
    "val month = Calendar.getInstance.get(Calendar.MONTH) + 1"
   ]
  },
  {
   "cell_type": "code",
   "execution_count": null,
   "metadata": {
    "collapsed": true
   },
   "outputs": [],
   "source": []
  },
  {
   "cell_type": "markdown",
   "metadata": {},
   "source": [
    "<i>Notebook by <a href=\"https://www.michaelsjoeberg.com\">Michael Sjoeberg</a>, updated 25 August 2017.</i>"
   ]
  }
 ],
 "metadata": {
  "anaconda-cloud": {},
  "kernelspec": {
   "display_name": "Scala 2.11",
   "language": "scala211",
   "name": "scala211"
  },
  "language_info": {
   "codemirror_mode": "text/x-scala",
   "file_extension": ".scala",
   "mimetype": "text/x-scala",
   "name": "scala211",
   "pygments_lexer": "scala",
   "version": "2.11.8"
  }
 },
 "nbformat": 4,
 "nbformat_minor": 0
}
