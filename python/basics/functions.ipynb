{
 "cells": [
  {
   "cell_type": "markdown",
   "metadata": {},
   "source": [
    "# Functions"
   ]
  },
  {
   "cell_type": "markdown",
   "metadata": {},
   "source": [
    "14 July 2017 | Python"
   ]
  },
  {
   "cell_type": "markdown",
   "metadata": {},
   "source": [
    "### Using functions"
   ]
  },
  {
   "cell_type": "code",
   "execution_count": 53,
   "metadata": {
    "collapsed": false
   },
   "outputs": [
    {
     "name": "stdout",
     "output_type": "stream",
     "text": [
      "42\n",
      "42\n"
     ]
    }
   ],
   "source": [
    "# define function\n",
    "def forty_two():\n",
    "    return 42\n",
    "\n",
    "# call function\n",
    "forty_two()\n",
    "\n",
    "# call function and print result\n",
    "print(forty_two())\n",
    "\n",
    "# call function and assign result to 'x', then print 'x'\n",
    "x = forty_two()\n",
    "print(x)"
   ]
  },
  {
   "cell_type": "code",
   "execution_count": 54,
   "metadata": {
    "collapsed": false
   },
   "outputs": [
    {
     "data": {
      "text/plain": [
       "8"
      ]
     },
     "execution_count": 54,
     "metadata": {},
     "output_type": "execute_result"
    }
   ],
   "source": [
    "# define function with parameters 'base' and 'x'\n",
    "def power(base, x):\n",
    "    \n",
    "    # return 'base' to the power of 'x'\n",
    "    return base**x\n",
    "\n",
    "# call function with arguments 2 and 3\n",
    "power(2, 3)"
   ]
  },
  {
   "cell_type": "code",
   "execution_count": 64,
   "metadata": {
    "collapsed": false
   },
   "outputs": [
    {
     "name": "stdout",
     "output_type": "stream",
     "text": [
      "(2730.0, 88725.0)\n",
      "p: 2730.0, e: 88725.0\n"
     ]
    }
   ],
   "source": [
    "# define function with parameters 'm' and 'v'\n",
    "def momentum_energy(m, v):\n",
    "    \n",
    "    # define p\n",
    "    p = m * v\n",
    "    \n",
    "    # define e\n",
    "    e = 0.5 * m * v**2\n",
    "    \n",
    "    # return 'p' and 'e'\n",
    "    return p, e\n",
    "\n",
    "# call function and print result\n",
    "print(momentum_energy(42.0, 65.0))\n",
    "\n",
    "# call function and define as 'p' and 'e'\n",
    "p, e = momentum_energy(42.0, 65.0)\n",
    "\n",
    "# print variables\n",
    "print(\"p: \" + str(p) + \", e: \" + str(e))"
   ]
  },
  {
   "cell_type": "markdown",
   "metadata": {},
   "source": [
    "### Largest of two numbers"
   ]
  },
  {
   "cell_type": "code",
   "execution_count": 52,
   "metadata": {
    "collapsed": false
   },
   "outputs": [
    {
     "name": "stdout",
     "output_type": "stream",
     "text": [
      "8 is larger than 5.\n",
      "5 is larger than 2.\n",
      "5 is equal to 5.\n"
     ]
    }
   ],
   "source": [
    "# define function with parameters 'a' and 'b'\n",
    "def printHighest(a, b):\n",
    "    \n",
    "    # if 'a' is larger than 'b'\n",
    "    if (a > b):\n",
    "        print(str(a) + ' is larger than ' + str(b) + '.')\n",
    "        \n",
    "    # else if 'a' is equal to 'b'\n",
    "    elif (a == b):\n",
    "        print(str(a) + ' is equal to ' +  str(b) + '.')\n",
    "    \n",
    "    # otherwise\n",
    "    else:\n",
    "        print (str(b) + ' is larger than ' + str(a) + '.')\n",
    "\n",
    "# call with arguments 5 and 8\n",
    "printHighest(5, 8)\n",
    "\n",
    "# call with arguments 2 and 5\n",
    "printHighest(2, 5)\n",
    "\n",
    "# call with arguments 5 and 5\n",
    "printHighest(5, 5)"
   ]
  },
  {
   "cell_type": "markdown",
   "metadata": {},
   "source": [
    "### Change a global variable"
   ]
  },
  {
   "cell_type": "code",
   "execution_count": 76,
   "metadata": {
    "collapsed": true
   },
   "outputs": [],
   "source": [
    "# create a global variable (outside function)\n",
    "globalVariable = 'Michael'"
   ]
  },
  {
   "cell_type": "code",
   "execution_count": 77,
   "metadata": {
    "collapsed": false
   },
   "outputs": [
    {
     "name": "stdout",
     "output_type": "stream",
     "text": [
      "Current global variable: Michael\n",
      "Changed global variable: 54\n",
      "54\n"
     ]
    }
   ],
   "source": [
    "# define function\n",
    "def changeGlobal():\n",
    "    \n",
    "    # get global variable\n",
    "    global globalVariable\n",
    "    \n",
    "    # print current global variable\n",
    "    print('Current global variable: ' + globalVariable)\n",
    "    \n",
    "    # change 'globalVariable' to 54\n",
    "    globalVariable = 54\n",
    "    \n",
    "    # print changed global variable\n",
    "    print('Changed global variable: ' + str(globalVariable))\n",
    "\n",
    "# call\n",
    "changeGlobal()\n",
    "\n",
    "# print changed global variable\n",
    "print (globalVariable)"
   ]
  },
  {
   "cell_type": "markdown",
   "metadata": {},
   "source": [
    "### Using default arguments"
   ]
  },
  {
   "cell_type": "code",
   "execution_count": 29,
   "metadata": {
    "collapsed": true
   },
   "outputs": [],
   "source": [
    "# define function to print characters\n",
    "def printChar(aChar, number = 1):\n",
    "    \n",
    "    # print char \n",
    "    print(aChar * number)"
   ]
  },
  {
   "cell_type": "code",
   "execution_count": 30,
   "metadata": {
    "collapsed": false
   },
   "outputs": [
    {
     "name": "stdout",
     "output_type": "stream",
     "text": [
      "Mike\n"
     ]
    }
   ],
   "source": [
    "# call 'printChar' with default values\n",
    "printChar('Mike')"
   ]
  },
  {
   "cell_type": "code",
   "execution_count": 31,
   "metadata": {
    "collapsed": false
   },
   "outputs": [
    {
     "name": "stdout",
     "output_type": "stream",
     "text": [
      "MikeMikeMike\n"
     ]
    }
   ],
   "source": [
    "# call 'printChar' with non-default values\n",
    "printChar('Mike', 3)"
   ]
  },
  {
   "cell_type": "markdown",
   "metadata": {},
   "source": [
    "### Using arguments and keyword arguments"
   ]
  },
  {
   "cell_type": "code",
   "execution_count": 50,
   "metadata": {
    "collapsed": false
   },
   "outputs": [
    {
     "name": "stdout",
     "output_type": "stream",
     "text": [
      "(('yes', 42), {})\n",
      "((), {'x': 42, 'z': 2})\n",
      "(('no', [0], 42), {'x': 42, 'z': 2})\n"
     ]
    }
   ],
   "source": [
    "# define function\n",
    "def args_kwargs(*args, **kwargs):\n",
    "    print(args, kwargs)\n",
    "\n",
    "# call function with argument 'yes' and keyword argument '42'\n",
    "args_kwargs(\"yes\", 42)\n",
    "\n",
    "# call function with keyword arguments 'z=2' and 'x=42'\n",
    "args_kwargs(z=2, x=42)\n",
    "\n",
    "# call function with argument 'no', [0], and 42 and keyword arguments 'z=2' and 'x=42'\n",
    "args_kwargs(\"no\", [0], 42, z=2, x=42)"
   ]
  },
  {
   "cell_type": "markdown",
   "metadata": {},
   "source": [
    "### Docstrings"
   ]
  },
  {
   "cell_type": "code",
   "execution_count": 42,
   "metadata": {
    "collapsed": false
   },
   "outputs": [
    {
     "name": "stdout",
     "output_type": "stream",
     "text": [
      "A function that prints the argument.\n"
     ]
    }
   ],
   "source": [
    "# define function with example documentation\n",
    "def printArgument(arg):\n",
    "    \n",
    "    # create the docstring\n",
    "    '''A function that prints the argument.'''\n",
    "    \n",
    "    # print 'arg'\n",
    "    print (arg)\n",
    "\n",
    "# view docstring\n",
    "print (printArgument.__doc__)"
   ]
  },
  {
   "cell_type": "code",
   "execution_count": null,
   "metadata": {
    "collapsed": true
   },
   "outputs": [],
   "source": []
  },
  {
   "cell_type": "markdown",
   "metadata": {},
   "source": [
    "<i>Notebook by <a href=\"https://www.michaelsjoeberg.com\">Michael Sjoeberg</a>, updated 15 July 2017</i>."
   ]
  }
 ],
 "metadata": {
  "kernelspec": {
   "display_name": "Python [Root]",
   "language": "python",
   "name": "Python [Root]"
  },
  "language_info": {
   "codemirror_mode": {
    "name": "ipython",
    "version": 2
   },
   "file_extension": ".py",
   "mimetype": "text/x-python",
   "name": "python",
   "nbconvert_exporter": "python",
   "pygments_lexer": "ipython2",
   "version": "2.7.12"
  }
 },
 "nbformat": 4,
 "nbformat_minor": 0
}
