{
 "cells": [
  {
   "cell_type": "markdown",
   "metadata": {},
   "source": [
    "# Functions"
   ]
  },
  {
   "cell_type": "markdown",
   "metadata": {},
   "source": [
    "## Print the highest of two numbers"
   ]
  },
  {
   "cell_type": "code",
   "execution_count": 1,
   "metadata": {
    "collapsed": true
   },
   "outputs": [],
   "source": [
    "# create function with parameters 'a' and 'b'\n",
    "def printHighest(a, b):\n",
    "    \n",
    "    # if 'a' is larger than 'b'\n",
    "    if a > b : print(str(a) + ' is the highest.')\n",
    "        \n",
    "    # if 'a' is equal to 'b'\n",
    "    elif a == b : print(str(a) + ' is equal to ' +  str(b) + '.')\n",
    "    \n",
    "    # otherwise\n",
    "    else : print (str(b) + ' is highest.')"
   ]
  },
  {
   "cell_type": "code",
   "execution_count": 2,
   "metadata": {
    "collapsed": false
   },
   "outputs": [
    {
     "name": "stdout",
     "output_type": "stream",
     "text": [
      "8 is highest.\n",
      "5 is highest.\n",
      "5 is equal to 5.\n"
     ]
    }
   ],
   "source": [
    "# run 'printHighest' for 5 and 8\n",
    "printHighest(5, 8)\n",
    "\n",
    "# run 'printHighest' for 2 and 5\n",
    "printHighest(2, 5)\n",
    "\n",
    "# run 'printHighest' for 5 and 5\n",
    "printHighest(5, 5)"
   ]
  },
  {
   "cell_type": "markdown",
   "metadata": {},
   "source": [
    "## Change a global variable"
   ]
  },
  {
   "cell_type": "code",
   "execution_count": 3,
   "metadata": {
    "collapsed": true
   },
   "outputs": [],
   "source": [
    "# create a variable (outside function)\n",
    "globalVariable = 'Michael'"
   ]
  },
  {
   "cell_type": "code",
   "execution_count": 4,
   "metadata": {
    "collapsed": false
   },
   "outputs": [],
   "source": [
    "# create function without parameters\n",
    "def changeGlobal():\n",
    "    \n",
    "    # create global variable\n",
    "    global globalVariable\n",
    "    \n",
    "    # print current global variable\n",
    "    print('Current global variable: ' + globalVariable)\n",
    "    \n",
    "    # change 'globalVariable' to 54\n",
    "    globalVariable = 54\n",
    "    \n",
    "    # print changed global variable\n",
    "    print('Changed global variable: ' + str(globalVariable))"
   ]
  },
  {
   "cell_type": "code",
   "execution_count": 5,
   "metadata": {
    "collapsed": false
   },
   "outputs": [
    {
     "name": "stdout",
     "output_type": "stream",
     "text": [
      "Current global variable: Michael\n",
      "Changed global variable: 54\n",
      "54\n"
     ]
    }
   ],
   "source": [
    "# run 'changeGlobal()'\n",
    "changeGlobal()\n",
    "\n",
    "# print global variable\n",
    "print (globalVariable)"
   ]
  },
  {
   "cell_type": "markdown",
   "metadata": {},
   "source": [
    "## Default arguments"
   ]
  },
  {
   "cell_type": "code",
   "execution_count": 6,
   "metadata": {
    "collapsed": true
   },
   "outputs": [],
   "source": [
    "# create function to print characters\n",
    "def printChar(aChar, number = 1):\n",
    "    \n",
    "    # print char \n",
    "    print(aChar * number)"
   ]
  },
  {
   "cell_type": "code",
   "execution_count": 7,
   "metadata": {
    "collapsed": false
   },
   "outputs": [
    {
     "name": "stdout",
     "output_type": "stream",
     "text": [
      "Mike\n"
     ]
    }
   ],
   "source": [
    "# run 'printChar' with default values\n",
    "printChar('Mike')"
   ]
  },
  {
   "cell_type": "code",
   "execution_count": 8,
   "metadata": {
    "collapsed": false
   },
   "outputs": [
    {
     "name": "stdout",
     "output_type": "stream",
     "text": [
      "MikeMikeMike\n"
     ]
    }
   ],
   "source": [
    "# run 'printChar' with non-default values\n",
    "printChar('Mike', 3)"
   ]
  },
  {
   "cell_type": "markdown",
   "metadata": {},
   "source": [
    "## Docstrings (documentation for function)"
   ]
  },
  {
   "cell_type": "code",
   "execution_count": 9,
   "metadata": {
    "collapsed": true
   },
   "outputs": [],
   "source": [
    "# create a function with example documentation\n",
    "def printArgument(arg):\n",
    "    \n",
    "    # create the docstring\n",
    "    '''A function that prints the argument.'''\n",
    "    \n",
    "    # print 'argument'\n",
    "    print (argument)"
   ]
  },
  {
   "cell_type": "code",
   "execution_count": 10,
   "metadata": {
    "collapsed": false
   },
   "outputs": [
    {
     "name": "stdout",
     "output_type": "stream",
     "text": [
      "A function that prints the argument.\n"
     ]
    }
   ],
   "source": [
    "# view docstring\n",
    "print (printArgument.__doc__)"
   ]
  },
  {
   "cell_type": "code",
   "execution_count": null,
   "metadata": {
    "collapsed": true
   },
   "outputs": [],
   "source": []
  }
 ],
 "metadata": {
  "kernelspec": {
   "display_name": "Python [Root]",
   "language": "python",
   "name": "Python [Root]"
  },
  "language_info": {
   "codemirror_mode": {
    "name": "ipython",
    "version": 2
   },
   "file_extension": ".py",
   "mimetype": "text/x-python",
   "name": "python",
   "nbconvert_exporter": "python",
   "pygments_lexer": "ipython2",
   "version": "2.7.12"
  }
 },
 "nbformat": 4,
 "nbformat_minor": 0
}
