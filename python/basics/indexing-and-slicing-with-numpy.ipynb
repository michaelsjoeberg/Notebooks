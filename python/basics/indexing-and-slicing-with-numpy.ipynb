{
 "cells": [
  {
   "cell_type": "markdown",
   "metadata": {},
   "source": [
    "# Indexing And Slicing With Numpy"
   ]
  },
  {
   "cell_type": "markdown",
   "metadata": {},
   "source": [
    "## Import 'numpy' module"
   ]
  },
  {
   "cell_type": "code",
   "execution_count": 1,
   "metadata": {
    "collapsed": true
   },
   "outputs": [],
   "source": [
    "import numpy as np"
   ]
  },
  {
   "cell_type": "markdown",
   "metadata": {},
   "source": [
    "## Slicing arrays"
   ]
  },
  {
   "cell_type": "code",
   "execution_count": 2,
   "metadata": {
    "collapsed": false
   },
   "outputs": [
    {
     "data": {
      "text/plain": [
       "array([ 23,  75,  14, 103,  46,  32,  54,  22,  15,  78])"
      ]
     },
     "execution_count": 2,
     "metadata": {},
     "output_type": "execute_result"
    }
   ],
   "source": [
    "# create a numpy array with numbers\n",
    "dataNumbers = np.array([23, 75, 14, 103, 46, 32, 54, 22, 15, 78]); dataNumbers"
   ]
  },
  {
   "cell_type": "code",
   "execution_count": 3,
   "metadata": {
    "collapsed": false
   },
   "outputs": [
    {
     "name": "stdout",
     "output_type": "stream",
     "text": [
      "('Start:', array([23, 75, 14]))\n",
      "('Middle:', array([103,  46,  32,  54]))\n",
      "('End:', array([22, 15, 78]))\n"
     ]
    }
   ],
   "source": [
    "# separate 'dataNumbers' into start, middle, and end\n",
    "dataStart = dataNumbers[0:3]; print('Start:', dataStart)\n",
    "dataMiddle = dataNumbers[3:7]; print('Middle:', dataMiddle)\n",
    "dataEnd = dataNumbers[7:10]; print('End:', dataEnd)"
   ]
  },
  {
   "cell_type": "code",
   "execution_count": 4,
   "metadata": {
    "collapsed": false
   },
   "outputs": [
    {
     "name": "stdout",
     "output_type": "stream",
     "text": [
      "('Start:', array([100,  75,  14]))\n"
     ]
    }
   ],
   "source": [
    "# change a value in 'dataStart'\n",
    "dataStart[0] = 100; print('Start:', dataStart)"
   ]
  },
  {
   "cell_type": "code",
   "execution_count": 5,
   "metadata": {
    "collapsed": false
   },
   "outputs": [
    {
     "data": {
      "text/plain": [
       "array([100,  75,  14, 103,  46,  32,  54,  22,  15,  78])"
      ]
     },
     "execution_count": 5,
     "metadata": {},
     "output_type": "execute_result"
    }
   ],
   "source": [
    "# view changed value in 'dataNumbers'\n",
    "dataNumbers"
   ]
  },
  {
   "cell_type": "markdown",
   "metadata": {},
   "source": [
    "## Indexing arrays"
   ]
  },
  {
   "cell_type": "code",
   "execution_count": 6,
   "metadata": {
    "collapsed": false
   },
   "outputs": [
    {
     "data": {
      "text/plain": [
       "array([['Michael', 'Susan', 'Anna', 'Alex'],\n",
       "       ['26', '24', '28', '27'],\n",
       "       ['880', '920', '755', '1005'],\n",
       "       ['Alpha', 'Beta', 'Beta', 'Alpha']], \n",
       "      dtype='|S7')"
      ]
     },
     "execution_count": 6,
     "metadata": {},
     "output_type": "execute_result"
    }
   ],
   "source": [
    "# create lists with data\n",
    "dataName = ['Michael', 'Susan', 'Anna', 'Alex']\n",
    "dataAge = [26, 24, 28, 27]\n",
    "dataScore = [880, 920, 755, 1005]\n",
    "dataTeam = ['Alpha', 'Beta', 'Beta', 'Alpha']\n",
    "\n",
    "# create a numpy array\n",
    "dataStore = np.array([dataName, dataAge, dataScore, dataTeam]); dataStore"
   ]
  },
  {
   "cell_type": "code",
   "execution_count": 7,
   "metadata": {
    "collapsed": false
   },
   "outputs": [
    {
     "data": {
      "text/plain": [
       "array(['Michael', '26', '880', 'Alpha'], \n",
       "      dtype='|S7')"
      ]
     },
     "execution_count": 7,
     "metadata": {},
     "output_type": "execute_result"
    }
   ],
   "source": [
    "# view first column in 'dataStore' (i.e. all data for 'Michael')\n",
    "dataStore[:,0]"
   ]
  },
  {
   "cell_type": "code",
   "execution_count": 8,
   "metadata": {
    "collapsed": false
   },
   "outputs": [
    {
     "data": {
      "text/plain": [
       "array(['26', '24', '28', '27'], \n",
       "      dtype='|S7')"
      ]
     },
     "execution_count": 8,
     "metadata": {},
     "output_type": "execute_result"
    }
   ],
   "source": [
    "# view second row in 'dataStore' (i.e. ages for all)\n",
    "dataStore[1,]"
   ]
  },
  {
   "cell_type": "code",
   "execution_count": 9,
   "metadata": {
    "collapsed": false
   },
   "outputs": [
    {
     "data": {
      "text/plain": [
       "array([['Anna', 'Alex'],\n",
       "       ['28', '27']], \n",
       "      dtype='|S7')"
      ]
     },
     "execution_count": 9,
     "metadata": {},
     "output_type": "execute_result"
    }
   ],
   "source": [
    "# view top-right quarter in 'dataStore' (i.e. name and age of last two)\n",
    "dataStore[:2,2:]"
   ]
  },
  {
   "cell_type": "markdown",
   "metadata": {
    "collapsed": true
   },
   "source": [
    "## Finding values in array"
   ]
  },
  {
   "cell_type": "code",
   "execution_count": 10,
   "metadata": {
    "collapsed": false
   },
   "outputs": [
    {
     "data": {
      "text/plain": [
       "array([ 45,  75,  34, 103,  66,  50,  54,  22,  45,  78])"
      ]
     },
     "execution_count": 10,
     "metadata": {},
     "output_type": "execute_result"
    }
   ],
   "source": [
    "# create a numpy array with numbers\n",
    "numberArray = np.array([45, 75, 34, 103, 66, 50, 54, 22, 45, 78]); numberArray"
   ]
  },
  {
   "cell_type": "code",
   "execution_count": 11,
   "metadata": {
    "collapsed": false
   },
   "outputs": [
    {
     "data": {
      "text/plain": [
       "(array([0, 2, 5, 7, 8]),)"
      ]
     },
     "execution_count": 11,
     "metadata": {},
     "output_type": "execute_result"
    }
   ],
   "source": [
    "# find index of numbers less than or equal to 50\n",
    "numberIndex = np.where(numberArray <= 50); numberIndex"
   ]
  },
  {
   "cell_type": "code",
   "execution_count": 12,
   "metadata": {
    "collapsed": false
   },
   "outputs": [
    {
     "data": {
      "text/plain": [
       "array([45, 34, 50, 22, 45])"
      ]
     },
     "execution_count": 12,
     "metadata": {},
     "output_type": "execute_result"
    }
   ],
   "source": [
    "# find numbers less than or equal to 50 using 'numberIndex'\n",
    "numberFifty = numberArray[numberIndex]; numberFifty"
   ]
  },
  {
   "cell_type": "code",
   "execution_count": null,
   "metadata": {
    "collapsed": true
   },
   "outputs": [],
   "source": []
  }
 ],
 "metadata": {
  "kernelspec": {
   "display_name": "Python [Root]",
   "language": "python",
   "name": "Python [Root]"
  },
  "language_info": {
   "codemirror_mode": {
    "name": "ipython",
    "version": 2
   },
   "file_extension": ".py",
   "mimetype": "text/x-python",
   "name": "python",
   "nbconvert_exporter": "python",
   "pygments_lexer": "ipython2",
   "version": "2.7.12"
  }
 },
 "nbformat": 4,
 "nbformat_minor": 0
}
