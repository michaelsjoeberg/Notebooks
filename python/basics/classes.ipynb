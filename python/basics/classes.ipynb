{
 "cells": [
  {
   "cell_type": "markdown",
   "metadata": {},
   "source": [
    "# Classes"
   ]
  },
  {
   "cell_type": "markdown",
   "metadata": {},
   "source": [
    "15 July 2017 | Python"
   ]
  },
  {
   "cell_type": "markdown",
   "metadata": {},
   "source": [
    "### Constructor of a class"
   ]
  },
  {
   "cell_type": "code",
   "execution_count": 59,
   "metadata": {
    "collapsed": true
   },
   "outputs": [],
   "source": [
    "class Money:\n",
    "    def __init__(self, anAmount, aCurrency):\n",
    "        self.amount = anAmount\n",
    "        self.currency = aCurrency\n",
    "    \n",
    "    # function for print\n",
    "    def __str__(self):\n",
    "        return str(self.amount) + ' ' + self.currency"
   ]
  },
  {
   "cell_type": "markdown",
   "metadata": {},
   "source": [
    "### New instance of a class"
   ]
  },
  {
   "cell_type": "code",
   "execution_count": 60,
   "metadata": {
    "collapsed": false
   },
   "outputs": [],
   "source": [
    "# define new instance of object\n",
    "myMoney = Money(220, 'EUR')"
   ]
  },
  {
   "cell_type": "code",
   "execution_count": 61,
   "metadata": {
    "collapsed": false
   },
   "outputs": [
    {
     "data": {
      "text/plain": [
       "(220, 'EUR')"
      ]
     },
     "execution_count": 61,
     "metadata": {},
     "output_type": "execute_result"
    }
   ],
   "source": [
    "# view values\n",
    "myMoney.amount, myMoney.currency"
   ]
  },
  {
   "cell_type": "code",
   "execution_count": 62,
   "metadata": {
    "collapsed": false
   },
   "outputs": [
    {
     "name": "stdout",
     "output_type": "stream",
     "text": [
      "220 EUR\n"
     ]
    }
   ],
   "source": [
    "# print\n",
    "print(myMoney)"
   ]
  },
  {
   "cell_type": "markdown",
   "metadata": {
    "collapsed": true
   },
   "source": [
    "### Example: particle"
   ]
  },
  {
   "cell_type": "code",
   "execution_count": 63,
   "metadata": {
    "collapsed": false
   },
   "outputs": [],
   "source": [
    "from scipy import constants"
   ]
  },
  {
   "cell_type": "code",
   "execution_count": 64,
   "metadata": {
    "collapsed": false
   },
   "outputs": [],
   "source": [
    "class Particle(object):\n",
    "    \"\"\"\n",
    "    A particle.\n",
    "    \n",
    "    c : carge in units of [e]\n",
    "    m : mass in units of [kg]\n",
    "    r : position in units of [meters]\n",
    "    \"\"\"\n",
    "    \n",
    "    def __init__(self, charge, mass, position):\n",
    "        \"\"\"Initializes the particle with charge, mass, and position.\"\"\"\n",
    "        \n",
    "        self.c = charge\n",
    "        self.m = mass\n",
    "        self.r = position\n",
    "    \n",
    "    def delta_x_min(self, delta_p_x):\n",
    "        hbar = constants.hbar\n",
    "        delx_min = hbar / (2.0 * delta_p_x)\n",
    "        return delx_min\n",
    "    \n",
    "    # function for print\n",
    "    def __str__(self):\n",
    "        return (\"Charge: \" + str(self.c) +\n",
    "                \"\\nMass: \" + str(self.m) +\n",
    "                \"\\nPosition (x, y, z): (\" + str(self.r['x']) + \", \" + str(self.r['y']) + \", \" + str(self.r['z']) + \")\")"
   ]
  },
  {
   "cell_type": "code",
   "execution_count": 65,
   "metadata": {
    "collapsed": false
   },
   "outputs": [
    {
     "name": "stdout",
     "output_type": "stream",
     "text": [
      "Charge: 1\n",
      "Mass: 1.672621898e-27\n",
      "Position (x, y, z): (1, 1, 53)\n"
     ]
    }
   ],
   "source": [
    "# define variables\n",
    "pMass = constants.m_p\n",
    "pPosition = {'x': 1, 'y': 1, 'z': 53}\n",
    "\n",
    "# create new instance of particle\n",
    "aParticle = Particle(1, pMass, pPosition)\n",
    "\n",
    "# print\n",
    "print(aParticle)"
   ]
  },
  {
   "cell_type": "markdown",
   "metadata": {},
   "source": [
    "### Example: subclass (of particle)"
   ]
  },
  {
   "cell_type": "code",
   "execution_count": 66,
   "metadata": {
    "collapsed": true
   },
   "outputs": [],
   "source": [
    "class ElementaryParticle(Particle):\n",
    "    \n",
    "    def __init__(self, spin):\n",
    "        self.s = spin\n",
    "        self.is_fermion = bool(spin % 1.0)\n",
    "        self.is_boson = not self.is_fermion"
   ]
  },
  {
   "cell_type": "code",
   "execution_count": 67,
   "metadata": {
    "collapsed": false
   },
   "outputs": [
    {
     "name": "stdout",
     "output_type": "stream",
     "text": [
      "1.5\n",
      "True\n"
     ]
    }
   ],
   "source": [
    "# define variables\n",
    "spin = 1.5\n",
    "\n",
    "# create subclass\n",
    "aParticle = ElementaryParticle(spin)\n",
    "\n",
    "# print\n",
    "print(aParticle.s)\n",
    "print(aParticle.is_fermion)"
   ]
  },
  {
   "cell_type": "code",
   "execution_count": null,
   "metadata": {
    "collapsed": true
   },
   "outputs": [],
   "source": []
  },
  {
   "cell_type": "markdown",
   "metadata": {
    "collapsed": true
   },
   "source": [
    "<i>Notebook by <a href=\"https://www.michaelsjoeberg.com\">Michael Sjoeberg</a>, updated 16 July 2017</i>."
   ]
  }
 ],
 "metadata": {
  "anaconda-cloud": {},
  "kernelspec": {
   "display_name": "Python [Root]",
   "language": "python",
   "name": "Python [Root]"
  },
  "language_info": {
   "codemirror_mode": {
    "name": "ipython",
    "version": 2
   },
   "file_extension": ".py",
   "mimetype": "text/x-python",
   "name": "python",
   "nbconvert_exporter": "python",
   "pygments_lexer": "ipython2",
   "version": "2.7.12"
  }
 },
 "nbformat": 4,
 "nbformat_minor": 0
}
