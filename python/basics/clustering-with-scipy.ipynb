{
 "cells": [
  {
   "cell_type": "markdown",
   "metadata": {},
   "source": [
    "# Clustering With SciPy"
   ]
  },
  {
   "cell_type": "markdown",
   "metadata": {},
   "source": [
    "## Import modules"
   ]
  },
  {
   "cell_type": "code",
   "execution_count": 14,
   "metadata": {
    "collapsed": false
   },
   "outputs": [],
   "source": [
    "import numpy as np\n",
    "%matplotlib inline\n",
    "import matplotlib.pyplot as plt\n",
    "from scipy.cluster import vq"
   ]
  },
  {
   "cell_type": "markdown",
   "metadata": {},
   "source": [
    "## Create coordinates for battles for each year of the war"
   ]
  },
  {
   "cell_type": "code",
   "execution_count": 15,
   "metadata": {
    "collapsed": true
   },
   "outputs": [],
   "source": [
    "# create 100 coordinate pairs (i.e. two values), then add 5 to all of them\n",
    "year_1 = np.random.randn(100, 2) + 5\n",
    "\n",
    "# create 30 coordinatee pairs (i.e. two values), then subtract 5 to all of them\n",
    "year_2 = np.random.randn(30, 2) - 5\n",
    "\n",
    "# create 50 coordinatee pairs (i.e. two values)\n",
    "year_3 = np.random.randn(50, 2)"
   ]
  },
  {
   "cell_type": "markdown",
   "metadata": {},
   "source": [
    "## View the first three entries of each year of battles"
   ]
  },
  {
   "cell_type": "code",
   "execution_count": 16,
   "metadata": {
    "collapsed": false
   },
   "outputs": [
    {
     "name": "stdout",
     "output_type": "stream",
     "text": [
      "('year 1 battles:', array([[ 4.08354959,  4.48345342],\n",
      "       [ 5.19327588,  4.30372572],\n",
      "       [ 6.63651489,  4.54794466]]))\n",
      "('year 2 battles:', array([[-4.53635869, -5.60050458],\n",
      "       [-5.96626955, -3.16270409],\n",
      "       [-3.11848286, -5.46132985]]))\n",
      "('year 3 battles:', array([[-1.70535829,  1.0497277 ],\n",
      "       [ 0.98668814,  1.98127562],\n",
      "       [ 0.03867872, -1.02048627]]))\n"
     ]
    }
   ],
   "source": [
    "print('year 1 battles:',  year_1[0:3])\n",
    "print('year 2 battles:', year_2[0:3])\n",
    "print('year 3 battles:', year_3[0:3])"
   ]
  },
  {
   "cell_type": "markdown",
   "metadata": {},
   "source": [
    "## Pool all three years of coordinates"
   ]
  },
  {
   "cell_type": "code",
   "execution_count": 17,
   "metadata": {
    "collapsed": true
   },
   "outputs": [],
   "source": [
    "# vertically stack year_1, year_2, and year_3 elements\n",
    "battles = np.vstack([year_1, year_2, year_3])"
   ]
  },
  {
   "cell_type": "markdown",
   "metadata": {},
   "source": [
    "## Cluster the battle locations into three groups"
   ]
  },
  {
   "cell_type": "code",
   "execution_count": 18,
   "metadata": {
    "collapsed": true
   },
   "outputs": [],
   "source": [
    "# calculate the centroid coordinates of each cluster \n",
    "# and the variance of all the clusters\n",
    "centroids, variance  = vq.kmeans(battles, 3)"
   ]
  },
  {
   "cell_type": "markdown",
   "metadata": {},
   "source": [
    "## View the centroid coordinate for each of the three clusters"
   ]
  },
  {
   "cell_type": "code",
   "execution_count": 19,
   "metadata": {
    "collapsed": false
   },
   "outputs": [],
   "source": [
    "#centroids"
   ]
  },
  {
   "cell_type": "markdown",
   "metadata": {},
   "source": [
    "## View the variance of the clusters (they all share the same)"
   ]
  },
  {
   "cell_type": "code",
   "execution_count": 20,
   "metadata": {
    "collapsed": false
   },
   "outputs": [],
   "source": [
    "#variance"
   ]
  },
  {
   "cell_type": "markdown",
   "metadata": {},
   "source": [
    "## Seperate the battle data into clusters"
   ]
  },
  {
   "cell_type": "code",
   "execution_count": 21,
   "metadata": {
    "collapsed": true
   },
   "outputs": [],
   "source": [
    "identified, distance = vq.vq(battles, centroids)"
   ]
  },
  {
   "cell_type": "markdown",
   "metadata": {},
   "source": [
    "## View the cluster of each battle"
   ]
  },
  {
   "cell_type": "code",
   "execution_count": 22,
   "metadata": {
    "collapsed": false
   },
   "outputs": [],
   "source": [
    "#identified"
   ]
  },
  {
   "cell_type": "markdown",
   "metadata": {},
   "source": [
    "## View the distance of each individual battle from their cluster's centroid"
   ]
  },
  {
   "cell_type": "code",
   "execution_count": 23,
   "metadata": {
    "collapsed": false
   },
   "outputs": [],
   "source": [
    "#distance"
   ]
  },
  {
   "cell_type": "markdown",
   "metadata": {},
   "source": [
    "## Index the battles data by the cluster to which they belong"
   ]
  },
  {
   "cell_type": "code",
   "execution_count": 24,
   "metadata": {
    "collapsed": true
   },
   "outputs": [],
   "source": [
    "cluster_1 = battles[identified == 0]\n",
    "cluster_2 = battles[identified == 1]\n",
    "cluster_3 = battles[identified == 2]"
   ]
  },
  {
   "cell_type": "markdown",
   "metadata": {},
   "source": [
    "## Print the first three coordinate pairs of each cluster"
   ]
  },
  {
   "cell_type": "code",
   "execution_count": 25,
   "metadata": {
    "collapsed": false
   },
   "outputs": [
    {
     "name": "stdout",
     "output_type": "stream",
     "text": [
      "[[ 4.08354959  4.48345342]\n",
      " [ 5.19327588  4.30372572]\n",
      " [ 6.63651489  4.54794466]]\n",
      "[[-4.53635869 -5.60050458]\n",
      " [-5.96626955 -3.16270409]\n",
      " [-3.11848286 -5.46132985]]\n",
      "[[-1.70535829  1.0497277 ]\n",
      " [ 0.98668814  1.98127562]\n",
      " [ 0.03867872 -1.02048627]]\n"
     ]
    }
   ],
   "source": [
    "print(cluster_1[0:3])\n",
    "print(cluster_2[0:3])\n",
    "print(cluster_3[0:3])"
   ]
  },
  {
   "cell_type": "markdown",
   "metadata": {},
   "source": [
    "## Plot all the battles, color each battle by cluster"
   ]
  },
  {
   "cell_type": "code",
   "execution_count": 13,
   "metadata": {
    "collapsed": false
   },
   "outputs": [
    {
     "data": {
      "text/plain": [
       "<matplotlib.collections.PathCollection at 0x10faff9d0>"
      ]
     },
     "execution_count": 13,
     "metadata": {},
     "output_type": "execute_result"
    },
    {
     "data": {
      "image/png": "[encoded data removed]",
      "text/plain": [
       "<matplotlib.figure.Figure at 0x10d516ed0>"
      ]
     },
     "metadata": {},
     "output_type": "display_data"
    }
   ],
   "source": [
    "# create a scatter plot there the x-axis is the first column of battles\n",
    "# the y-axis is the second column of battles, the size is 100, and\n",
    "# the color of each point is determined by the indentified variable\n",
    "plt.scatter(battles[:,0], battles[:,1], s=100, c=identified)"
   ]
  },
  {
   "cell_type": "code",
   "execution_count": null,
   "metadata": {
    "collapsed": true
   },
   "outputs": [],
   "source": []
  }
 ],
 "metadata": {
  "anaconda-cloud": {},
  "kernelspec": {
   "display_name": "Python [Root]",
   "language": "python",
   "name": "Python [Root]"
  },
  "language_info": {
   "codemirror_mode": {
    "name": "ipython",
    "version": 2
   },
   "file_extension": ".py",
   "mimetype": "text/x-python",
   "name": "python",
   "nbconvert_exporter": "python",
   "pygments_lexer": "ipython2",
   "version": "2.7.12"
  }
 },
 "nbformat": 4,
 "nbformat_minor": 0
}
