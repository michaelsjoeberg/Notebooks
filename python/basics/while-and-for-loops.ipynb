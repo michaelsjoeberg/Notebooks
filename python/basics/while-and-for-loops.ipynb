{
 "cells": [
  {
   "cell_type": "markdown",
   "metadata": {},
   "source": [
    "# While And For Loops"
   ]
  },
  {
   "cell_type": "markdown",
   "metadata": {},
   "source": [
    "## Example variables"
   ]
  },
  {
   "cell_type": "code",
   "execution_count": 1,
   "metadata": {
    "collapsed": true
   },
   "outputs": [],
   "source": [
    "loop_lst = [23, 76, 102, 54]\n",
    "loop_str = 'Michael'"
   ]
  },
  {
   "cell_type": "markdown",
   "metadata": {},
   "source": [
    "## Using 'while'"
   ]
  },
  {
   "cell_type": "code",
   "execution_count": 2,
   "metadata": {
    "collapsed": false
   },
   "outputs": [
    {
     "name": "stdout",
     "output_type": "stream",
     "text": [
      "The count is:  0\n",
      "The count is:  1\n",
      "The count is:  2\n",
      "The count is:  3\n",
      "Done!\n"
     ]
    }
   ],
   "source": [
    "# create a count for loop\n",
    "count = 0\n",
    "\n",
    "# while 'count' is less than 4\n",
    "while (count < 4):\n",
    "    \n",
    "    # print 'count'\n",
    "    print 'The count is: ', count\n",
    "    \n",
    "    # iterate\n",
    "    count = count + 1\n",
    "\n",
    "print \"Done!\""
   ]
  },
  {
   "cell_type": "markdown",
   "metadata": {},
   "source": [
    "## Using 'for'"
   ]
  },
  {
   "cell_type": "code",
   "execution_count": 3,
   "metadata": {
    "collapsed": false
   },
   "outputs": [
    {
     "name": "stdout",
     "output_type": "stream",
     "text": [
      "Current letter: M\n",
      "Current letter: i\n",
      "Current letter: c\n",
      "Current letter: h\n",
      "Current letter: a\n",
      "Current letter: e\n",
      "Current letter: l\n",
      "Done!\n"
     ]
    }
   ],
   "source": [
    "# for each character in 'loop_str'\n",
    "for char in loop_str:\n",
    "    \n",
    "    # print letter\n",
    "    print 'Current letter:', char\n",
    "    \n",
    "print ('Done!')"
   ]
  },
  {
   "cell_type": "code",
   "execution_count": 4,
   "metadata": {
    "collapsed": false
   },
   "outputs": [
    {
     "name": "stdout",
     "output_type": "stream",
     "text": [
      "230\n",
      "760\n",
      "1020\n",
      "540\n",
      "Done!\n"
     ]
    }
   ],
   "source": [
    "# for each item in 'loop_lst'\n",
    "for item in loop_lst:\n",
    "    \n",
    "    # multiply item by 10 and store the product in 'tmp'\n",
    "    tmp = item * 10\n",
    "    \n",
    "    # print the value of 'tmp'\n",
    "    print(tmp)\n",
    "\n",
    "print \"Done!\""
   ]
  },
  {
   "cell_type": "markdown",
   "metadata": {},
   "source": [
    "## Nested loops (to find prime numbers)"
   ]
  },
  {
   "cell_type": "code",
   "execution_count": 5,
   "metadata": {
    "collapsed": false
   },
   "outputs": [
    {
     "name": "stdout",
     "output_type": "stream",
     "text": [
      "1  is prime\n",
      "2  is prime\n",
      "3  is prime\n",
      "5  is prime\n",
      "7  is prime\n",
      "11  is prime\n",
      "13  is prime\n",
      "17  is prime\n",
      "19  is prime\n",
      "Done!\n"
     ]
    }
   ],
   "source": [
    "# count for numbers\n",
    "current = 1\n",
    "\n",
    "# while 'current' is less than 20\n",
    "while(current < 20):\n",
    "    \n",
    "    # set base\n",
    "    base = 2\n",
    "    \n",
    "    # while 'base' is less than or equal to 'current' divided by 'base'\n",
    "    while(base <= (current / base)):\n",
    "        \n",
    "        # break if not 'current' is divisible by 'base'\n",
    "        if not(current % base) : break\n",
    "            \n",
    "        # iterate 'base'\n",
    "        base = base + 1\n",
    "    \n",
    "    # print prime if 'base' is greater than 'current' divided by 'base'\n",
    "    if (base > current / base) : print current, \" is prime\"\n",
    "        \n",
    "    # iterate 'current'\n",
    "    current = current + 1\n",
    "\n",
    "print \"Done!\""
   ]
  },
  {
   "cell_type": "code",
   "execution_count": null,
   "metadata": {
    "collapsed": true
   },
   "outputs": [],
   "source": []
  }
 ],
 "metadata": {
  "kernelspec": {
   "display_name": "Python [Root]",
   "language": "python",
   "name": "Python [Root]"
  },
  "language_info": {
   "codemirror_mode": {
    "name": "ipython",
    "version": 2
   },
   "file_extension": ".py",
   "mimetype": "text/x-python",
   "name": "python",
   "nbconvert_exporter": "python",
   "pygments_lexer": "ipython2",
   "version": "2.7.12"
  }
 },
 "nbformat": 4,
 "nbformat_minor": 0
}
