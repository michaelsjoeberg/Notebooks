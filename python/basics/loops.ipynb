{
 "cells": [
  {
   "cell_type": "markdown",
   "metadata": {},
   "source": [
    "# Loops"
   ]
  },
  {
   "cell_type": "markdown",
   "metadata": {},
   "source": [
    "14 July 2017 | Python"
   ]
  },
  {
   "cell_type": "markdown",
   "metadata": {},
   "source": [
    "### Example variables"
   ]
  },
  {
   "cell_type": "code",
   "execution_count": 28,
   "metadata": {
    "collapsed": true
   },
   "outputs": [],
   "source": [
    "loop_lst = [23, 76, 102, 54]\n",
    "loop_str = 'Michael'"
   ]
  },
  {
   "cell_type": "markdown",
   "metadata": {},
   "source": [
    "### Using 'while'"
   ]
  },
  {
   "cell_type": "code",
   "execution_count": 29,
   "metadata": {
    "collapsed": false
   },
   "outputs": [
    {
     "name": "stdout",
     "output_type": "stream",
     "text": [
      "The count is:  0\n",
      "The count is:  1\n",
      "The count is:  2\n",
      "The count is:  3\n"
     ]
    }
   ],
   "source": [
    "# create a count for loop\n",
    "count = 0\n",
    "\n",
    "# while 'count' is less than 4\n",
    "while(count < 4):\n",
    "    \n",
    "    # print 'count'\n",
    "    print 'The count is: ', count\n",
    "    \n",
    "    # iterate 'count'\n",
    "    count = count + 1"
   ]
  },
  {
   "cell_type": "code",
   "execution_count": 6,
   "metadata": {
    "collapsed": false
   },
   "outputs": [
    {
     "name": "stdout",
     "output_type": "stream",
     "text": [
      "[1, 2, 3, 5, 8, 13, 21, 34, 55, 89]\n"
     ]
    }
   ],
   "source": [
    "# create list with first two fibonacci numbers\n",
    "fib = [1, 2]\n",
    "\n",
    "# while true (i.e. forever)\n",
    "while True:\n",
    "    \n",
    "    # set 'x' equal to last two numbers added\n",
    "    x = fib[-2] + fib[-1]\n",
    "    \n",
    "    # fail safe at 144\n",
    "    if (x % 12 == 0):\n",
    "        break\n",
    "        \n",
    "    else:\n",
    "        # append to list\n",
    "        fib.append(x)\n",
    "\n",
    "print(fib)"
   ]
  },
  {
   "cell_type": "markdown",
   "metadata": {},
   "source": [
    "### Using 'for'"
   ]
  },
  {
   "cell_type": "code",
   "execution_count": 30,
   "metadata": {
    "collapsed": false
   },
   "outputs": [
    {
     "name": "stdout",
     "output_type": "stream",
     "text": [
      "M\n",
      "i\n",
      "c\n",
      "h\n",
      "a\n",
      "e\n",
      "l\n"
     ]
    }
   ],
   "source": [
    "# for each character in 'loop_str'\n",
    "for char in loop_str:\n",
    "    \n",
    "    # print letter\n",
    "    print(char)"
   ]
  },
  {
   "cell_type": "code",
   "execution_count": 31,
   "metadata": {
    "collapsed": false
   },
   "outputs": [
    {
     "name": "stdout",
     "output_type": "stream",
     "text": [
      "230\n",
      "760\n",
      "1020\n",
      "540\n"
     ]
    }
   ],
   "source": [
    "# for each item in 'loop_lst'\n",
    "for item in loop_lst:\n",
    "    \n",
    "    # multiply item by 10 and store in 'tmp'\n",
    "    tmp = item * 10\n",
    "    \n",
    "    # print the value of 'tmp'\n",
    "    print(tmp)"
   ]
  },
  {
   "cell_type": "code",
   "execution_count": 15,
   "metadata": {
    "collapsed": false
   },
   "outputs": [
    {
     "name": "stdout",
     "output_type": "stream",
     "text": [
      "Keys:\n",
      "Birthday\n",
      "Last\n",
      "First\n",
      "\n",
      "Values:\n",
      "[1990, 3, 13]\n",
      "Sjoeberg\n",
      "Michael\n",
      "\n",
      "Items:\n",
      "('Birthday', [1990, 3, 13])\n",
      "('Last', 'Sjoeberg')\n",
      "('First', 'Michael')\n"
     ]
    }
   ],
   "source": [
    "# for each in dictionary\n",
    "dct = {\"First\": \"Michael\", \"Last\": \"Sjoeberg\", \"Birthday\": [1990, 3, 13]}\n",
    "\n",
    "# get keys\n",
    "print(\"Keys:\")\n",
    "for key in dct.keys():\n",
    "    print(key)\n",
    "    \n",
    "# get values\n",
    "print(\"\\nValues:\")\n",
    "for value in dct.values():\n",
    "    print(value)\n",
    "\n",
    "# get items\n",
    "print(\"\\nItems:\")\n",
    "for key, value in dct.items():\n",
    "    print(key, value)"
   ]
  },
  {
   "cell_type": "markdown",
   "metadata": {},
   "source": [
    "### Example: nested loops (to find prime numbers)"
   ]
  },
  {
   "cell_type": "code",
   "execution_count": 32,
   "metadata": {
    "collapsed": false
   },
   "outputs": [
    {
     "name": "stdout",
     "output_type": "stream",
     "text": [
      "1 is prime.\n",
      "2 is prime.\n",
      "3 is prime.\n",
      "5 is prime.\n",
      "7 is prime.\n",
      "11 is prime.\n",
      "13 is prime.\n",
      "17 is prime.\n",
      "19 is prime.\n",
      "23 is prime.\n",
      "29 is prime.\n",
      "31 is prime.\n",
      "37 is prime.\n",
      "41 is prime.\n",
      "43 is prime.\n",
      "47 is prime.\n",
      "53 is prime.\n",
      "59 is prime.\n",
      "61 is prime.\n",
      "67 is prime.\n",
      "71 is prime.\n",
      "73 is prime.\n",
      "79 is prime.\n",
      "83 is prime.\n",
      "89 is prime.\n",
      "97 is prime.\n"
     ]
    }
   ],
   "source": [
    "# count for numbers\n",
    "current = 1\n",
    "\n",
    "# while 'current' is less than 20\n",
    "while(current < 100):\n",
    "    \n",
    "    # set base\n",
    "    base = 2\n",
    "    \n",
    "    # while 'base' is less than or equal to 'current' divided by 'base'\n",
    "    while(base <= (current / base)):\n",
    "        \n",
    "        # if not 'current' is divisible by 'base'\n",
    "        if not(current % base):\n",
    "            break\n",
    "        \n",
    "        # otherwise iterate 'base'\n",
    "        else:\n",
    "            base = base + 1\n",
    "    \n",
    "    # if 'base' is greater than 'current' divided by 'base'\n",
    "    if(base > current / base):\n",
    "        print (str(current) + \" is prime.\")\n",
    "        \n",
    "    # iterate 'current'\n",
    "    current = current + 1"
   ]
  },
  {
   "cell_type": "code",
   "execution_count": null,
   "metadata": {
    "collapsed": true
   },
   "outputs": [],
   "source": []
  },
  {
   "cell_type": "markdown",
   "metadata": {},
   "source": [
    "<i>Notebook by <a href=\"https://www.michaelsjoeberg.com\">Michael Sjoeberg</a>, updated 15 July 2017.</i>"
   ]
  }
 ],
 "metadata": {
  "kernelspec": {
   "display_name": "Python [Root]",
   "language": "python",
   "name": "Python [Root]"
  },
  "language_info": {
   "codemirror_mode": {
    "name": "ipython",
    "version": 2
   },
   "file_extension": ".py",
   "mimetype": "text/x-python",
   "name": "python",
   "nbconvert_exporter": "python",
   "pygments_lexer": "ipython2",
   "version": "2.7.12"
  }
 },
 "nbformat": 4,
 "nbformat_minor": 0
}
