{
 "cells": [
  {
   "cell_type": "markdown",
   "metadata": {},
   "source": [
    "# Try, Except, and Finally"
   ]
  },
  {
   "cell_type": "markdown",
   "metadata": {},
   "source": [
    "12 July 2017 | Python"
   ]
  },
  {
   "cell_type": "markdown",
   "metadata": {},
   "source": [
    "### Example variables"
   ]
  },
  {
   "cell_type": "code",
   "execution_count": 1,
   "metadata": {
    "collapsed": true
   },
   "outputs": [],
   "source": [
    "lst = [234, 356, 63, 234, 130, 157]\n",
    "val = 0.0"
   ]
  },
  {
   "cell_type": "markdown",
   "metadata": {},
   "source": [
    "### Example: add a string to a list of numbers"
   ]
  },
  {
   "cell_type": "code",
   "execution_count": 2,
   "metadata": {
    "collapsed": false
   },
   "outputs": [
    {
     "name": "stdout",
     "output_type": "stream",
     "text": [
      "Error: can only concatenate list (not \"str\") to list\n",
      "Done!\n"
     ]
    }
   ],
   "source": [
    "# try to add\n",
    "try:\n",
    "    lst + 'This is a string.'\n",
    "\n",
    "# catch exception\n",
    "except Exception as e:\n",
    "    print('Error: ' + str(e))\n",
    "    # do something\n",
    "\n",
    "# finally\n",
    "finally:\n",
    "    print('Done!')\n",
    "    # do something"
   ]
  },
  {
   "cell_type": "markdown",
   "metadata": {},
   "source": [
    "### Example: divide a value with zero"
   ]
  },
  {
   "cell_type": "code",
   "execution_count": 4,
   "metadata": {
    "collapsed": false
   },
   "outputs": [
    {
     "name": "stdout",
     "output_type": "stream",
     "text": [
      "Cannot divide with zero.\n"
     ]
    }
   ],
   "source": [
    "# try to divide\n",
    "try:\n",
    "    1.0 / val\n",
    "\n",
    "# catch specific exception\n",
    "except ZeroDivisionError:\n",
    "    print('Cannot divide with zero.')\n",
    "    # do something\n",
    "\n",
    "# catch other exceptions\n",
    "except Exception as e:\n",
    "    print('Error: ' + str(e))\n",
    "    # do something"
   ]
  },
  {
   "cell_type": "code",
   "execution_count": null,
   "metadata": {
    "collapsed": true
   },
   "outputs": [],
   "source": []
  },
  {
   "cell_type": "markdown",
   "metadata": {
    "collapsed": true
   },
   "source": [
    "<i>Notebook by <a href=\"https://www.michaelsjoeberg.com\">Michael Sjoeberg</a>, updated 15 July 2017.</i>"
   ]
  }
 ],
 "metadata": {
  "anaconda-cloud": {},
  "kernelspec": {
   "display_name": "Python [Root]",
   "language": "python",
   "name": "Python [Root]"
  },
  "language_info": {
   "codemirror_mode": {
    "name": "ipython",
    "version": 2
   },
   "file_extension": ".py",
   "mimetype": "text/x-python",
   "name": "python",
   "nbconvert_exporter": "python",
   "pygments_lexer": "ipython2",
   "version": "2.7.12"
  }
 },
 "nbformat": 4,
 "nbformat_minor": 0
}
