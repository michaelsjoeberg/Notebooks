{
 "cells": [
  {
   "cell_type": "markdown",
   "metadata": {},
   "source": [
    "# Try, Except, And Finally"
   ]
  },
  {
   "cell_type": "markdown",
   "metadata": {},
   "source": [
    "## Example variables"
   ]
  },
  {
   "cell_type": "code",
   "execution_count": 1,
   "metadata": {
    "collapsed": true
   },
   "outputs": [],
   "source": [
    "numbers = [234,356,63,234,130,157]"
   ]
  },
  {
   "cell_type": "markdown",
   "metadata": {},
   "source": [
    "## Try something with an error"
   ]
  },
  {
   "cell_type": "code",
   "execution_count": 2,
   "metadata": {
    "collapsed": false
   },
   "outputs": [
    {
     "name": "stdout",
     "output_type": "stream",
     "text": [
      "Error: can only concatenate list (not \"str\") to list\n",
      "Done!\n"
     ]
    }
   ],
   "source": [
    "# try\n",
    "try:\n",
    "    # add list of numbers to a string\n",
    "    numbers + 'This is a string.'\n",
    "\n",
    "except Exception as e:\n",
    "    \n",
    "    # print the error\n",
    "    print('Error: ' + str(e))\n",
    "    \n",
    "# finally\n",
    "finally:\n",
    "    \n",
    "    # print 'Done!'\n",
    "    print('Done!')"
   ]
  },
  {
   "cell_type": "markdown",
   "metadata": {},
   "source": [
    "## Try something without an error"
   ]
  },
  {
   "cell_type": "code",
   "execution_count": 3,
   "metadata": {
    "collapsed": false
   },
   "outputs": [
    {
     "name": "stdout",
     "output_type": "stream",
     "text": [
      "('Numbers:', [234, 356, 63, 234, 130, 157])\n",
      "Done!\n"
     ]
    }
   ],
   "source": [
    "# try\n",
    "try:\n",
    "    # print list of numbers\n",
    "    print ('Numbers:', numbers)\n",
    "\n",
    "except Exception as e:\n",
    "    \n",
    "    # print the error\n",
    "    print('Error: ' + str(e))\n",
    "    \n",
    "# finally\n",
    "finally:\n",
    "    \n",
    "    # print 'Done!'\n",
    "    print('Done!')"
   ]
  },
  {
   "cell_type": "code",
   "execution_count": null,
   "metadata": {
    "collapsed": true
   },
   "outputs": [],
   "source": []
  }
 ],
 "metadata": {
  "kernelspec": {
   "display_name": "Python [Root]",
   "language": "python",
   "name": "Python [Root]"
  },
  "language_info": {
   "codemirror_mode": {
    "name": "ipython",
    "version": 2
   },
   "file_extension": ".py",
   "mimetype": "text/x-python",
   "name": "python",
   "nbconvert_exporter": "python",
   "pygments_lexer": "ipython2",
   "version": "2.7.12"
  }
 },
 "nbformat": 4,
 "nbformat_minor": 0
}
