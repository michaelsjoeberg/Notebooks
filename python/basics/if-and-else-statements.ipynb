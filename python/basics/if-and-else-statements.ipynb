{
 "cells": [
  {
   "cell_type": "markdown",
   "metadata": {},
   "source": [
    "# IF and ELSE Statements"
   ]
  },
  {
   "cell_type": "markdown",
   "metadata": {},
   "source": [
    "12 July 2017 | Python | Basics"
   ]
  },
  {
   "cell_type": "markdown",
   "metadata": {},
   "source": [
    "## Example variables"
   ]
  },
  {
   "cell_type": "code",
   "execution_count": 20,
   "metadata": {
    "collapsed": true
   },
   "outputs": [],
   "source": [
    "a = 1.0\n",
    "b = 22"
   ]
  },
  {
   "cell_type": "markdown",
   "metadata": {},
   "source": [
    "## IF statement"
   ]
  },
  {
   "cell_type": "code",
   "execution_count": 21,
   "metadata": {
    "collapsed": false
   },
   "outputs": [
    {
     "name": "stdout",
     "output_type": "stream",
     "text": [
      "It's 1.0.\n"
     ]
    }
   ],
   "source": [
    "# check if 'a' is equal to '1.0'\n",
    "if (a == 1.0):\n",
    "    print (\"It's 1.0.\")\n",
    "    # then do something"
   ]
  },
  {
   "cell_type": "code",
   "execution_count": 22,
   "metadata": {
    "collapsed": false
   },
   "outputs": [
    {
     "name": "stdout",
     "output_type": "stream",
     "text": [
      "It's less than 30.\n"
     ]
    }
   ],
   "source": [
    "# check if 'b' is less than '30'\n",
    "if (b < 30):\n",
    "    print (\"It's less than 30.\")\n",
    "    # then do something"
   ]
  },
  {
   "cell_type": "markdown",
   "metadata": {},
   "source": [
    "## ELSE statement"
   ]
  },
  {
   "cell_type": "code",
   "execution_count": 23,
   "metadata": {
    "collapsed": false
   },
   "outputs": [
    {
     "name": "stdout",
     "output_type": "stream",
     "text": [
      "It's not 1.0.\n"
     ]
    }
   ],
   "source": [
    "# check if 'b' is equal to '1.0'\n",
    "if (b == 1.0):\n",
    "    print (\"It's 1.0.\")\n",
    "\n",
    "# otherwise\n",
    "else:\n",
    "    print (\"It's not 1.0.\")"
   ]
  },
  {
   "cell_type": "markdown",
   "metadata": {},
   "source": [
    "## ELIF statement"
   ]
  },
  {
   "cell_type": "code",
   "execution_count": 24,
   "metadata": {
    "collapsed": false
   },
   "outputs": [
    {
     "name": "stdout",
     "output_type": "stream",
     "text": [
      "It's 1.0.\n"
     ]
    }
   ],
   "source": [
    "# check if 'a' is less than '1.0'\n",
    "if (a < 1.0):\n",
    "    print (\"It's less than 1.0.\")\n",
    "    \n",
    "# check if 'a' is equal to '1.0'\n",
    "elif (a == 1.0):\n",
    "    print (\"It's 1.0.\")\n",
    "\n",
    "# otherwise\n",
    "else:\n",
    "    print (\"It's greater than 1.0.\")"
   ]
  },
  {
   "cell_type": "markdown",
   "metadata": {},
   "source": [
    "## Nested IF statements"
   ]
  },
  {
   "cell_type": "code",
   "execution_count": 25,
   "metadata": {
    "collapsed": false
   },
   "outputs": [
    {
     "name": "stdout",
     "output_type": "stream",
     "text": [
      "It's less than 30.\n"
     ]
    }
   ],
   "source": [
    "# check if 'a' is equal to '1.0'\n",
    "if (a == 1.0):\n",
    "    \n",
    "    # check if 'b' is greater than '30'\n",
    "    if (b > 30):\n",
    "        print (\"It's greater than 30.\")\n",
    "        \n",
    "    # check if 'b' is equal to '30'\n",
    "    elif (b == 30):\n",
    "        print (\"It's 30.\")\n",
    "        \n",
    "    # otherwise\n",
    "    else:\n",
    "        print (\"It's less than 30.\")"
   ]
  },
  {
   "cell_type": "markdown",
   "metadata": {},
   "source": [
    "## Example with division"
   ]
  },
  {
   "cell_type": "code",
   "execution_count": 179,
   "metadata": {
    "collapsed": false
   },
   "outputs": [],
   "source": [
    "# import 'numpy' module\n",
    "import numpy as np\n",
    "\n",
    "# example variable\n",
    "x = 2"
   ]
  },
  {
   "cell_type": "code",
   "execution_count": 180,
   "metadata": {
    "collapsed": false
   },
   "outputs": [
    {
     "name": "stdout",
     "output_type": "stream",
     "text": [
      "0.893996663601\n"
     ]
    }
   ],
   "source": [
    "# check if 'x' is not equal to '0'\n",
    "if (x != 0):\n",
    "    y = np.sin(180/x)\n",
    "\n",
    "# otherwise\n",
    "else:\n",
    "    y = 0\n",
    "\n",
    "print(y)"
   ]
  },
  {
   "cell_type": "code",
   "execution_count": 181,
   "metadata": {
    "collapsed": false
   },
   "outputs": [
    {
     "name": "stdout",
     "output_type": "stream",
     "text": [
      "0.893996663601\n"
     ]
    }
   ],
   "source": [
    "y = 0\n",
    "\n",
    "# single line expression\n",
    "y = (np.sin(180/x)) if x != 0 else y\n",
    "\n",
    "print(y)"
   ]
  },
  {
   "cell_type": "code",
   "execution_count": null,
   "metadata": {
    "collapsed": true
   },
   "outputs": [],
   "source": []
  }
 ],
 "metadata": {
  "kernelspec": {
   "display_name": "Python [Root]",
   "language": "python",
   "name": "Python [Root]"
  },
  "language_info": {
   "codemirror_mode": {
    "name": "ipython",
    "version": 2
   },
   "file_extension": ".py",
   "mimetype": "text/x-python",
   "name": "python",
   "nbconvert_exporter": "python",
   "pygments_lexer": "ipython2",
   "version": "2.7.12"
  }
 },
 "nbformat": 4,
 "nbformat_minor": 0
}
