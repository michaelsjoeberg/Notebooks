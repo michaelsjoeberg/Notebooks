{
 "cells": [
  {
   "cell_type": "markdown",
   "metadata": {},
   "source": [
    "# Data Structures"
   ]
  },
  {
   "cell_type": "markdown",
   "metadata": {},
   "source": [
    "12 July 2017 | Python | Basics"
   ]
  },
  {
   "cell_type": "markdown",
   "metadata": {},
   "source": [
    "## Lists (mutable)"
   ]
  },
  {
   "cell_type": "code",
   "execution_count": 1,
   "metadata": {
    "collapsed": false
   },
   "outputs": [
    {
     "name": "stdout",
     "output_type": "stream",
     "text": [
      "['Michael', 'Anna', 'Adam', 'Jorge', 'David', 'Susan', 'Cole']\n"
     ]
    }
   ],
   "source": [
    "# list of strings\n",
    "lst_strings = ['Michael','Anna','Adam','Jorge','David','Susan','Cole']\n",
    "\n",
    "print(lst_strings)"
   ]
  },
  {
   "cell_type": "code",
   "execution_count": 2,
   "metadata": {
    "collapsed": false
   },
   "outputs": [
    {
     "name": "stdout",
     "output_type": "stream",
     "text": [
      "[6, 28, 1000.0, -2, 'Text', [1.0, 0.0]]\n"
     ]
    }
   ],
   "source": [
    "# list of mixed\n",
    "lst_mixed = [6, 28, 1e3, -2, \"Text\", [1.0, 0.0]]\n",
    "\n",
    "print(lst_mixed)"
   ]
  },
  {
   "cell_type": "code",
   "execution_count": 3,
   "metadata": {
    "collapsed": false
   },
   "outputs": [
    {
     "data": {
      "text/plain": [
       "7"
      ]
     },
     "execution_count": 3,
     "metadata": {},
     "output_type": "execute_result"
    }
   ],
   "source": [
    "# length of a list (number of items in list)\n",
    "len(lst_strings)"
   ]
  },
  {
   "cell_type": "code",
   "execution_count": 4,
   "metadata": {
    "collapsed": false
   },
   "outputs": [
    {
     "name": "stdout",
     "output_type": "stream",
     "text": [
      "['Michael', 'Anna', 'Adam', 'Jorge', 'David', 'Susan', 'Cole', 6, 28, 1000.0, -2, 'Text', [1.0, 0.0]]\n"
     ]
    }
   ],
   "source": [
    "# concatenate lists\n",
    "lst_all = lst_strings + lst_mixed\n",
    "\n",
    "print(lst_all)"
   ]
  },
  {
   "cell_type": "code",
   "execution_count": 5,
   "metadata": {
    "collapsed": false
   },
   "outputs": [
    {
     "name": "stdout",
     "output_type": "stream",
     "text": [
      "['Michael', 'Anna', 'Adam', 'Jorge', 'David', 'Susan', 'Cole', 'Alex']\n"
     ]
    }
   ],
   "source": [
    "# add item to list\n",
    "lst_strings.append('Alex')\n",
    "\n",
    "print(lst_strings)"
   ]
  },
  {
   "cell_type": "code",
   "execution_count": 6,
   "metadata": {
    "collapsed": false
   },
   "outputs": [
    {
     "name": "stdout",
     "output_type": "stream",
     "text": [
      "['Adam', 'Alex', 'Anna', 'Cole', 'David', 'Jorge', 'Michael', 'Susan']\n"
     ]
    }
   ],
   "source": [
    "# sort list\n",
    "lst_strings.sort()\n",
    "\n",
    "print(lst_strings)"
   ]
  },
  {
   "cell_type": "code",
   "execution_count": 7,
   "metadata": {
    "collapsed": false
   },
   "outputs": [
    {
     "name": "stdout",
     "output_type": "stream",
     "text": [
      "6\n",
      "[1.0, 0.0]\n"
     ]
    }
   ],
   "source": [
    "# print first item in list\n",
    "print (lst_mixed[0])\n",
    "\n",
    "# print last item in list\n",
    "print (lst_mixed[-1])"
   ]
  },
  {
   "cell_type": "code",
   "execution_count": 8,
   "metadata": {
    "collapsed": false
   },
   "outputs": [
    {
     "name": "stdout",
     "output_type": "stream",
     "text": [
      "[6, '28', 1000.0, -2, 'Text', [1.0, 0.0]]\n"
     ]
    }
   ],
   "source": [
    "# change item in list\n",
    "lst_mixed[1] = \"28\"\n",
    "\n",
    "print(lst_mixed)"
   ]
  },
  {
   "cell_type": "code",
   "execution_count": 9,
   "metadata": {
    "collapsed": false
   },
   "outputs": [
    {
     "name": "stdout",
     "output_type": "stream",
     "text": [
      "['Adam', 'Anna', 'Cole', 'David', 'Jorge', 'Michael', 'Susan']\n"
     ]
    }
   ],
   "source": [
    "# delete item in list\n",
    "del lst_strings[1]\n",
    "\n",
    "print(lst_strings)"
   ]
  },
  {
   "cell_type": "code",
   "execution_count": 10,
   "metadata": {
    "collapsed": false
   },
   "outputs": [
    {
     "name": "stdout",
     "output_type": "stream",
     "text": [
      "['Adam', 'Anna', 'Cole', 'David', 'Jorge', 'Michael', 'Susan', 211]\n"
     ]
    }
   ],
   "source": [
    "# add numeric value to list of strings\n",
    "lst_strings.append(211)\n",
    "\n",
    "print(lst_strings)"
   ]
  },
  {
   "cell_type": "code",
   "execution_count": 11,
   "metadata": {
    "collapsed": false
   },
   "outputs": [
    {
     "name": "stdout",
     "output_type": "stream",
     "text": [
      "['F', ' ', '=', ' ', 'd', 'p', '/', 'd', 't']\n"
     ]
    }
   ],
   "source": [
    "# create a list from string\n",
    "lst_other = list(\"F = dp/dt\")\n",
    "\n",
    "print(lst_other)"
   ]
  },
  {
   "cell_type": "markdown",
   "metadata": {},
   "source": [
    "## Tuples (immutable)"
   ]
  },
  {
   "cell_type": "code",
   "execution_count": 12,
   "metadata": {
    "collapsed": false
   },
   "outputs": [
    {
     "name": "stdout",
     "output_type": "stream",
     "text": [
      "('Michael', 'Anna', 'David', 'Susan')\n"
     ]
    }
   ],
   "source": [
    "# create a tuple of strings\n",
    "tpl_strings = ('Michael','Anna','David','Susan')\n",
    "\n",
    "print(tpl_strings)"
   ]
  },
  {
   "cell_type": "code",
   "execution_count": 13,
   "metadata": {
    "collapsed": false
   },
   "outputs": [
    {
     "name": "stdout",
     "output_type": "stream",
     "text": [
      "(1.0, 'Text', 4)\n"
     ]
    }
   ],
   "source": [
    "# create a tuple of mixed\n",
    "tpl_mixed = (1.0, 'Text', 4)\n",
    "\n",
    "print(tpl_mixed)"
   ]
  },
  {
   "cell_type": "code",
   "execution_count": 14,
   "metadata": {
    "collapsed": false
   },
   "outputs": [
    {
     "name": "stdout",
     "output_type": "stream",
     "text": [
      "('Alpha', 'Bravo', ('Michael', 'Anna', 'David', 'Susan'))\n"
     ]
    }
   ],
   "source": [
    "# create nested tuples\n",
    "tpl_nested = ('Alpha', 'Bravo', tpl_strings)\n",
    "\n",
    "print(tpl_nested)"
   ]
  },
  {
   "cell_type": "code",
   "execution_count": 15,
   "metadata": {
    "collapsed": false
   },
   "outputs": [
    {
     "name": "stdout",
     "output_type": "stream",
     "text": [
      "Bravo\n",
      "Anna\n"
     ]
    }
   ],
   "source": [
    "# print the second item in nested tuples\n",
    "print (tpl_nested[1])\n",
    "\n",
    "# print the second item in tuple in nested tuples\n",
    "print (tpl_nested[2][1])"
   ]
  },
  {
   "cell_type": "code",
   "execution_count": 16,
   "metadata": {
    "collapsed": false
   },
   "outputs": [
    {
     "name": "stdout",
     "output_type": "stream",
     "text": [
      "('Michael', 'Anna', 'David', 'Susan', 1.0, 'Text', 4)\n"
     ]
    }
   ],
   "source": [
    "# concatenate tuples\n",
    "tpl_all = tpl_strings + tpl_mixed\n",
    "\n",
    "print(tpl_all)"
   ]
  },
  {
   "cell_type": "code",
   "execution_count": 17,
   "metadata": {
    "collapsed": false
   },
   "outputs": [
    {
     "name": "stdout",
     "output_type": "stream",
     "text": [
      "('e', 2.718)\n"
     ]
    }
   ],
   "source": [
    "# create tuple from list\n",
    "tpl_other = tuple(['e', 2.718])\n",
    "\n",
    "print(tpl_other)"
   ]
  },
  {
   "cell_type": "markdown",
   "metadata": {},
   "source": [
    "## Dictionaries (hash table, key:value)"
   ]
  },
  {
   "cell_type": "code",
   "execution_count": 18,
   "metadata": {
    "collapsed": false
   },
   "outputs": [
    {
     "data": {
      "text/plain": [
       "{'Alex': 'alex@mail.com',\n",
       " 'David': 'david@mail.com',\n",
       " 'Michael': 'michael@mail.com',\n",
       " 'Susan': 'susan@mail.com'}"
      ]
     },
     "execution_count": 18,
     "metadata": {},
     "output_type": "execute_result"
    }
   ],
   "source": [
    "# create a dictionary of strings\n",
    "dct_strings = {'Michael' : 'michael@mail.com',\n",
    "               'David' : 'david@mail.com',\n",
    "               'Alex' : 'alex@mail.com',\n",
    "               'Susan' : 'susan@mail.com'}\n",
    "\n",
    "dct_strings"
   ]
  },
  {
   "cell_type": "code",
   "execution_count": 19,
   "metadata": {
    "collapsed": false
   },
   "outputs": [
    {
     "data": {
      "text/plain": [
       "{True: 1.0, 'e': 2.718, 'h': 6.62606957e-34, 'pi': 3.14159}"
      ]
     },
     "execution_count": 19,
     "metadata": {},
     "output_type": "execute_result"
    }
   ],
   "source": [
    "# create a dictionary of mixed\n",
    "dct_mixed = {\"pi\" : 3.14159,\n",
    "             \"e\" : 2.718, \n",
    "             \"h\" : 6.62606957e-34,\n",
    "             True : 1.0}\n",
    "\n",
    "dct_mixed"
   ]
  },
  {
   "cell_type": "code",
   "execution_count": 20,
   "metadata": {
    "collapsed": false
   },
   "outputs": [
    {
     "data": {
      "text/plain": [
       "2.718"
      ]
     },
     "execution_count": 20,
     "metadata": {},
     "output_type": "execute_result"
    }
   ],
   "source": [
    "# get value from dictionary of mixed using key\n",
    "dct_mixed['e']"
   ]
  },
  {
   "cell_type": "code",
   "execution_count": 21,
   "metadata": {
    "collapsed": false
   },
   "outputs": [
    {
     "data": {
      "text/plain": [
       "{'Alex': 'alex@mail.com',\n",
       " 'Anna': 'anna@mail.com',\n",
       " 'David': 'david@mail.com',\n",
       " 'Michael': 'michael@mail.com',\n",
       " 'Susan': 'susan@mail.com'}"
      ]
     },
     "execution_count": 21,
     "metadata": {},
     "output_type": "execute_result"
    }
   ],
   "source": [
    "# add entry to dictionary of strings\n",
    "dct_strings['Anna'] = 'anna@mail.com'\n",
    "\n",
    "dct_strings"
   ]
  },
  {
   "cell_type": "code",
   "execution_count": 22,
   "metadata": {
    "collapsed": false
   },
   "outputs": [
    {
     "data": {
      "text/plain": [
       "{'Alex': 'alex@mail.com',\n",
       " 'David': 'david@mail.com',\n",
       " 'Michael': 'michael@mail.com',\n",
       " 'Susan': 'susan@mail.com'}"
      ]
     },
     "execution_count": 22,
     "metadata": {},
     "output_type": "execute_result"
    }
   ],
   "source": [
    "# delete entry from dictionary of strings using key\n",
    "del dct_strings['Anna']\n",
    "\n",
    "dct_strings"
   ]
  },
  {
   "cell_type": "code",
   "execution_count": 23,
   "metadata": {
    "collapsed": false
   },
   "outputs": [
    {
     "data": {
      "text/plain": [
       "{1: 'x', 2: 'y', 3: 'z'}"
      ]
     },
     "execution_count": 23,
     "metadata": {},
     "output_type": "execute_result"
    }
   ],
   "source": [
    "# create a dictionary from list of tuples (key:value)\n",
    "dct_other = dict([(1, \"x\"), (2, \"y\"), (3, \"z\")])\n",
    "\n",
    "dct_other"
   ]
  },
  {
   "cell_type": "code",
   "execution_count": 24,
   "metadata": {
    "collapsed": false
   },
   "outputs": [
    {
     "data": {
      "text/plain": [
       "True"
      ]
     },
     "execution_count": 24,
     "metadata": {},
     "output_type": "execute_result"
    }
   ],
   "source": [
    "# check if item is in dictionary\n",
    "\"pi\" in dct_mixed"
   ]
  },
  {
   "cell_type": "code",
   "execution_count": 25,
   "metadata": {
    "collapsed": false
   },
   "outputs": [
    {
     "data": {
      "text/plain": [
       "{'Alex': 'alex.alex@mail.com',\n",
       " 'David': 'dave@mail.com',\n",
       " 'Michael': 'mike@mail.com',\n",
       " 'Susan': 'sus@mail.com'}"
      ]
     },
     "execution_count": 25,
     "metadata": {},
     "output_type": "execute_result"
    }
   ],
   "source": [
    "# update (overwrites overlapping keys)\n",
    "dct_strings.update({'Michael' : 'mike@mail.com',\n",
    "                    'David' : 'dave@mail.com',\n",
    "                    'Alex' : 'alex.alex@mail.com',\n",
    "                    'Susan' : 'sus@mail.com'})\n",
    "\n",
    "dct_strings"
   ]
  },
  {
   "cell_type": "markdown",
   "metadata": {},
   "source": [
    "## Sets (unordered collection)"
   ]
  },
  {
   "cell_type": "code",
   "execution_count": 26,
   "metadata": {
    "collapsed": false
   },
   "outputs": [
    {
     "data": {
      "text/plain": [
       "{1.0, 10, 'Text', (1, 0, 1, 0)}"
      ]
     },
     "execution_count": 26,
     "metadata": {},
     "output_type": "execute_result"
    }
   ],
   "source": [
    "# create a set of mixed\n",
    "set_mixed = {1.0, 10, \"Text\", (1, 0, 1, 0)}\n",
    "\n",
    "set_mixed"
   ]
  },
  {
   "cell_type": "code",
   "execution_count": 27,
   "metadata": {
    "collapsed": false
   },
   "outputs": [
    {
     "data": {
      "text/plain": [
       "({1, 2, 3}, {3, 4, 5})"
      ]
     },
     "execution_count": 27,
     "metadata": {},
     "output_type": "execute_result"
    }
   ],
   "source": [
    "# create two sets of numbers\n",
    "set_s = {1, 2, 3}\n",
    "set_t = {3, 4, 5}\n",
    "\n",
    "set_s, set_t"
   ]
  },
  {
   "cell_type": "code",
   "execution_count": 28,
   "metadata": {
    "collapsed": false
   },
   "outputs": [
    {
     "data": {
      "text/plain": [
       "True"
      ]
     },
     "execution_count": 28,
     "metadata": {},
     "output_type": "execute_result"
    }
   ],
   "source": [
    "# check if 'Text' is in set of mixed\n",
    "'Text' in set_mixed"
   ]
  },
  {
   "cell_type": "code",
   "execution_count": 29,
   "metadata": {
    "collapsed": false
   },
   "outputs": [
    {
     "data": {
      "text/plain": [
       "False"
      ]
     },
     "execution_count": 29,
     "metadata": {},
     "output_type": "execute_result"
    }
   ],
   "source": [
    "# check if 'Python' is in set of mixed\n",
    "'Java' in set_mixed"
   ]
  },
  {
   "cell_type": "code",
   "execution_count": 30,
   "metadata": {
    "collapsed": false
   },
   "outputs": [
    {
     "data": {
      "text/plain": [
       "{1.0, 10, 'Text', (1, 0, 1, 0)}"
      ]
     },
     "execution_count": 30,
     "metadata": {},
     "output_type": "execute_result"
    }
   ],
   "source": [
    "# create a copy of set of mixed\n",
    "tmp = set_mixed.copy()\n",
    "\n",
    "tmp"
   ]
  },
  {
   "cell_type": "code",
   "execution_count": 31,
   "metadata": {
    "collapsed": false
   },
   "outputs": [
    {
     "data": {
      "text/plain": [
       "{1.0, 10, 'Python', 'Text', (1, 0, 1, 0)}"
      ]
     },
     "execution_count": 31,
     "metadata": {},
     "output_type": "execute_result"
    }
   ],
   "source": [
    "# add item to 'tmp'\n",
    "tmp.add('Python')\n",
    "\n",
    "tmp"
   ]
  },
  {
   "cell_type": "code",
   "execution_count": 32,
   "metadata": {
    "collapsed": false
   },
   "outputs": [
    {
     "data": {
      "text/plain": [
       "{1.0, 10, 'Text', (1, 0, 1, 0)}"
      ]
     },
     "execution_count": 32,
     "metadata": {},
     "output_type": "execute_result"
    }
   ],
   "source": [
    "# remove item from 'tmp'\n",
    "tmp.remove('Python')\n",
    "\n",
    "tmp"
   ]
  },
  {
   "cell_type": "code",
   "execution_count": 33,
   "metadata": {
    "collapsed": false
   },
   "outputs": [
    {
     "data": {
      "text/plain": [
       "{1, 2, 3, 4, 5}"
      ]
     },
     "execution_count": 33,
     "metadata": {},
     "output_type": "execute_result"
    }
   ],
   "source": [
    "# union\n",
    "set_s | set_t"
   ]
  },
  {
   "cell_type": "code",
   "execution_count": 34,
   "metadata": {
    "collapsed": false
   },
   "outputs": [
    {
     "data": {
      "text/plain": [
       "{3}"
      ]
     },
     "execution_count": 34,
     "metadata": {},
     "output_type": "execute_result"
    }
   ],
   "source": [
    "# intersection\n",
    "set_s & set_t"
   ]
  },
  {
   "cell_type": "code",
   "execution_count": 35,
   "metadata": {
    "collapsed": false
   },
   "outputs": [
    {
     "data": {
      "text/plain": [
       "{1, 2}"
      ]
     },
     "execution_count": 35,
     "metadata": {},
     "output_type": "execute_result"
    }
   ],
   "source": [
    "# difference\n",
    "set_s - set_t"
   ]
  },
  {
   "cell_type": "code",
   "execution_count": 36,
   "metadata": {
    "collapsed": false
   },
   "outputs": [
    {
     "data": {
      "text/plain": [
       "{1, 2, 4, 5}"
      ]
     },
     "execution_count": 36,
     "metadata": {},
     "output_type": "execute_result"
    }
   ],
   "source": [
    "# symmetric difference\n",
    "set_s ^ set_t"
   ]
  },
  {
   "cell_type": "code",
   "execution_count": 37,
   "metadata": {
    "collapsed": false
   },
   "outputs": [
    {
     "data": {
      "text/plain": [
       "False"
      ]
     },
     "execution_count": 37,
     "metadata": {},
     "output_type": "execute_result"
    }
   ],
   "source": [
    "# strict subset\n",
    "set_s < set_t"
   ]
  },
  {
   "cell_type": "code",
   "execution_count": 38,
   "metadata": {
    "collapsed": false
   },
   "outputs": [
    {
     "data": {
      "text/plain": [
       "False"
      ]
     },
     "execution_count": 38,
     "metadata": {},
     "output_type": "execute_result"
    }
   ],
   "source": [
    "# subset\n",
    "set_s <= set_t"
   ]
  },
  {
   "cell_type": "code",
   "execution_count": 39,
   "metadata": {
    "collapsed": false
   },
   "outputs": [
    {
     "data": {
      "text/plain": [
       "False"
      ]
     },
     "execution_count": 39,
     "metadata": {},
     "output_type": "execute_result"
    }
   ],
   "source": [
    "# strict superset\n",
    "set_s > set_t"
   ]
  },
  {
   "cell_type": "code",
   "execution_count": 40,
   "metadata": {
    "collapsed": false
   },
   "outputs": [
    {
     "data": {
      "text/plain": [
       "False"
      ]
     },
     "execution_count": 40,
     "metadata": {},
     "output_type": "execute_result"
    }
   ],
   "source": [
    "# superset\n",
    "set_s >= set_t"
   ]
  },
  {
   "cell_type": "code",
   "execution_count": null,
   "metadata": {
    "collapsed": true
   },
   "outputs": [],
   "source": []
  }
 ],
 "metadata": {
  "kernelspec": {
   "display_name": "Python [Root]",
   "language": "python",
   "name": "Python [Root]"
  },
  "language_info": {
   "codemirror_mode": {
    "name": "ipython",
    "version": 2
   },
   "file_extension": ".py",
   "mimetype": "text/x-python",
   "name": "python",
   "nbconvert_exporter": "python",
   "pygments_lexer": "ipython2",
   "version": "2.7.12"
  }
 },
 "nbformat": 4,
 "nbformat_minor": 0
}
