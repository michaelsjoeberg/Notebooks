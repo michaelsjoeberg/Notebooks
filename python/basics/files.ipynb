{
 "cells": [
  {
   "cell_type": "markdown",
   "metadata": {},
   "source": [
    "# Files"
   ]
  },
  {
   "cell_type": "markdown",
   "metadata": {},
   "source": [
    "19 July 2017 | Python"
   ]
  },
  {
   "cell_type": "markdown",
   "metadata": {},
   "source": [
    "### Read data from a text-file"
   ]
  },
  {
   "cell_type": "code",
   "execution_count": 14,
   "metadata": {
    "collapsed": false
   },
   "outputs": [
    {
     "name": "stdout",
     "output_type": "stream",
     "text": [
      "[[1, 2, 3, 4], [5, 6, 7, 8], [9, 10, 11, 12], [13, 14, 15, 16]]\n"
     ]
    }
   ],
   "source": [
    "# open text-file (read only)\n",
    "f = open('data/matrix.txt', 'r')\n",
    "\n",
    "# create empty list\n",
    "a = []\n",
    "\n",
    "# for each line in text-file\n",
    "for line in f.readlines():\n",
    "    \n",
    "    # convert each item to int\n",
    "    row = [int(x) for x in line.split(',')]\n",
    "    \n",
    "    # append to list\n",
    "    a.append(row)\n",
    "    \n",
    "# close text-file\n",
    "f.close()\n",
    "\n",
    "print(a)"
   ]
  },
  {
   "cell_type": "markdown",
   "metadata": {},
   "source": [
    "### Read data using 'context-manager'"
   ]
  },
  {
   "cell_type": "code",
   "execution_count": 28,
   "metadata": {
    "collapsed": false
   },
   "outputs": [
    {
     "name": "stdout",
     "output_type": "stream",
     "text": [
      "[[1, 2, 3, 4], [5, 6, 7, 8], [9, 10, 11, 12], [13, 14, 15, 16]]\n"
     ]
    }
   ],
   "source": [
    "# create empty list\n",
    "b = []\n",
    "\n",
    "# open text-file (read only)\n",
    "with open('data/matrix.txt', 'r') as f:\n",
    "    \n",
    "    # for each line in text-file\n",
    "    for line in f.readlines():\n",
    "\n",
    "        # convert each item to int\n",
    "        row = [int(x) for x in line.split(',')]\n",
    "\n",
    "        # append to list\n",
    "        b.append(row)\n",
    "\n",
    "print(b)"
   ]
  },
  {
   "cell_type": "markdown",
   "metadata": {},
   "source": [
    "### Write data to a text-file"
   ]
  },
  {
   "cell_type": "code",
   "execution_count": 29,
   "metadata": {
    "collapsed": false
   },
   "outputs": [
    {
     "name": "stdout",
     "output_type": "stream",
     "text": [
      "some text\n"
     ]
    }
   ],
   "source": [
    "# create text-file (read and write)\n",
    "with open('data/file.txt', 'r+') as f:\n",
    "    \n",
    "    # write to file\n",
    "    f.write('some text')\n",
    "    \n",
    "# read text-file (read only)\n",
    "with open('data/file.txt', 'r+') as f:\n",
    "    \n",
    "    # save content as a string\n",
    "    content = f.read()\n",
    "    \n",
    "    # print\n",
    "    print(content)"
   ]
  },
  {
   "cell_type": "code",
   "execution_count": null,
   "metadata": {
    "collapsed": true
   },
   "outputs": [],
   "source": []
  },
  {
   "cell_type": "markdown",
   "metadata": {
    "collapsed": true
   },
   "source": [
    "<i>Notebook by <a href=\"https://www.michaelsjoeberg.com\">Michael Sjoeberg</a>, updated 19 July 2017</i>."
   ]
  }
 ],
 "metadata": {
  "anaconda-cloud": {},
  "kernelspec": {
   "display_name": "Python [Root]",
   "language": "python",
   "name": "Python [Root]"
  },
  "language_info": {
   "codemirror_mode": {
    "name": "ipython",
    "version": 2
   },
   "file_extension": ".py",
   "mimetype": "text/x-python",
   "name": "python",
   "nbconvert_exporter": "python",
   "pygments_lexer": "ipython2",
   "version": "2.7.12"
  }
 },
 "nbformat": 4,
 "nbformat_minor": 0
}
