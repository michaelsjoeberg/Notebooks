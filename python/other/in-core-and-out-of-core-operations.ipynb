{
 "cells": [
  {
   "cell_type": "markdown",
   "metadata": {},
   "source": [
    "# In-Core and Out-of-Core Operations"
   ]
  },
  {
   "cell_type": "markdown",
   "metadata": {},
   "source": [
    "24 July 2017 | Python"
   ]
  },
  {
   "cell_type": "code",
   "execution_count": 63,
   "metadata": {
    "collapsed": true
   },
   "outputs": [],
   "source": [
    "import numpy as np"
   ]
  },
  {
   "cell_type": "markdown",
   "metadata": {},
   "source": [
    "### Example variables"
   ]
  },
  {
   "cell_type": "code",
   "execution_count": 64,
   "metadata": {
    "collapsed": false
   },
   "outputs": [],
   "source": [
    "# define two 10x10 arrays\n",
    "a = np.random.random((10, 10))\n",
    "b = np.random.random((10, 10))"
   ]
  },
  {
   "cell_type": "markdown",
   "metadata": {},
   "source": [
    "### In-core"
   ]
  },
  {
   "cell_type": "code",
   "execution_count": 65,
   "metadata": {
    "collapsed": false
   },
   "outputs": [],
   "source": [
    "# compute 'c'\n",
    "c = 42 * a + 28 * b + 6\n",
    "#print(c)"
   ]
  },
  {
   "cell_type": "code",
   "execution_count": 66,
   "metadata": {
    "collapsed": true
   },
   "outputs": [],
   "source": [
    "# break-down into temporary arrays\n",
    "tmp1 = 42 * a\n",
    "tmp2 = 28 * b\n",
    "tmp3 = tmp1 + tmp2\n",
    "\n",
    "# then compute 'c'\n",
    "c = tmp3 + 6\n",
    "\n",
    "#print(c)"
   ]
  },
  {
   "cell_type": "code",
   "execution_count": 67,
   "metadata": {
    "collapsed": false
   },
   "outputs": [
    {
     "name": "stdout",
     "output_type": "stream",
     "text": [
      "[[ 37.38628752  61.66957382  40.49035806  32.7307626   30.03913252\n",
      "   44.69871357  30.14531785  52.99102436  52.1916562   39.31027243]\n",
      " [ 45.00229742  36.31081024  60.43547919  41.48873463  64.7295636\n",
      "   42.88789953  40.0192083   31.71166585  54.15233684  33.06805769]\n",
      " [ 45.0183234   25.49391366  31.09452731  30.80763121  55.68914213\n",
      "   49.11387495  50.89472706  54.10167784  35.28474139  34.09097304]\n",
      " [ 20.13580945  53.82987174  34.40262868  55.03553168  30.91209212\n",
      "   54.13836336  63.03979774  49.20432611  23.25752878  45.50573964]\n",
      " [ 46.42160721  36.20688061  23.69444818  24.80879545  40.6654608\n",
      "   36.70327075  42.83309295  47.60523386  35.93518118  21.23653385]\n",
      " [ 54.32444568  20.90708996  38.1048614   52.08168573  48.31794964\n",
      "   55.5930193   27.57341515  54.99474046  23.50419375  40.97065343]\n",
      " [ 35.97460927  56.81614225  42.12032382  32.41236385  35.18563649\n",
      "   48.53669925  29.93260492  59.99806141  43.55310741  58.32203394]\n",
      " [ 55.78024366  39.16783448  46.4533654   50.92459252  51.63550668\n",
      "   28.42667971  12.8529937   11.44454568  30.69895649  22.73882056]\n",
      " [ 45.28779157  20.93413404  14.11596582  26.73446924  51.10298249\n",
      "   66.36579909  49.7754543   42.09256725  43.849031    39.10953571]\n",
      " [ 37.93482709  26.84867299  49.09305062  66.43035276  66.44166656\n",
      "   51.11743874  64.90807434  43.87025354  43.3383343   31.19605054]]\n"
     ]
    }
   ],
   "source": [
    "# create empty array\n",
    "c = np.empty((10, 10))\n",
    "\n",
    "# then compute 'c' element-wise \n",
    "for i in range(len(c)):\n",
    "    c[i] = 42 * a[i] + 28 * b[i] + 6\n",
    "    \n",
    "print(c)"
   ]
  },
  {
   "cell_type": "markdown",
   "metadata": {},
   "source": [
    "### Out-of-core"
   ]
  },
  {
   "cell_type": "code",
   "execution_count": 68,
   "metadata": {
    "collapsed": false
   },
   "outputs": [
    {
     "name": "stdout",
     "output_type": "stream",
     "text": [
      "[[ 37.38628752  61.66957382  40.49035806  32.7307626   30.03913252\n",
      "   44.69871357  30.14531785  52.99102436  52.1916562   39.31027243]\n",
      " [ 45.00229742  36.31081024  60.43547919  41.48873463  64.7295636\n",
      "   42.88789953  40.0192083   31.71166585  54.15233684  33.06805769]\n",
      " [ 45.0183234   25.49391366  31.09452731  30.80763121  55.68914213\n",
      "   49.11387495  50.89472706  54.10167784  35.28474139  34.09097304]\n",
      " [ 20.13580945  53.82987174  34.40262868  55.03553168  30.91209212\n",
      "   54.13836336  63.03979774  49.20432611  23.25752878  45.50573964]\n",
      " [ 46.42160721  36.20688061  23.69444818  24.80879545  40.6654608\n",
      "   36.70327075  42.83309295  47.60523386  35.93518118  21.23653385]\n",
      " [ 54.32444568  20.90708996  38.1048614   52.08168573  48.31794964\n",
      "   55.5930193   27.57341515  54.99474046  23.50419375  40.97065343]\n",
      " [ 35.97460927  56.81614225  42.12032382  32.41236385  35.18563649\n",
      "   48.53669925  29.93260492  59.99806141  43.55310741  58.32203394]\n",
      " [ 55.78024366  39.16783448  46.4533654   50.92459252  51.63550668\n",
      "   28.42667971  12.8529937   11.44454568  30.69895649  22.73882056]\n",
      " [ 45.28779157  20.93413404  14.11596582  26.73446924  51.10298249\n",
      "   66.36579909  49.7754543   42.09256725  43.849031    39.10953571]\n",
      " [ 37.93482709  26.84867299  49.09305062  66.43035276  66.44166656\n",
      "   51.11743874  64.90807434  43.87025354  43.3383343   31.19605054]]\n"
     ]
    }
   ],
   "source": [
    "# create empty array for result\n",
    "c = np.empty((10, 10))\n",
    "\n",
    "# create empty arrays for temporary arrays\n",
    "r2, r3 = np.empty((10, 10)), np.empty((10, 10))\n",
    "\n",
    "# then compute 'c' limited to 256 elements in memory\n",
    "for i in range(0, len(a), 256):\n",
    "    r0, r1 = a[i:i + 256], b[i:i + 256]\n",
    "    np.multiply(r0, 42, r2)\n",
    "    np.multiply(r1, 28, r3)\n",
    "    np.add(r2, r3, r2)\n",
    "    np.add(r2, 6, r2)\n",
    "    \n",
    "    c[i:i + 256] = r2\n",
    "\n",
    "print(c)"
   ]
  },
  {
   "cell_type": "code",
   "execution_count": null,
   "metadata": {
    "collapsed": true
   },
   "outputs": [],
   "source": []
  },
  {
   "cell_type": "markdown",
   "metadata": {
    "collapsed": true
   },
   "source": [
    "<i>Notebook by <a href=\"https://www.michaelsjoeberg.com\">Michael Sjoeberg</a>, updated 24 July 2017.</i>"
   ]
  }
 ],
 "metadata": {
  "anaconda-cloud": {},
  "kernelspec": {
   "display_name": "Python [Root]",
   "language": "python",
   "name": "Python [Root]"
  },
  "language_info": {
   "codemirror_mode": {
    "name": "ipython",
    "version": 2
   },
   "file_extension": ".py",
   "mimetype": "text/x-python",
   "name": "python",
   "nbconvert_exporter": "python",
   "pygments_lexer": "ipython2",
   "version": "2.7.12"
  }
 },
 "nbformat": 4,
 "nbformat_minor": 0
}
