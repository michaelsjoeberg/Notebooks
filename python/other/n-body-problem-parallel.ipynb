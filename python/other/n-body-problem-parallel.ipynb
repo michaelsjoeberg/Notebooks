{
 "cells": [
  {
   "cell_type": "markdown",
   "metadata": {},
   "source": [
    "# N-Body Problem (parallel)"
   ]
  },
  {
   "cell_type": "markdown",
   "metadata": {},
   "source": [
    "24 July 2017 | Python"
   ]
  },
  {
   "cell_type": "code",
   "execution_count": 32,
   "metadata": {
    "collapsed": true
   },
   "outputs": [],
   "source": [
    "import time\n",
    "import numpy as np\n",
    "from multiprocessing import Pool"
   ]
  },
  {
   "cell_type": "markdown",
   "metadata": {},
   "source": [
    "### Functions for calculation"
   ]
  },
  {
   "cell_type": "code",
   "execution_count": 33,
   "metadata": {
    "collapsed": true
   },
   "outputs": [],
   "source": [
    "def remove_i(x, i):\n",
    "    \"\"\"Remove i-th element from an array.\"\"\"\n",
    "    \n",
    "    shape = (x.shape[0] - 1,) + x.shape[1:]\n",
    "    \n",
    "    y = np.empty(shape, dtype=float)\n",
    "    y[:i] = x[:i]\n",
    "    y[i:] = x[i + 1:]\n",
    "    \n",
    "    return y    "
   ]
  },
  {
   "cell_type": "code",
   "execution_count": 34,
   "metadata": {
    "collapsed": true
   },
   "outputs": [],
   "source": [
    "def a(i, x, G, m):\n",
    "    \"\"\"Compute the acceleration.\"\"\"\n",
    "    \n",
    "    x_i = x[i]\n",
    "    x_j = remove_i(x, i)\n",
    "    m_j = remove_i(m, i)\n",
    "    \n",
    "    diff = x_j - x_i\n",
    "    \n",
    "    mag3 = np.sum(diff**2, axis=1)**1.5\n",
    "    \n",
    "    result = G * np.sum(diff * (m_j / mag3)[:, np.newaxis], axis=0)\n",
    "    \n",
    "    return result"
   ]
  },
  {
   "cell_type": "code",
   "execution_count": 35,
   "metadata": {
    "collapsed": false
   },
   "outputs": [],
   "source": [
    "def timestep(x0, v0, G, m, dt, pool):\n",
    "    \"\"\"Compute the next position and velocity for all masses using pool.\"\"\"\n",
    "    \n",
    "    N = len(x0)\n",
    "    \n",
    "    # multiprocessing\n",
    "    tasks = [(i, x0, v0, G, m, dt) for i in range(N)]\n",
    "    results = pool.map(timestep_i, tasks)\n",
    "    \n",
    "    x1 = np.empty(x0.shape, dtype=float)\n",
    "    v1 = np.empty(v0.shape, dtype=float)\n",
    "    \n",
    "    for i, x_i1, v_i1 in results:\n",
    "        x1[i] = x_i1\n",
    "        v1[i] = v_i1\n",
    "        \n",
    "    return x1, v1"
   ]
  },
  {
   "cell_type": "code",
   "execution_count": 36,
   "metadata": {
    "collapsed": true
   },
   "outputs": [],
   "source": [
    "def initial_condition(N, D):\n",
    "    \"\"\"Generate initial condition for N masses in D space.\"\"\"\n",
    "    \n",
    "    x0 = np.random.rand(N, D)\n",
    "    v0 = np.zeros((N, D), dtype=float)\n",
    "    m = np.ones(N, dtype=float)\n",
    "    \n",
    "    return x0, v0, m"
   ]
  },
  {
   "cell_type": "markdown",
   "metadata": {},
   "source": [
    "### Multiprocessing"
   ]
  },
  {
   "cell_type": "code",
   "execution_count": 37,
   "metadata": {
    "collapsed": true
   },
   "outputs": [],
   "source": [
    "def timestep_i(args):\n",
    "    \"\"\"Compute the next position and velocity for all masses.\"\"\"\n",
    "    \n",
    "    i, x0, v0, G, m, dt = args\n",
    "    a_i0 = a(i, x0, G, m)\n",
    "    v_i1 = a_i0 * dt + v0[i]\n",
    "    x_i1 = a_i0 * dt**2 + v0[i] * dt + x0[i]\n",
    "    \n",
    "    return i, x_i1, v_i1"
   ]
  },
  {
   "cell_type": "markdown",
   "metadata": {},
   "source": [
    "### Simulate time steps"
   ]
  },
  {
   "cell_type": "code",
   "execution_count": 38,
   "metadata": {
    "collapsed": true
   },
   "outputs": [],
   "source": [
    "# function for simulation\n",
    "def simulate(P, N, D, S, G, dt):\n",
    "    \n",
    "    # define initial condition variables\n",
    "    x0, v0, m = initial_condition(N, D)\n",
    "    pool = Pool(P)\n",
    "    \n",
    "    # iterate time steps\n",
    "    for s in range(S):\n",
    "        x1, v1 = timestep(x0, v0, G, m, dt, pool)\n",
    "        x0, v0 = x1, v1"
   ]
  },
  {
   "cell_type": "code",
   "execution_count": 40,
   "metadata": {
    "collapsed": false
   },
   "outputs": [
    {
     "name": "stdout",
     "output_type": "stream",
     "text": [
      "[2.3386130332946777, 1.330625057220459, 1.127058982849121, 1.290069818496704]\n"
     ]
    }
   ],
   "source": [
    "# list of processes\n",
    "lst_p = [1, 2, 4, 8]\n",
    "\n",
    "# empty list for run times\n",
    "runtimes = []\n",
    "\n",
    "for P in lst_p:\n",
    "    start = time.time()\n",
    "    simulate(P, 128, 3, 300, 1.0, 1e-3)\n",
    "    stop = time.time()\n",
    "    runtimes.append(stop - start)\n",
    "\n",
    "print(runtimes)"
   ]
  },
  {
   "cell_type": "code",
   "execution_count": null,
   "metadata": {
    "collapsed": true
   },
   "outputs": [],
   "source": []
  },
  {
   "cell_type": "markdown",
   "metadata": {
    "collapsed": true
   },
   "source": [
    "<i>Notebook by <a href=\"https://www.michaelsjoeberg.com\">Michael Sjoeberg</a>, updated 24 July 2017.</i>"
   ]
  }
 ],
 "metadata": {
  "anaconda-cloud": {},
  "kernelspec": {
   "display_name": "Python [Root]",
   "language": "python",
   "name": "Python [Root]"
  },
  "language_info": {
   "codemirror_mode": {
    "name": "ipython",
    "version": 2
   },
   "file_extension": ".py",
   "mimetype": "text/x-python",
   "name": "python",
   "nbconvert_exporter": "python",
   "pygments_lexer": "ipython2",
   "version": "2.7.12"
  }
 },
 "nbformat": 4,
 "nbformat_minor": 0
}
