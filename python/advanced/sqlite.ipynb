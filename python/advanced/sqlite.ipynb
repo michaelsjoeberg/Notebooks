{
 "cells": [
  {
   "cell_type": "markdown",
   "metadata": {},
   "source": [
    "### SQLite"
   ]
  },
  {
   "cell_type": "markdown",
   "metadata": {},
   "source": [
    "25 August 2017 | Python"
   ]
  },
  {
   "cell_type": "code",
   "execution_count": 15,
   "metadata": {
    "collapsed": false
   },
   "outputs": [
    {
     "data": {
      "text/plain": [
       "'2.6.0'"
      ]
     },
     "execution_count": 15,
     "metadata": {},
     "output_type": "execute_result"
    }
   ],
   "source": [
    "import sqlite3\n",
    "\n",
    "# check version\n",
    "sqlite3.version"
   ]
  },
  {
   "cell_type": "markdown",
   "metadata": {},
   "source": [
    "### Open/ create a database"
   ]
  },
  {
   "cell_type": "code",
   "execution_count": 16,
   "metadata": {
    "collapsed": false
   },
   "outputs": [],
   "source": [
    "# open, or create, a database\n",
    "db = sqlite3.connect('data/database.db')"
   ]
  },
  {
   "cell_type": "markdown",
   "metadata": {},
   "source": [
    "### Create a table"
   ]
  },
  {
   "cell_type": "code",
   "execution_count": 17,
   "metadata": {
    "collapsed": false
   },
   "outputs": [],
   "source": [
    "# define cursor object\n",
    "cursor = db.cursor()\n",
    "\n",
    "# execute create table query\n",
    "cursor.execute('''CREATE TABLE books(id INTEGER PRIMARY KEY, title TEXT, author TEXT, price TEXT, year TEXT)''')\n",
    "\n",
    "# save changes to database (if any)\n",
    "db.commit()"
   ]
  },
  {
   "cell_type": "markdown",
   "metadata": {},
   "source": [
    "### Inserting data into tables"
   ]
  },
  {
   "cell_type": "code",
   "execution_count": 18,
   "metadata": {
    "collapsed": true
   },
   "outputs": [],
   "source": [
    "# define variables for first book\n",
    "title_1 = 'Learning Python'\n",
    "author_1 = 'Mark Lutz'\n",
    "price_1 = '$36.19'\n",
    "year_1 ='Jul 6, 2013'\n",
    "\n",
    "# define variables for second book\n",
    "title_2 = 'Two Scoops of Django: Best Practices For Django 1.6'\n",
    "author_2 = 'Daniel Greenfeld'\n",
    "price_2 = '$34.68'\n",
    "year_2 = 'Feb 1, 2014'"
   ]
  },
  {
   "cell_type": "code",
   "execution_count": 19,
   "metadata": {
    "collapsed": false
   },
   "outputs": [],
   "source": [
    "# define cursor object\n",
    "cursor = db.cursor()\n",
    "\n",
    "# execute insert into table query (first book)\n",
    "cursor.execute('''INSERT INTO books(title, author, price, year) VALUES(?,?,?,?)''', (title_1, author_1, price_1, year_1))\n",
    "\n",
    "# execute insert into table query (second book)\n",
    "cursor.execute('''INSERT INTO books(title, author, price, year) VALUES(?,?,?,?)''', (title_2, author_2, price_2, year_2))\n",
    "\n",
    "# save changes to database (if any)\n",
    "db.commit()"
   ]
  },
  {
   "cell_type": "code",
   "execution_count": 20,
   "metadata": {
    "collapsed": false
   },
   "outputs": [
    {
     "name": "stdout",
     "output_type": "stream",
     "text": [
      "[('The Quick Python Book', 'Naomi R. Ceder', '$16.39', 'Jan 15, 2010'), ('Python Testing', 'David Sale', '$38.20', 'Sep 2, 2014')]\n"
     ]
    }
   ],
   "source": [
    "# define variables for third book\n",
    "title_3 = 'The Quick Python Book'\n",
    "author_3 = 'Naomi R. Ceder'\n",
    "price_3 = '$16.39'\n",
    "year_3 = 'Jan 15, 2010'\n",
    "\n",
    "# define variables for fourth book\n",
    "title_4 ='Python Testing'\n",
    "author_4 ='David Sale'\n",
    "price_4 = '$38.20'\n",
    "year_4 = 'Sep 2, 2014'\n",
    "\n",
    "# add books to list of tuples\n",
    "books = [(title_3, author_3, price_3, year_3),\n",
    "         (title_4, author_4, price_4, year_4)]\n",
    "\n",
    "print(books)"
   ]
  },
  {
   "cell_type": "code",
   "execution_count": 21,
   "metadata": {
    "collapsed": true
   },
   "outputs": [],
   "source": [
    "# define cursor object\n",
    "cursor = db.cursor()\n",
    "\n",
    "# execute insert into table query (list of books)\n",
    "cursor.executemany('''INSERT INTO books(title, author, price, year) VALUES(?,?,?,?)''', books)\n",
    "\n",
    "# save changes to database (if any)\n",
    "db.commit()"
   ]
  },
  {
   "cell_type": "markdown",
   "metadata": {},
   "source": [
    "### Get all items in table"
   ]
  },
  {
   "cell_type": "code",
   "execution_count": 22,
   "metadata": {
    "collapsed": false
   },
   "outputs": [
    {
     "name": "stdout",
     "output_type": "stream",
     "text": [
      "(1, u'Learning Python', u'Mark Lutz', u'$36.19', u'Jul 6, 2013')\n",
      "(2, u'Two Scoops of Django: Best Practices For Django 1.6', u'Daniel Greenfeld', u'$34.68', u'Feb 1, 2014')\n",
      "(3, u'The Quick Python Book', u'Naomi R. Ceder', u'$16.39', u'Jan 15, 2010')\n",
      "(4, u'Python Testing', u'David Sale', u'$38.20', u'Sep 2, 2014')\n"
     ]
    }
   ],
   "source": [
    "# define cursor object\n",
    "cursor = db.cursor()\n",
    "\n",
    "# execute select from table query\n",
    "cursor.execute('''SELECT * FROM books''')\n",
    "\n",
    "# fetch all items\n",
    "rows = cursor.fetchall()\n",
    "\n",
    "# save changes to database (if any)\n",
    "db.commit()\n",
    "\n",
    "# print each item\n",
    "for row in rows:\n",
    "    print(row)"
   ]
  },
  {
   "cell_type": "markdown",
   "metadata": {},
   "source": [
    "### Get specific item(s) in table"
   ]
  },
  {
   "cell_type": "code",
   "execution_count": 23,
   "metadata": {
    "collapsed": false
   },
   "outputs": [
    {
     "name": "stdout",
     "output_type": "stream",
     "text": [
      "(1, u'Learning Python', u'Mark Lutz', u'$36.19', u'Jul 6, 2013')\n"
     ]
    }
   ],
   "source": [
    "# define cursor object\n",
    "cursor = db.cursor()\n",
    "\n",
    "# define author\n",
    "author = (\"Mark Lutz\",)\n",
    "\n",
    "# execute select from table query\n",
    "cursor.execute('''SELECT * FROM books WHERE author=?''', author)\n",
    "\n",
    "# fetch all items\n",
    "rows = cursor.fetchall()\n",
    "\n",
    "# save changes to database (if any)\n",
    "db.commit()\n",
    "\n",
    "# print each item\n",
    "for row in rows:\n",
    "    print(row)"
   ]
  },
  {
   "cell_type": "markdown",
   "metadata": {},
   "source": [
    "### Drop table and close database"
   ]
  },
  {
   "cell_type": "code",
   "execution_count": 24,
   "metadata": {
    "collapsed": false
   },
   "outputs": [],
   "source": [
    "# define cursor object\n",
    "cursor = db.cursor()\n",
    "\n",
    "# execute drop table query \n",
    "cursor.execute('''DROP TABLE books''')\n",
    "\n",
    "# save changes to database (if any)\n",
    "db.commit()"
   ]
  },
  {
   "cell_type": "code",
   "execution_count": 25,
   "metadata": {
    "collapsed": true
   },
   "outputs": [],
   "source": [
    "# close database\n",
    "db.close()"
   ]
  },
  {
   "cell_type": "code",
   "execution_count": null,
   "metadata": {
    "collapsed": true
   },
   "outputs": [],
   "source": []
  },
  {
   "cell_type": "markdown",
   "metadata": {},
   "source": [
    "<i>Notebook by <a href=\"https://www.michaelsjoeberg.com\">Michael Sjoeberg</a>, updated 25 August 2017.</i>"
   ]
  }
 ],
 "metadata": {
  "kernelspec": {
   "display_name": "Python [Root]",
   "language": "python",
   "name": "Python [Root]"
  },
  "language_info": {
   "codemirror_mode": {
    "name": "ipython",
    "version": 2
   },
   "file_extension": ".py",
   "mimetype": "text/x-python",
   "name": "python",
   "nbconvert_exporter": "python",
   "pygments_lexer": "ipython2",
   "version": "2.7.12"
  }
 },
 "nbformat": 4,
 "nbformat_minor": 0
}
