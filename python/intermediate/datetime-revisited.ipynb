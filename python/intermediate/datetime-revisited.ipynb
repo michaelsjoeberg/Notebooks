{
 "cells": [
  {
   "cell_type": "markdown",
   "metadata": {},
   "source": [
    "# Datetime Revisited"
   ]
  },
  {
   "cell_type": "markdown",
   "metadata": {},
   "source": [
    "15 July 2017 | Python"
   ]
  },
  {
   "cell_type": "code",
   "execution_count": 1,
   "metadata": {
    "collapsed": true
   },
   "outputs": [],
   "source": [
    "# datetime\n",
    "from datetime import *\n",
    "\n",
    "# parser\n",
    "from dateutil.parser import parse\n",
    "\n",
    "# pandas\n",
    "import pandas as pd"
   ]
  },
  {
   "cell_type": "markdown",
   "metadata": {},
   "source": [
    "### Example variables"
   ]
  },
  {
   "cell_type": "code",
   "execution_count": 3,
   "metadata": {
    "collapsed": false
   },
   "outputs": [],
   "source": [
    "# define a string with date\n",
    "date_string = '2016-05-23'\n",
    "\n",
    "# define a list with dates\n",
    "date_list = ['2/21/2016', '5/13/2016', '3/30/2015', '2/11/2016', '5/2/2015']"
   ]
  },
  {
   "cell_type": "markdown",
   "metadata": {},
   "source": [
    "### Using 'datetime'"
   ]
  },
  {
   "cell_type": "code",
   "execution_count": 13,
   "metadata": {
    "collapsed": false
   },
   "outputs": [
    {
     "data": {
      "text/plain": [
       "datetime.datetime(2016, 5, 23, 0, 0)"
      ]
     },
     "execution_count": 13,
     "metadata": {},
     "output_type": "execute_result"
    }
   ],
   "source": [
    "# convert string to datetime\n",
    "datetime.strptime(date_string, '%Y-%m-%d')"
   ]
  },
  {
   "cell_type": "code",
   "execution_count": 14,
   "metadata": {
    "collapsed": false
   },
   "outputs": [
    {
     "data": {
      "text/plain": [
       "[datetime.datetime(2016, 2, 21, 0, 0),\n",
       " datetime.datetime(2016, 5, 13, 0, 0),\n",
       " datetime.datetime(2015, 3, 30, 0, 0),\n",
       " datetime.datetime(2016, 2, 11, 0, 0),\n",
       " datetime.datetime(2015, 5, 2, 0, 0)]"
      ]
     },
     "execution_count": 14,
     "metadata": {},
     "output_type": "execute_result"
    }
   ],
   "source": [
    "# convert items in list to datetime\n",
    "[datetime.strptime(date, '%m/%d/%Y') for date in date_list]"
   ]
  },
  {
   "cell_type": "markdown",
   "metadata": {},
   "source": [
    "### Using 'parse'"
   ]
  },
  {
   "cell_type": "code",
   "execution_count": 17,
   "metadata": {
    "collapsed": false
   },
   "outputs": [
    {
     "data": {
      "text/plain": [
       "datetime.datetime(2016, 5, 23, 0, 0)"
      ]
     },
     "execution_count": 17,
     "metadata": {},
     "output_type": "execute_result"
    }
   ],
   "source": [
    "# auto-convert string to datetime\n",
    "parse(date_string)"
   ]
  },
  {
   "cell_type": "code",
   "execution_count": 18,
   "metadata": {
    "collapsed": false
   },
   "outputs": [
    {
     "data": {
      "text/plain": [
       "[datetime.datetime(2016, 2, 21, 0, 0),\n",
       " datetime.datetime(2016, 5, 13, 0, 0),\n",
       " datetime.datetime(2015, 3, 30, 0, 0),\n",
       " datetime.datetime(2016, 2, 11, 0, 0),\n",
       " datetime.datetime(2015, 5, 2, 0, 0)]"
      ]
     },
     "execution_count": 18,
     "metadata": {},
     "output_type": "execute_result"
    }
   ],
   "source": [
    "# auto-convert list to datetime\n",
    "[parse(date) for date in date_list]"
   ]
  },
  {
   "cell_type": "markdown",
   "metadata": {},
   "source": [
    "### Using 'pandas' dataframe"
   ]
  },
  {
   "cell_type": "code",
   "execution_count": 42,
   "metadata": {
    "collapsed": false
   },
   "outputs": [
    {
     "data": {
      "text/html": [
       "<div>\n",
       "<style>\n",
       "    .dataframe thead tr:only-child th {\n",
       "        text-align: right;\n",
       "    }\n",
       "\n",
       "    .dataframe thead th {\n",
       "        text-align: left;\n",
       "    }\n",
       "\n",
       "    .dataframe tbody tr th {\n",
       "        vertical-align: top;\n",
       "    }\n",
       "</style>\n",
       "<table border=\"1\" class=\"dataframe\">\n",
       "  <thead>\n",
       "    <tr style=\"text-align: right;\">\n",
       "      <th></th>\n",
       "      <th>date</th>\n",
       "      <th>value</th>\n",
       "    </tr>\n",
       "  </thead>\n",
       "  <tbody>\n",
       "    <tr>\n",
       "      <th>0</th>\n",
       "      <td>2016-05-23 20:04:12.069722</td>\n",
       "      <td>1</td>\n",
       "    </tr>\n",
       "    <tr>\n",
       "      <th>1</th>\n",
       "      <td>2016-05-13 16:47:05.119994</td>\n",
       "      <td>1</td>\n",
       "    </tr>\n",
       "    <tr>\n",
       "      <th>2</th>\n",
       "      <td>2016-05-12 18:06:05.178768</td>\n",
       "      <td>1</td>\n",
       "    </tr>\n",
       "    <tr>\n",
       "      <th>3</th>\n",
       "      <td>2016-05-21 18:07:45.230071</td>\n",
       "      <td>1</td>\n",
       "    </tr>\n",
       "    <tr>\n",
       "      <th>4</th>\n",
       "      <td>2016-05-18 05:24:10.230071</td>\n",
       "      <td>1</td>\n",
       "    </tr>\n",
       "  </tbody>\n",
       "</table>\n",
       "</div>"
      ],
      "text/plain": [
       "                         date  value\n",
       "0  2016-05-23 20:04:12.069722      1\n",
       "1  2016-05-13 16:47:05.119994      1\n",
       "2  2016-05-12 18:06:05.178768      1\n",
       "3  2016-05-21 18:07:45.230071      1\n",
       "4  2016-05-18 05:24:10.230071      1"
      ]
     },
     "execution_count": 42,
     "metadata": {},
     "output_type": "execute_result"
    }
   ],
   "source": [
    "# define a dictionary with dates\n",
    "date_data = {'date': ['2016-05-23 20:04:12.069722',\n",
    "                      '2016-05-13 16:47:05.119994',\n",
    "                      '2016-05-12 18:06:05.178768',\n",
    "                      '2016-05-21 18:07:45.230071',\n",
    "                      '2016-05-18 05:24:10.230071'],\n",
    "             'value': [1, 1, 1, 1, 1]}\n",
    "\n",
    "# convert dictionary to pandas dataframe\n",
    "df = pd.DataFrame(date_data, columns = ['date', 'value'])\n",
    "\n",
    "# view dataframe\n",
    "df"
   ]
  },
  {
   "cell_type": "code",
   "execution_count": 43,
   "metadata": {
    "collapsed": false
   },
   "outputs": [
    {
     "data": {
      "text/plain": [
       "0   2016-05-23 20:04:12.069722\n",
       "1   2016-05-13 16:47:05.119994\n",
       "2   2016-05-12 18:06:05.178768\n",
       "3   2016-05-21 18:07:45.230071\n",
       "4   2016-05-18 05:24:10.230071\n",
       "Name: date, dtype: datetime64[ns]"
      ]
     },
     "execution_count": 43,
     "metadata": {},
     "output_type": "execute_result"
    }
   ],
   "source": [
    "# convert 'date' from string to datetime\n",
    "pd.to_datetime(df['date'])"
   ]
  },
  {
   "cell_type": "code",
   "execution_count": null,
   "metadata": {
    "collapsed": true
   },
   "outputs": [],
   "source": []
  },
  {
   "cell_type": "markdown",
   "metadata": {},
   "source": [
    "<i>Notebook by <a href=\"https://www.michaelsjoeberg.com\">Michael Sjoeberg</a>, updated 15 July 2017.</i>"
   ]
  }
 ],
 "metadata": {
  "kernelspec": {
   "display_name": "Python [Root]",
   "language": "python",
   "name": "Python [Root]"
  },
  "language_info": {
   "codemirror_mode": {
    "name": "ipython",
    "version": 2
   },
   "file_extension": ".py",
   "mimetype": "text/x-python",
   "name": "python",
   "nbconvert_exporter": "python",
   "pygments_lexer": "ipython2",
   "version": "2.7.12"
  }
 },
 "nbformat": 4,
 "nbformat_minor": 0
}
