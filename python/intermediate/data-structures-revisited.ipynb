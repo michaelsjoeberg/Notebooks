{
 "cells": [
  {
   "cell_type": "markdown",
   "metadata": {},
   "source": [
    "# Data Structures Revisited"
   ]
  },
  {
   "cell_type": "markdown",
   "metadata": {},
   "source": [
    "24 July 2017 | Python"
   ]
  },
  {
   "cell_type": "code",
   "execution_count": 171,
   "metadata": {
    "collapsed": false
   },
   "outputs": [],
   "source": [
    "import pandas as pd\n",
    "from blist import sorteddict\n",
    "from scipy.spatial import KDTree"
   ]
  },
  {
   "cell_type": "markdown",
   "metadata": {},
   "source": [
    "### Data frames"
   ]
  },
  {
   "cell_type": "code",
   "execution_count": 172,
   "metadata": {
    "collapsed": false
   },
   "outputs": [
    {
     "name": "stdout",
     "output_type": "stream",
     "text": [
      "0    42.0\n",
      "1    55.0\n",
      "2    73.0\n",
      "dtype: float64\n"
     ]
    }
   ],
   "source": [
    "# creating a series (one-dimensional array)\n",
    "simpleSeries = pd.Series([42, 55, 73], dtype='f8')\n",
    "\n",
    "print(simpleSeries)"
   ]
  },
  {
   "cell_type": "code",
   "execution_count": 173,
   "metadata": {
    "collapsed": false
   },
   "outputs": [
    {
     "name": "stdout",
     "output_type": "stream",
     "text": [
      "electron    42.0\n",
      "proton      55.0\n",
      "neutron     73.0\n",
      "dtype: float64\n"
     ]
    }
   ],
   "source": [
    "# creating a series with custom index\n",
    "indexSeries = pd.Series([42, 55, 73], index=[\"electron\", \"proton\", \"neutron\"], dtype='f8')\n",
    "\n",
    "print(indexSeries)"
   ]
  },
  {
   "cell_type": "code",
   "execution_count": 174,
   "metadata": {
    "collapsed": false
   },
   "outputs": [
    {
     "data": {
      "text/plain": [
       "42.0"
      ]
     },
     "execution_count": 174,
     "metadata": {},
     "output_type": "execute_result"
    }
   ],
   "source": [
    "# accessing a value in a series\n",
    "indexSeries['electron']"
   ]
  },
  {
   "cell_type": "code",
   "execution_count": 175,
   "metadata": {
    "collapsed": false
   },
   "outputs": [
    {
     "data": {
      "text/plain": [
       "electron    42.0\n",
       "proton      55.0\n",
       "neutron     73.0\n",
       "dtype: float64"
      ]
     },
     "execution_count": 175,
     "metadata": {},
     "output_type": "execute_result"
    }
   ],
   "source": [
    "# accessing multiple values in a series (range)\n",
    "indexSeries['electron':'neutron']"
   ]
  },
  {
   "cell_type": "code",
   "execution_count": 176,
   "metadata": {
    "collapsed": false
   },
   "outputs": [
    {
     "data": {
      "text/plain": [
       "proton     55.0\n",
       "neutron    73.0\n",
       "dtype: float64"
      ]
     },
     "execution_count": 176,
     "metadata": {},
     "output_type": "execute_result"
    }
   ],
   "source": [
    "# accessing multiple values in a series using indexing\n",
    "indexSeries[1:]"
   ]
  },
  {
   "cell_type": "code",
   "execution_count": 177,
   "metadata": {
    "collapsed": false
   },
   "outputs": [
    {
     "name": "stdout",
     "output_type": "stream",
     "text": [
      "electron       6\n",
      "neutrino    8128\n",
      "neutron       28\n",
      "proton       496\n",
      "dtype: int64\n"
     ]
    }
   ],
   "source": [
    "# creating a series from dictionary\n",
    "dictSeries = pd.Series({'electron': 6, 'neutron': 28, 'proton': 496, 'neutrino': 8128})\n",
    "\n",
    "print(dictSeries)"
   ]
  },
  {
   "cell_type": "code",
   "execution_count": 178,
   "metadata": {
    "collapsed": false
   },
   "outputs": [
    {
     "data": {
      "text/plain": [
       "electron     48.0\n",
       "neutrino      NaN\n",
       "neutron     101.0\n",
       "proton      551.0\n",
       "dtype: float64"
      ]
     },
     "execution_count": 178,
     "metadata": {},
     "output_type": "execute_result"
    }
   ],
   "source": [
    "# combining series with addition\n",
    "indexSeries + dictSeries"
   ]
  },
  {
   "cell_type": "code",
   "execution_count": 179,
   "metadata": {
    "collapsed": false
   },
   "outputs": [
    {
     "name": "stdout",
     "output_type": "stream",
     "text": [
      "             A     B\n",
      "electron  42.0     6\n",
      "neutrino   NaN  8128\n",
      "neutron   73.0    28\n",
      "proton    55.0   496\n"
     ]
    }
   ],
   "source": [
    "# combining series by creating a new data frame\n",
    "combinedSeries = pd.DataFrame({'A': indexSeries, 'B': dictSeries})\n",
    "\n",
    "print(combinedSeries)"
   ]
  },
  {
   "cell_type": "code",
   "execution_count": 180,
   "metadata": {
    "collapsed": false
   },
   "outputs": [
    {
     "data": {
      "text/plain": [
       "electron    42.0\n",
       "neutrino     NaN\n",
       "neutron     73.0\n",
       "proton      55.0\n",
       "Name: A, dtype: float64"
      ]
     },
     "execution_count": 180,
     "metadata": {},
     "output_type": "execute_result"
    }
   ],
   "source": [
    "# accessing columns (as series)\n",
    "combinedSeries['A']"
   ]
  },
  {
   "cell_type": "code",
   "execution_count": 181,
   "metadata": {
    "collapsed": false
   },
   "outputs": [
    {
     "name": "stdout",
     "output_type": "stream",
     "text": [
      "                   A       B\n",
      "electron        42.0     6.0\n",
      "neutrino         NaN  8128.0\n",
      "neutron         73.0    28.0\n",
      "proton          55.0   496.0\n",
      "antineutrino -8128.0     NaN\n"
     ]
    }
   ],
   "source": [
    "# add new row with index to 'combinedSeries'\n",
    "appendSeries = combinedSeries.append(pd.DataFrame({'A': [-8128]}, index=['antineutrino']))\n",
    "\n",
    "print(appendSeries)"
   ]
  },
  {
   "cell_type": "code",
   "execution_count": 182,
   "metadata": {
    "collapsed": false
   },
   "outputs": [
    {
     "name": "stdout",
     "output_type": "stream",
     "text": [
      "                   A       B\n",
      "electron        42.0     6.0\n",
      "neutrino         NaN  8128.0\n",
      "proton          55.0   496.0\n",
      "antineutrino -8128.0     NaN\n"
     ]
    }
   ],
   "source": [
    "# drop a row\n",
    "appendSeries = appendSeries.drop('neutron')\n",
    "\n",
    "print(appendSeries)"
   ]
  },
  {
   "cell_type": "code",
   "execution_count": 183,
   "metadata": {
    "collapsed": false
   },
   "outputs": [
    {
     "data": {
      "text/html": [
       "<div>\n",
       "<style>\n",
       "    .dataframe thead tr:only-child th {\n",
       "        text-align: right;\n",
       "    }\n",
       "\n",
       "    .dataframe thead th {\n",
       "        text-align: left;\n",
       "    }\n",
       "\n",
       "    .dataframe tbody tr th {\n",
       "        vertical-align: top;\n",
       "    }\n",
       "</style>\n",
       "<table border=\"1\" class=\"dataframe\">\n",
       "  <thead>\n",
       "    <tr style=\"text-align: right;\">\n",
       "      <th></th>\n",
       "      <th>electron</th>\n",
       "      <th>neutrino</th>\n",
       "      <th>neutron</th>\n",
       "      <th>proton</th>\n",
       "    </tr>\n",
       "  </thead>\n",
       "  <tbody>\n",
       "    <tr>\n",
       "      <th>A</th>\n",
       "      <td>42.0</td>\n",
       "      <td>NaN</td>\n",
       "      <td>73.0</td>\n",
       "      <td>55.0</td>\n",
       "    </tr>\n",
       "    <tr>\n",
       "      <th>B</th>\n",
       "      <td>6.0</td>\n",
       "      <td>8128.0</td>\n",
       "      <td>28.0</td>\n",
       "      <td>496.0</td>\n",
       "    </tr>\n",
       "  </tbody>\n",
       "</table>\n",
       "</div>"
      ],
      "text/plain": [
       "   electron  neutrino  neutron  proton\n",
       "A      42.0       NaN     73.0    55.0\n",
       "B       6.0    8128.0     28.0   496.0"
      ]
     },
     "execution_count": 183,
     "metadata": {},
     "output_type": "execute_result"
    }
   ],
   "source": [
    "# transpose a data frame\n",
    "combinedSeries.T"
   ]
  },
  {
   "cell_type": "code",
   "execution_count": 184,
   "metadata": {
    "collapsed": false
   },
   "outputs": [
    {
     "data": {
      "text/html": [
       "<div>\n",
       "<style>\n",
       "    .dataframe thead tr:only-child th {\n",
       "        text-align: right;\n",
       "    }\n",
       "\n",
       "    .dataframe thead th {\n",
       "        text-align: left;\n",
       "    }\n",
       "\n",
       "    .dataframe tbody tr th {\n",
       "        vertical-align: top;\n",
       "    }\n",
       "</style>\n",
       "<table border=\"1\" class=\"dataframe\">\n",
       "  <thead>\n",
       "    <tr style=\"text-align: right;\">\n",
       "      <th></th>\n",
       "      <th>A</th>\n",
       "      <th>B</th>\n",
       "    </tr>\n",
       "  </thead>\n",
       "  <tbody>\n",
       "    <tr>\n",
       "      <th>electron</th>\n",
       "      <td>False</td>\n",
       "      <td>False</td>\n",
       "    </tr>\n",
       "    <tr>\n",
       "      <th>neutrino</th>\n",
       "      <td>False</td>\n",
       "      <td>True</td>\n",
       "    </tr>\n",
       "    <tr>\n",
       "      <th>neutron</th>\n",
       "      <td>False</td>\n",
       "      <td>False</td>\n",
       "    </tr>\n",
       "    <tr>\n",
       "      <th>proton</th>\n",
       "      <td>False</td>\n",
       "      <td>True</td>\n",
       "    </tr>\n",
       "  </tbody>\n",
       "</table>\n",
       "</div>"
      ],
      "text/plain": [
       "              A      B\n",
       "electron  False  False\n",
       "neutrino  False   True\n",
       "neutron   False  False\n",
       "proton    False   True"
      ]
     },
     "execution_count": 184,
     "metadata": {},
     "output_type": "execute_result"
    }
   ],
   "source": [
    "# masking a data frame\n",
    "combinedSeries > 120"
   ]
  },
  {
   "cell_type": "code",
   "execution_count": 185,
   "metadata": {
    "collapsed": false
   },
   "outputs": [
    {
     "name": "stdout",
     "output_type": "stream",
     "text": [
      "             A     B  large\n",
      "electron  42.0     6  False\n",
      "neutrino   NaN  8128   True\n",
      "neutron   73.0    28  False\n",
      "proton    55.0   496   True\n"
     ]
    }
   ],
   "source": [
    "# add masking as column to data frame (larger than 120)\n",
    "combinedSeries['large'] = (combinedSeries['A'] > 120) | (combinedSeries['B'] > 120)\n",
    "\n",
    "print(combinedSeries)"
   ]
  },
  {
   "cell_type": "code",
   "execution_count": 186,
   "metadata": {
    "collapsed": false
   },
   "outputs": [
    {
     "name": "stdout",
     "output_type": "stream",
     "text": [
      "             A     B\n",
      "electron  42.0     6\n",
      "neutrino   NaN  8128\n",
      "neutron   73.0    28\n",
      "proton    55.0   496\n"
     ]
    }
   ],
   "source": [
    "# delete a column\n",
    "del combinedSeries['large']\n",
    "\n",
    "print(combinedSeries)"
   ]
  },
  {
   "cell_type": "markdown",
   "metadata": {},
   "source": [
    "### Binary trees"
   ]
  },
  {
   "cell_type": "code",
   "execution_count": 187,
   "metadata": {
    "collapsed": false
   },
   "outputs": [
    {
     "name": "stdout",
     "output_type": "stream",
     "text": [
      "sorteddict({'birthday': [1750, 1, 1], 'first': 'Michael', 'last': 'Sjoeberg'})\n"
     ]
    }
   ],
   "source": [
    "# create a new b-tree\n",
    "b = sorteddict(first=\"Michael\", last=\"Sjoeberg\", birthday=[1750, 1, 1])\n",
    "\n",
    "print(b)"
   ]
  },
  {
   "cell_type": "code",
   "execution_count": 188,
   "metadata": {
    "collapsed": false
   },
   "outputs": [
    {
     "name": "stdout",
     "output_type": "stream",
     "text": [
      "sorteddict({'birthday': [1750, 1, 1], 'email': 'michael@doolio.co', 'first': 'Michael', 'last': 'Sjoeberg'})\n"
     ]
    }
   ],
   "source": [
    "# add a value to b-tree\n",
    "b['email'] = \"michael@doolio.co\"\n",
    "\n",
    "print(b)"
   ]
  },
  {
   "cell_type": "code",
   "execution_count": 189,
   "metadata": {
    "collapsed": false
   },
   "outputs": [
    {
     "data": {
      "text/plain": [
       "['birthday', 'email', 'first', 'last']"
      ]
     },
     "execution_count": 189,
     "metadata": {},
     "output_type": "execute_result"
    }
   ],
   "source": [
    "# list keys in b-tree\n",
    "list(b.keys())"
   ]
  },
  {
   "cell_type": "markdown",
   "metadata": {},
   "source": [
    "### K-dimensional trees"
   ]
  },
  {
   "cell_type": "code",
   "execution_count": 190,
   "metadata": {
    "collapsed": true
   },
   "outputs": [],
   "source": [
    "# define a set of nodes\n",
    "points = [(1, 2), (3, 2), (5, 5), (2, 1), (4, 3), (1, 5)]"
   ]
  },
  {
   "cell_type": "code",
   "execution_count": 191,
   "metadata": {
    "collapsed": false
   },
   "outputs": [
    {
     "name": "stdout",
     "output_type": "stream",
     "text": [
      "[[1 2]\n",
      " [3 2]\n",
      " [5 5]\n",
      " [2 1]\n",
      " [4 3]\n",
      " [1 5]]\n"
     ]
    }
   ],
   "source": [
    "# create a tree\n",
    "tree = KDTree(points)\n",
    "\n",
    "print(tree.data)"
   ]
  },
  {
   "cell_type": "code",
   "execution_count": 192,
   "metadata": {
    "collapsed": false
   },
   "outputs": [],
   "source": [
    "# find nearest point and index\n",
    "dist, idx = tree.query([(4.5, 1.25)])"
   ]
  },
  {
   "cell_type": "code",
   "execution_count": 193,
   "metadata": {
    "collapsed": false
   },
   "outputs": [
    {
     "name": "stdout",
     "output_type": "stream",
     "text": [
      "[ 1.67705098]\n"
     ]
    }
   ],
   "source": [
    "# distance to nearest point\n",
    "print(dist)"
   ]
  },
  {
   "cell_type": "code",
   "execution_count": 194,
   "metadata": {
    "collapsed": false
   },
   "outputs": [
    {
     "name": "stdout",
     "output_type": "stream",
     "text": [
      "[1]\n"
     ]
    }
   ],
   "source": [
    "# index of nearest point\n",
    "print(idx)"
   ]
  },
  {
   "cell_type": "code",
   "execution_count": 195,
   "metadata": {
    "collapsed": false
   },
   "outputs": [
    {
     "data": {
      "text/plain": [
       "array([[3, 2]])"
      ]
     },
     "execution_count": 195,
     "metadata": {},
     "output_type": "execute_result"
    }
   ],
   "source": [
    "# get nearest point\n",
    "tree.data[idx]"
   ]
  },
  {
   "cell_type": "code",
   "execution_count": null,
   "metadata": {
    "collapsed": true
   },
   "outputs": [],
   "source": []
  },
  {
   "cell_type": "markdown",
   "metadata": {
    "collapsed": true
   },
   "source": [
    "<i>Notebook by <a href=\"https://www.michaelsjoeberg.com\">Michael Sjoeberg</a>, updated 24 July 2017.</i>"
   ]
  }
 ],
 "metadata": {
  "anaconda-cloud": {},
  "kernelspec": {
   "display_name": "Python [Root]",
   "language": "python",
   "name": "Python [Root]"
  },
  "language_info": {
   "codemirror_mode": {
    "name": "ipython",
    "version": 2
   },
   "file_extension": ".py",
   "mimetype": "text/x-python",
   "name": "python",
   "nbconvert_exporter": "python",
   "pygments_lexer": "ipython2",
   "version": "2.7.12"
  }
 },
 "nbformat": 4,
 "nbformat_minor": 0
}
