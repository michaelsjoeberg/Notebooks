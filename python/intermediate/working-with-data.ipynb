{
 "cells": [
  {
   "cell_type": "markdown",
   "metadata": {},
   "source": [
    "# Working with Data"
   ]
  },
  {
   "cell_type": "markdown",
   "metadata": {},
   "source": [
    "16 July 2017 | Python"
   ]
  },
  {
   "cell_type": "code",
   "execution_count": 2,
   "metadata": {
    "collapsed": true
   },
   "outputs": [],
   "source": [
    "import numpy as np\n",
    "import pandas as pd"
   ]
  },
  {
   "cell_type": "markdown",
   "metadata": {},
   "source": [
    "### Using 'numpy'"
   ]
  },
  {
   "cell_type": "code",
   "execution_count": 3,
   "metadata": {
    "collapsed": false
   },
   "outputs": [
    {
     "name": "stdout",
     "output_type": "stream",
     "text": [
      "[[  0.00000000e+00   1.00000000e+01]\n",
      " [  1.00000000e+00   1.35335283e+00]\n",
      " [  2.00000000e+00   1.83156389e-01]\n",
      " [  3.00000000e+00   2.47875220e-02]\n",
      " [  4.00000000e+00   3.35462600e-03]\n",
      " [  5.00000000e+00   4.53999000e-04]\n",
      " [  6.00000000e+00   6.14420000e-05]\n",
      " [  7.00000000e+00   8.31500000e-06]\n",
      " [  8.00000000e+00   1.12600000e-06]\n",
      " [  9.00000000e+00   1.52000000e-07]]\n"
     ]
    }
   ],
   "source": [
    "# load and assign smaller dataset to numpy array\n",
    "decayArray = np.loadtxt(\"data/decays_sm.csv\", delimiter=\",\", skiprows=1)\n",
    "\n",
    "print(decayArray)"
   ]
  },
  {
   "cell_type": "markdown",
   "metadata": {
    "collapsed": true
   },
   "source": [
    "### Using 'pandas'"
   ]
  },
  {
   "cell_type": "code",
   "execution_count": 4,
   "metadata": {
    "collapsed": false
   },
   "outputs": [
    {
     "name": "stdout",
     "output_type": "stream",
     "text": [
      "   Time (s)    Decays (#)\n",
      "0         0  1.000000e+01\n",
      "1         1  1.353353e+00\n",
      "2         2  1.831564e-01\n",
      "3         3  2.478752e-02\n",
      "4         4  3.354626e-03\n",
      "5         5  4.539990e-04\n",
      "6         6  6.144200e-05\n",
      "7         7  8.315000e-06\n",
      "8         8  1.126000e-06\n",
      "9         9  1.520000e-07\n"
     ]
    }
   ],
   "source": [
    "# load and assign smaller dataset to pandas dataframe\n",
    "decayDataframe = pd.read_csv(\"data/decays_sm.csv\")\n",
    "\n",
    "print(decayDataframe)"
   ]
  },
  {
   "cell_type": "code",
   "execution_count": 5,
   "metadata": {
    "collapsed": false
   },
   "outputs": [],
   "source": [
    "# convert smaller dataset to other format\n",
    "decayDataframe.to_json(\"data/decays_sm.json\")"
   ]
  },
  {
   "cell_type": "markdown",
   "metadata": {
    "collapsed": true
   },
   "source": [
    "### Missing data"
   ]
  },
  {
   "cell_type": "code",
   "execution_count": 24,
   "metadata": {
    "collapsed": false
   },
   "outputs": [],
   "source": [
    "# load and assign medium dataset to pandas dataframe\n",
    "df = pd.read_csv(\"data/decays_md.csv\")\n",
    "\n",
    "#df"
   ]
  },
  {
   "cell_type": "code",
   "execution_count": 25,
   "metadata": {
    "collapsed": false
   },
   "outputs": [
    {
     "data": {
      "text/plain": [
       "Time      50\n",
       "Decays    46\n",
       "dtype: int64"
      ]
     },
     "execution_count": 25,
     "metadata": {},
     "output_type": "execute_result"
    }
   ],
   "source": [
    "# count items in each column\n",
    "df.count()"
   ]
  },
  {
   "cell_type": "code",
   "execution_count": 26,
   "metadata": {
    "collapsed": false
   },
   "outputs": [
    {
     "data": {
      "text/html": [
       "<div>\n",
       "<style>\n",
       "    .dataframe thead tr:only-child th {\n",
       "        text-align: right;\n",
       "    }\n",
       "\n",
       "    .dataframe thead th {\n",
       "        text-align: left;\n",
       "    }\n",
       "\n",
       "    .dataframe tbody tr th {\n",
       "        vertical-align: top;\n",
       "    }\n",
       "</style>\n",
       "<table border=\"1\" class=\"dataframe\">\n",
       "  <thead>\n",
       "    <tr style=\"text-align: right;\">\n",
       "      <th></th>\n",
       "      <th>Time</th>\n",
       "      <th>Decays</th>\n",
       "    </tr>\n",
       "  </thead>\n",
       "  <tbody>\n",
       "    <tr>\n",
       "      <th>0</th>\n",
       "      <td>2014-11-08T05:19:31.561782</td>\n",
       "      <td>1.000000e+01</td>\n",
       "    </tr>\n",
       "    <tr>\n",
       "      <th>1</th>\n",
       "      <td>2014-11-08T05:19:32.561782</td>\n",
       "      <td>1.353353e+00</td>\n",
       "    </tr>\n",
       "    <tr>\n",
       "      <th>2</th>\n",
       "      <td>2014-11-08T05:19:33.561782</td>\n",
       "      <td>1.831564e-01</td>\n",
       "    </tr>\n",
       "    <tr>\n",
       "      <th>3</th>\n",
       "      <td>2014-11-08T05:19:34.561782</td>\n",
       "      <td>2.478752e-02</td>\n",
       "    </tr>\n",
       "    <tr>\n",
       "      <th>4</th>\n",
       "      <td>2014-11-08T05:19:35.561782</td>\n",
       "      <td>3.354626e-03</td>\n",
       "    </tr>\n",
       "    <tr>\n",
       "      <th>5</th>\n",
       "      <td>2014-11-08T05:19:36.561782</td>\n",
       "      <td>4.539993e-04</td>\n",
       "    </tr>\n",
       "    <tr>\n",
       "      <th>6</th>\n",
       "      <td>2014-11-08T05:19:37.561782</td>\n",
       "      <td>6.144212e-05</td>\n",
       "    </tr>\n",
       "    <tr>\n",
       "      <th>7</th>\n",
       "      <td>2014-11-08T05:19:38.561782</td>\n",
       "      <td>8.315287e-06</td>\n",
       "    </tr>\n",
       "    <tr>\n",
       "      <th>8</th>\n",
       "      <td>2014-11-08T05:19:39.561782</td>\n",
       "      <td>1.125352e-06</td>\n",
       "    </tr>\n",
       "    <tr>\n",
       "      <th>9</th>\n",
       "      <td>2014-11-08T05:19:40.561782</td>\n",
       "      <td>1.522998e-07</td>\n",
       "    </tr>\n",
       "    <tr>\n",
       "      <th>10</th>\n",
       "      <td>2014-11-08T05:19:41.561782</td>\n",
       "      <td>2.061154e-08</td>\n",
       "    </tr>\n",
       "    <tr>\n",
       "      <th>11</th>\n",
       "      <td>2014-11-08T05:19:42.561782</td>\n",
       "      <td>2.789468e-09</td>\n",
       "    </tr>\n",
       "    <tr>\n",
       "      <th>12</th>\n",
       "      <td>2014-11-08T05:19:43.561782</td>\n",
       "      <td>3.775135e-10</td>\n",
       "    </tr>\n",
       "    <tr>\n",
       "      <th>13</th>\n",
       "      <td>2014-11-08T05:19:44.561782</td>\n",
       "      <td>5.109089e-11</td>\n",
       "    </tr>\n",
       "    <tr>\n",
       "      <th>14</th>\n",
       "      <td>2014-11-08T05:19:45.561782</td>\n",
       "      <td>6.914400e-12</td>\n",
       "    </tr>\n",
       "    <tr>\n",
       "      <th>15</th>\n",
       "      <td>2014-11-08T05:19:46.561782</td>\n",
       "      <td>9.357623e-13</td>\n",
       "    </tr>\n",
       "    <tr>\n",
       "      <th>16</th>\n",
       "      <td>2014-11-08T05:19:47.561782</td>\n",
       "      <td>2.000000e+00</td>\n",
       "    </tr>\n",
       "    <tr>\n",
       "      <th>17</th>\n",
       "      <td>2014-11-08T05:19:48.561782</td>\n",
       "      <td>2.000000e+00</td>\n",
       "    </tr>\n",
       "    <tr>\n",
       "      <th>18</th>\n",
       "      <td>2014-11-08T05:19:49.561782</td>\n",
       "      <td>2.000000e+00</td>\n",
       "    </tr>\n",
       "    <tr>\n",
       "      <th>19</th>\n",
       "      <td>2014-11-08T05:19:50.561782</td>\n",
       "      <td>2.000000e+00</td>\n",
       "    </tr>\n",
       "    <tr>\n",
       "      <th>20</th>\n",
       "      <td>2014-11-08T05:19:51.561782</td>\n",
       "      <td>2.000000e+00</td>\n",
       "    </tr>\n",
       "    <tr>\n",
       "      <th>21</th>\n",
       "      <td>2014-11-08T05:19:52.561782</td>\n",
       "      <td>2.000000e+00</td>\n",
       "    </tr>\n",
       "    <tr>\n",
       "      <th>22</th>\n",
       "      <td>2014-11-08T05:19:53.561782</td>\n",
       "      <td>2.000000e+00</td>\n",
       "    </tr>\n",
       "    <tr>\n",
       "      <th>23</th>\n",
       "      <td>2014-11-08T05:19:54.561782</td>\n",
       "      <td>2.000000e+00</td>\n",
       "    </tr>\n",
       "    <tr>\n",
       "      <th>24</th>\n",
       "      <td>2014-11-08T05:19:55.561782</td>\n",
       "      <td>2.000000e+00</td>\n",
       "    </tr>\n",
       "    <tr>\n",
       "      <th>25</th>\n",
       "      <td>2014-11-08T05:19:56.561782</td>\n",
       "      <td>1.928750e-21</td>\n",
       "    </tr>\n",
       "    <tr>\n",
       "      <th>26</th>\n",
       "      <td>2014-11-08T05:19:57.561782</td>\n",
       "      <td>2.610279e-22</td>\n",
       "    </tr>\n",
       "    <tr>\n",
       "      <th>27</th>\n",
       "      <td>2014-11-08T05:19:58.561782</td>\n",
       "      <td>3.532629e-23</td>\n",
       "    </tr>\n",
       "    <tr>\n",
       "      <th>28</th>\n",
       "      <td>2014-11-08T05:19:59.561782</td>\n",
       "      <td>4.780893e-24</td>\n",
       "    </tr>\n",
       "    <tr>\n",
       "      <th>29</th>\n",
       "      <td>2014-11-08T05:20:00.561782</td>\n",
       "      <td>6.470235e-25</td>\n",
       "    </tr>\n",
       "    <tr>\n",
       "      <th>30</th>\n",
       "      <td>2014-11-08T05:20:01.561782</td>\n",
       "      <td>8.756511e-26</td>\n",
       "    </tr>\n",
       "    <tr>\n",
       "      <th>31</th>\n",
       "      <td>2014-11-08T05:20:02.561782</td>\n",
       "      <td>1.185065e-26</td>\n",
       "    </tr>\n",
       "    <tr>\n",
       "      <th>32</th>\n",
       "      <td>2014-11-08T05:20:03.561782</td>\n",
       "      <td>1.603811e-27</td>\n",
       "    </tr>\n",
       "    <tr>\n",
       "      <th>33</th>\n",
       "      <td>2014-11-08T05:20:04.561782</td>\n",
       "      <td>2.170522e-28</td>\n",
       "    </tr>\n",
       "    <tr>\n",
       "      <th>34</th>\n",
       "      <td>2014-11-08T05:20:05.561782</td>\n",
       "      <td>2.937482e-29</td>\n",
       "    </tr>\n",
       "    <tr>\n",
       "      <th>35</th>\n",
       "      <td>2014-11-08T05:20:06.561782</td>\n",
       "      <td>3.975450e-30</td>\n",
       "    </tr>\n",
       "    <tr>\n",
       "      <th>36</th>\n",
       "      <td>2014-11-08T05:20:07.561782</td>\n",
       "      <td>5.380186e-31</td>\n",
       "    </tr>\n",
       "    <tr>\n",
       "      <th>37</th>\n",
       "      <td>2014-11-08T05:20:08.561782</td>\n",
       "      <td>7.281290e-32</td>\n",
       "    </tr>\n",
       "    <tr>\n",
       "      <th>38</th>\n",
       "      <td>2014-11-08T05:20:09.561782</td>\n",
       "      <td>9.854155e-33</td>\n",
       "    </tr>\n",
       "    <tr>\n",
       "      <th>39</th>\n",
       "      <td>2014-11-08T05:20:10.561782</td>\n",
       "      <td>1.333615e-33</td>\n",
       "    </tr>\n",
       "    <tr>\n",
       "      <th>40</th>\n",
       "      <td>2014-11-08T05:20:11.561782</td>\n",
       "      <td>1.804851e-34</td>\n",
       "    </tr>\n",
       "    <tr>\n",
       "      <th>45</th>\n",
       "      <td>2014-11-08T05:20:16.561782</td>\n",
       "      <td>8.194013e-39</td>\n",
       "    </tr>\n",
       "    <tr>\n",
       "      <th>46</th>\n",
       "      <td>2014-11-08T05:20:17.561782</td>\n",
       "      <td>1.108939e-39</td>\n",
       "    </tr>\n",
       "    <tr>\n",
       "      <th>47</th>\n",
       "      <td>2014-11-08T05:20:18.561782</td>\n",
       "      <td>1.500786e-40</td>\n",
       "    </tr>\n",
       "    <tr>\n",
       "      <th>48</th>\n",
       "      <td>2014-11-08T05:20:19.561782</td>\n",
       "      <td>2.031093e-41</td>\n",
       "    </tr>\n",
       "    <tr>\n",
       "      <th>49</th>\n",
       "      <td>2014-11-08T05:20:20.561782</td>\n",
       "      <td>2.748785e-42</td>\n",
       "    </tr>\n",
       "  </tbody>\n",
       "</table>\n",
       "</div>"
      ],
      "text/plain": [
       "                          Time        Decays\n",
       "0   2014-11-08T05:19:31.561782  1.000000e+01\n",
       "1   2014-11-08T05:19:32.561782  1.353353e+00\n",
       "2   2014-11-08T05:19:33.561782  1.831564e-01\n",
       "3   2014-11-08T05:19:34.561782  2.478752e-02\n",
       "4   2014-11-08T05:19:35.561782  3.354626e-03\n",
       "5   2014-11-08T05:19:36.561782  4.539993e-04\n",
       "6   2014-11-08T05:19:37.561782  6.144212e-05\n",
       "7   2014-11-08T05:19:38.561782  8.315287e-06\n",
       "8   2014-11-08T05:19:39.561782  1.125352e-06\n",
       "9   2014-11-08T05:19:40.561782  1.522998e-07\n",
       "10  2014-11-08T05:19:41.561782  2.061154e-08\n",
       "11  2014-11-08T05:19:42.561782  2.789468e-09\n",
       "12  2014-11-08T05:19:43.561782  3.775135e-10\n",
       "13  2014-11-08T05:19:44.561782  5.109089e-11\n",
       "14  2014-11-08T05:19:45.561782  6.914400e-12\n",
       "15  2014-11-08T05:19:46.561782  9.357623e-13\n",
       "16  2014-11-08T05:19:47.561782  2.000000e+00\n",
       "17  2014-11-08T05:19:48.561782  2.000000e+00\n",
       "18  2014-11-08T05:19:49.561782  2.000000e+00\n",
       "19  2014-11-08T05:19:50.561782  2.000000e+00\n",
       "20  2014-11-08T05:19:51.561782  2.000000e+00\n",
       "21  2014-11-08T05:19:52.561782  2.000000e+00\n",
       "22  2014-11-08T05:19:53.561782  2.000000e+00\n",
       "23  2014-11-08T05:19:54.561782  2.000000e+00\n",
       "24  2014-11-08T05:19:55.561782  2.000000e+00\n",
       "25  2014-11-08T05:19:56.561782  1.928750e-21\n",
       "26  2014-11-08T05:19:57.561782  2.610279e-22\n",
       "27  2014-11-08T05:19:58.561782  3.532629e-23\n",
       "28  2014-11-08T05:19:59.561782  4.780893e-24\n",
       "29  2014-11-08T05:20:00.561782  6.470235e-25\n",
       "30  2014-11-08T05:20:01.561782  8.756511e-26\n",
       "31  2014-11-08T05:20:02.561782  1.185065e-26\n",
       "32  2014-11-08T05:20:03.561782  1.603811e-27\n",
       "33  2014-11-08T05:20:04.561782  2.170522e-28\n",
       "34  2014-11-08T05:20:05.561782  2.937482e-29\n",
       "35  2014-11-08T05:20:06.561782  3.975450e-30\n",
       "36  2014-11-08T05:20:07.561782  5.380186e-31\n",
       "37  2014-11-08T05:20:08.561782  7.281290e-32\n",
       "38  2014-11-08T05:20:09.561782  9.854155e-33\n",
       "39  2014-11-08T05:20:10.561782  1.333615e-33\n",
       "40  2014-11-08T05:20:11.561782  1.804851e-34\n",
       "45  2014-11-08T05:20:16.561782  8.194013e-39\n",
       "46  2014-11-08T05:20:17.561782  1.108939e-39\n",
       "47  2014-11-08T05:20:18.561782  1.500786e-40\n",
       "48  2014-11-08T05:20:19.561782  2.031093e-41\n",
       "49  2014-11-08T05:20:20.561782  2.748785e-42"
      ]
     },
     "execution_count": 26,
     "metadata": {},
     "output_type": "execute_result"
    }
   ],
   "source": [
    "# drop missing values (denoted as NaN) in all columns\n",
    "df.dropna()"
   ]
  },
  {
   "cell_type": "markdown",
   "metadata": {},
   "source": [
    "### Using 'matplotlib'"
   ]
  },
  {
   "cell_type": "code",
   "execution_count": 27,
   "metadata": {
    "collapsed": false
   },
   "outputs": [],
   "source": [
    "import pylab as plt\n",
    "%matplotlib inline"
   ]
  },
  {
   "cell_type": "code",
   "execution_count": 28,
   "metadata": {
    "collapsed": false
   },
   "outputs": [
    {
     "data": {
      "image/png": "[encoded data removed]",
      "text/plain": [
       "<matplotlib.figure.Figure at 0x117745810>"
      ]
     },
     "metadata": {},
     "output_type": "display_data"
    }
   ],
   "source": [
    "# copy 'decayArray' into a new array\n",
    "dataArray = decayArray.copy()\n",
    "\n",
    "# handles for x and y columns\n",
    "time = dataArray[:,0]\n",
    "decays = dataArray[:,1]\n",
    "\n",
    "# generate plot\n",
    "plt.plot(time, decays)\n",
    "\n",
    "# set plot options\n",
    "plt.xlabel('Time (s)')\n",
    "plt.ylabel('Decays')\n",
    "plt.title('Decays')\n",
    "plt.grid(True)\n",
    "\n",
    "# save plot as .png-file\n",
    "plt.savefig(\"fig/decays_small_plot.png\")"
   ]
  },
  {
   "cell_type": "code",
   "execution_count": null,
   "metadata": {
    "collapsed": true
   },
   "outputs": [],
   "source": []
  },
  {
   "cell_type": "markdown",
   "metadata": {
    "collapsed": true
   },
   "source": [
    "<i>Notebook by <a href=\"https://www.michaelsjoeberg.com\">Michael Sjoeberg</a>, updated 16 July 2017.</i>"
   ]
  }
 ],
 "metadata": {
  "anaconda-cloud": {},
  "kernelspec": {
   "display_name": "Python [Root]",
   "language": "python",
   "name": "Python [Root]"
  },
  "language_info": {
   "codemirror_mode": {
    "name": "ipython",
    "version": 2
   },
   "file_extension": ".py",
   "mimetype": "text/x-python",
   "name": "python",
   "nbconvert_exporter": "python",
   "pygments_lexer": "ipython2",
   "version": "2.7.12"
  }
 },
 "nbformat": 4,
 "nbformat_minor": 0
}
